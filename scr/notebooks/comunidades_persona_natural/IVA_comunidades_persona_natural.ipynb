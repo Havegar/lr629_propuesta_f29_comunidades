{
 "cells": [
  {
   "cell_type": "markdown",
   "id": "702c3d05-18b5-4aca-8659-fa6be263d345",
   "metadata": {},
   "source": [
    "### IVA intra grupo y extra grupo en comunidades definidas por persona natural asociada"
   ]
  },
  {
   "cell_type": "code",
   "execution_count": 1,
   "id": "5608526c-8aec-4dec-8714-6450d766f023",
   "metadata": {
    "tags": []
   },
   "outputs": [],
   "source": [
    "from pyspark.sql import SparkSession\n",
    "from pyspark.sql.functions import *\n",
    "from pyspark import SparkContext, SparkConf\n",
    "import pyspark\n",
    "import pandas as pd\n",
    "import warnings\n",
    "warnings.filterwarnings('ignore', category=DeprecationWarning)\n",
    "\n",
    "from pyspark_dist_explore import hist\n",
    "import matplotlib.pyplot as plt\n",
    "from pyspark.sql.types import StringType,TimestampType\n"
   ]
  },
  {
   "cell_type": "code",
   "execution_count": 5,
   "id": "69415a50-4994-484b-97f8-7f8654ad9e22",
   "metadata": {
    "tags": []
   },
   "outputs": [],
   "source": [
    "\n",
    "spark = SparkSession.builder \\\n",
    "  .appName(\"Test\")  \\\n",
    "  .config(\"spark.yarn.access.hadoopFileSystems\",\"abfs://data@datalakesii.dfs.core.windows.net/\") \\\n",
    "  .config(\"spark.executor.memory\", \"24g\") \\\n",
    "  .config(\"spark.driver.memory\", \"12g\")\\\n",
    "  .config(\"spark.executor.cores\", \"12\") \\\n",
    "  .config(\"spark.driver.maxResultSize\", \"12g\") \\\n",
    "  .getOrCreate()\n",
    "\n",
    "warnings.filterwarnings('ignore', category=DeprecationWarning)\n",
    "sc=spark.sparkContext\n",
    "sc.setLogLevel ('ERROR')\n",
    "spark.conf.set(\"spark.sql.parquet.int96RebaseModeInRead\", \"CORRECTED\")\n",
    "\n"
   ]
  },
  {
   "cell_type": "markdown",
   "id": "74a3048a-3f22-467e-b301-c516c01d0e56",
   "metadata": {},
   "source": [
    "Leemos la data de los arcos comerciales."
   ]
  },
  {
   "cell_type": "code",
   "execution_count": 6,
   "id": "7d0a9078-3997-4cfb-9e57-4186554e701a",
   "metadata": {
    "tags": []
   },
   "outputs": [],
   "source": [
    "spark.read.parquet(\"abfs://data@datalakesii.dfs.core.windows.net/DatosOrigen/LibSDF/JBA_ARCOS_E\").createOrReplaceTempView(\"arcos\")\n",
    "spark.sql(\"SELECT PARU_RUT_E0, PARU_RUT_E2, Monto_IVA FROM arcos where Monto_IVA>0 order by PARU_RUT_E2 asc\").createOrReplaceTempView(\"arcos\")"
   ]
  },
  {
   "cell_type": "code",
   "execution_count": 7,
   "id": "33009294-1268-49db-b1ec-88aadf693075",
   "metadata": {
    "tags": []
   },
   "outputs": [
    {
     "name": "stderr",
     "output_type": "stream",
     "text": [
      "[Stage 3:====================================================>    (11 + 1) / 12]\r"
     ]
    },
    {
     "name": "stdout",
     "output_type": "stream",
     "text": [
      "+--------------------+--------------------+---------+\n",
      "|         PARU_RUT_E0|         PARU_RUT_E2|Monto_IVA|\n",
      "+--------------------+--------------------+---------+\n",
      "|NaXazswsZodNytTsS...|+++0Re2TkLe14DpcD...|     4890|\n",
      "|0Mc7YtTQj2BeLrOxn...|+++4/3jzUwtDPSSo3...|    30122|\n",
      "|o+qwedorOHCucSLN1...|+++4/3jzUwtDPSSo3...|    29830|\n",
      "|/+eRts6KZwhgL3x63...|+++4/3jzUwtDPSSo3...|  2281443|\n",
      "|9toOnP1MK7aI8vDTK...|+++4/3jzUwtDPSSo3...|    70129|\n",
      "|mNKzwe6Z5TAI7rkgK...|+++4/3jzUwtDPSSo3...|  1092499|\n",
      "|Uu7ofaB+1aDgfENMi...|+++4/3jzUwtDPSSo3...|  2399086|\n",
      "|awn1vGJ0+HsBiLukr...|+++4/3jzUwtDPSSo3...| 30457514|\n",
      "|Va5E3UGP9caIPuMjY...|+++4/3jzUwtDPSSo3...|   764750|\n",
      "|8cFyR319RFkoK3Srp...|+++4/3jzUwtDPSSo3...|     6163|\n",
      "|6WKXhsWH5RlOKIi6v...|+++4/3jzUwtDPSSo3...|  1787519|\n",
      "|NEDDI3b5bkXCP+ae8...|+++4/3jzUwtDPSSo3...| 22352466|\n",
      "|vMIN0af1h36ymVDyc...|+++4/3jzUwtDPSSo3...|     4332|\n",
      "|xir6OxC/tCKNSXtX6...|+++4/3jzUwtDPSSo3...|  1414873|\n",
      "|M9O4fpIGf1Bnwn/XI...|+++4/3jzUwtDPSSo3...|  2878980|\n",
      "|LD33vBbV2xSePcVnE...|+++4/3jzUwtDPSSo3...|   670661|\n",
      "|zta5GIogOOA6sohmj...|+++4/3jzUwtDPSSo3...|  1050586|\n",
      "|Pai2tvkvsPI/rqYAP...|+++4/3jzUwtDPSSo3...|   153490|\n",
      "|s04kNuIGjOmmDq3ip...|+++4/3jzUwtDPSSo3...|   228641|\n",
      "|uTu+52CkIZ2DJ6ddQ...|+++4/3jzUwtDPSSo3...|     7524|\n",
      "+--------------------+--------------------+---------+\n",
      "only showing top 20 rows\n",
      "\n"
     ]
    },
    {
     "name": "stderr",
     "output_type": "stream",
     "text": [
      "                                                                                \r"
     ]
    }
   ],
   "source": [
    "spark.sql('select * from arcos').show()"
   ]
  },
  {
   "cell_type": "markdown",
   "id": "492daf40-320f-4e70-93de-b41a1f4ff8a4",
   "metadata": {},
   "source": [
    "Ahora la data de las sociedades que incluye las caracteristicas asociadadas"
   ]
  },
  {
   "cell_type": "code",
   "execution_count": 8,
   "id": "8df8d7a8-73fe-44ca-8f7d-95baf67066a5",
   "metadata": {
    "tags": []
   },
   "outputs": [
    {
     "name": "stderr",
     "output_type": "stream",
     "text": [
      "                                                                                \r"
     ]
    }
   ],
   "source": [
    "contaminados = spark.read.options(header=True,inferSchema=True,delimiter=\",\").csv(\"/home/cdsw/data/processed/comunidades_persona_natural/comunidades_natural_sociedades.csv\")\n",
    "contaminados.createOrReplaceTempView(\"contaminados\")"
   ]
  },
  {
   "cell_type": "code",
   "execution_count": 9,
   "id": "3314c47e-4acf-4e30-b0da-b5714d078de9",
   "metadata": {
    "tags": []
   },
   "outputs": [
    {
     "name": "stdout",
     "output_type": "stream",
     "text": [
      "+--------------------+--------------------+------------------+--------------------+--------------+-----------+--------------------+------------+--------+--------------+\n",
      "|       SOCIO_NATURAL|SOCIEDAD_RELACIONADA|PORCENTAJE_CAPITAL|               score|total_pago_f29|   IVA_neto|     unidad_regional|n_documentos|lifetime|alerta_inicial|\n",
      "+--------------------+--------------------+------------------+--------------------+--------------+-----------+--------------------+------------+--------+--------------+\n",
      "|+++Dv3VdgQyVqRTgl...|jIjACgvcsprjqLeup...|              24.0|0.052408941789938795|   9.6336447E7|   -5282491|                null|         4.0|   530.0|             0|\n",
      "|+++YLFFod6As3+EIq...|XdNCugfCv/JNxkjsW...|             16.67| 0.06730458372836294|   1.7331782E7|  -12565236|6TA UNIDAD REGION...|        10.0|  3451.0|             0|\n",
      "|+++cWi/r31w33XdNY...|dqMQkYCsU9PCaLwUT...|             100.0|  0.0461122114462416|        9500.0|    -955065|                null|         6.0|   633.0|             0|\n",
      "|+++ummH22IHC2WTkb...|IQuHAph8Cfr+adLj0...|               5.0|0.046502381130680566|           0.0|    1746205|8VA UNIDAD REGION...|        null|  8678.0|             0|\n",
      "|++/WY9IfzTdOaYm/b...|c4z+ez0VWOAMcC03N...|             100.0|0.053099443654620264|           0.0|      71295|5TA UNIDAD REGION...|        null|   986.0|             0|\n",
      "|++/qMXdh0SgFCrn7a...|hRdJVCPUyiFXCi4G4...|              50.0|0.042565156804665105|           0.0|    2115233|19NA UNIDAD REGIO...|         4.0|  3783.0|             0|\n",
      "|++00VLeiwaWmwnNA3...|DJKiBJC3opw4vNtY5...|              2.11|0.038842975962629096|  1.70434298E8| 1127659810|   SANTIAGO PONIENTE|      1211.0|  4449.0|             0|\n",
      "|++0NcIatEVEgy0927...|vgmWEv6Zha6WGImry...|             100.0| 0.05462450519979119|   8.7886883E7|  -71316882|    SANTIAGO ORIENTE|      1355.0|  3485.0|             0|\n",
      "|++0btVP807wo5TQIL...|2flJ+DFTjTbJtNtvx...|              50.0| 0.07072821978333999| 1.309586773E9|-1186199410|     SANTIAGO CENTRO|     30313.0|  5724.0|             0|\n",
      "|++0btVP807wo5TQIL...|3eS0AGv1GH7LQQcci...|               5.0| 0.04909434973609675|   3.5668327E7|   11415934|    SANTIAGO ORIENTE|       747.0|  1739.0|             0|\n",
      "|++0btVP807wo5TQIL...|bxHJ7nbU4yhPoir7L...|               2.0|0.052481353050352356|     7541048.0|  -18745904|    SANTIAGO ORIENTE|        65.0|  1816.0|             0|\n",
      "|++0oswlRcJ8rKYhrx...|mG3PXLi+fz8lc4+/K...|             100.0| 0.06052256334430933|           0.0|    4696056|      SANTIAGO NORTE|         1.0|  2930.0|             0|\n",
      "|++0oswlRcJ8rKYhrx...|nqDYRFrUB8xSVVKvV...|              50.0|0.049954524282959656|       58376.0|     225589|      SANTIAGO NORTE|        null|  1090.0|             0|\n",
      "|++1ECbzN0VJQdAK+m...|k+VtWDD/j94BC82du...|              2.68| 0.13791339182398255|           0.0|    2181617|   SANTIAGO PONIENTE|        null| 10756.0|             0|\n",
      "|++1Hoe5EtScbWarvi...|9CEfAZvy0oED/kkJ3...|              40.0| 0.05446656970577399|           0.0|     833979|    SANTIAGO ORIENTE|        48.0|  2638.0|             0|\n",
      "|++1SnArFzrBB24idi...|Tssf2SyIdTsD72YON...|              10.0| 0.04610535759234378|           0.0|     336044|     SANTIAGO CENTRO|        null|  7703.0|             0|\n",
      "|++1j+u2nzSZF9va9l...|PpekFf0tew7xUhz8H...|             100.0|0.058670475077190996|           0.0|    1552904|      SANTIAGO NORTE|        25.0|   985.0|             0|\n",
      "|++1t25rT81QrYruJi...|eqt4Pw30UI8J7vmog...|              50.0|  0.5297952473564282|       18466.0|    1126733|     SANTIAGO CENTRO|       237.0|  3492.0|             0|\n",
      "|++1t25rT81QrYruJi...|y4mVj9Cbh4tCDspvP...|              50.0|                 1.0|      293725.0|   18154365|     SANTIAGO CENTRO|        88.0|  1630.0|             1|\n",
      "|++1vxv97K1RN+xzZa...|tzYEkjYNCLMJepiGq...|               1.0| 0.04517183974575253|        6821.0|    3500567|19NA UNIDAD REGIO...|       149.0|  5834.0|             0|\n",
      "+--------------------+--------------------+------------------+--------------------+--------------+-----------+--------------------+------------+--------+--------------+\n",
      "only showing top 20 rows\n",
      "\n"
     ]
    }
   ],
   "source": [
    "spark.sql('select * from contaminados').show()"
   ]
  },
  {
   "cell_type": "markdown",
   "id": "0df161f3-8c5d-4901-ba4c-0af210f1fbdb",
   "metadata": {},
   "source": [
    "Ahora hacemos el cruce de los datos para asignar la comunidad a cada entidad de los arcos comerciales, tanto emisor como receptor. "
   ]
  },
  {
   "cell_type": "code",
   "execution_count": 10,
   "id": "f02bcf32-c38e-4e3e-9fb3-e8b2b846e030",
   "metadata": {
    "tags": []
   },
   "outputs": [],
   "source": [
    "spark.sql('select PARU_RUT_E0,contaminados.SOCIO_NATURAL as comunidad_emisor, PARU_RUT_E2, Monto_IVA from arcos left join contaminados on arcos.PARU_RUT_E0=contaminados.SOCIEDAD_RELACIONADA').createOrReplaceTempView('arcos')"
   ]
  },
  {
   "cell_type": "code",
   "execution_count": 11,
   "id": "1020bbb8-85b4-4e9a-ae77-53c0f77a9743",
   "metadata": {
    "tags": []
   },
   "outputs": [],
   "source": [
    "spark.sql('select PARU_RUT_E0 as emisor,comunidad_emisor,PARU_RUT_E2 as receptor,contaminados.SOCIO_NATURAL as comunidad_receptor, Monto_IVA from arcos  left join contaminados on arcos.PARU_RUT_E2=contaminados.SOCIEDAD_RELACIONADA').createOrReplaceTempView('arcos')"
   ]
  },
  {
   "cell_type": "code",
   "execution_count": 13,
   "id": "c1196d6d-f08a-4841-b1b2-b776165e262f",
   "metadata": {
    "tags": []
   },
   "outputs": [
    {
     "name": "stderr",
     "output_type": "stream",
     "text": [
      "[Stage 29:>                                                         (0 + 1) / 1]\r"
     ]
    },
    {
     "name": "stdout",
     "output_type": "stream",
     "text": [
      "+--------------------+--------------------+--------------------+--------------------+---------+\n",
      "|              emisor|    comunidad_emisor|            receptor|  comunidad_receptor|Monto_IVA|\n",
      "+--------------------+--------------------+--------------------+--------------------+---------+\n",
      "|DbYpAClXKcn2JRDAg...|8QGOdi60sf6fihvmi...|++0TZZ4dLrh7Mcrrq...|G1NPZeFPbEvK63iXK...|    11800|\n",
      "|DbYpAClXKcn2JRDAg...|8QGOdi60sf6fihvmi...|++0TZZ4dLrh7Mcrrq...|HuScCDbt9021COD28...|    11800|\n",
      "|DbYpAClXKcn2JRDAg...|xuLC5pFv8KGOVUCL9...|++0TZZ4dLrh7Mcrrq...|G1NPZeFPbEvK63iXK...|    11800|\n",
      "|DbYpAClXKcn2JRDAg...|xuLC5pFv8KGOVUCL9...|++0TZZ4dLrh7Mcrrq...|HuScCDbt9021COD28...|    11800|\n",
      "|FWtmdWaq9VxWjhrzv...|6Wmf/Aknt7B4Ze/Tf...|++0TZZ4dLrh7Mcrrq...|G1NPZeFPbEvK63iXK...|    37278|\n",
      "|FWtmdWaq9VxWjhrzv...|6Wmf/Aknt7B4Ze/Tf...|++0TZZ4dLrh7Mcrrq...|HuScCDbt9021COD28...|    37278|\n",
      "|FWtmdWaq9VxWjhrzv...|6Wmf/Aknt7B4Ze/Tf...|++0TZZ4dLrh7Mcrrq...|G1NPZeFPbEvK63iXK...|    37278|\n",
      "|FWtmdWaq9VxWjhrzv...|6Wmf/Aknt7B4Ze/Tf...|++0TZZ4dLrh7Mcrrq...|HuScCDbt9021COD28...|    37278|\n",
      "|TLpdT44Z5+5e13RxG...|                null|++0TZZ4dLrh7Mcrrq...|G1NPZeFPbEvK63iXK...|     3012|\n",
      "|TLpdT44Z5+5e13RxG...|                null|++0TZZ4dLrh7Mcrrq...|HuScCDbt9021COD28...|     3012|\n",
      "|fNbGIovmthwhGeUH+...|                null|++0TZZ4dLrh7Mcrrq...|G1NPZeFPbEvK63iXK...|     4601|\n",
      "|fNbGIovmthwhGeUH+...|                null|++0TZZ4dLrh7Mcrrq...|HuScCDbt9021COD28...|     4601|\n",
      "|xsKlISs0frxAiZtCB...|EEmE3vn6mtzl8m5Gj...|++0TZZ4dLrh7Mcrrq...|G1NPZeFPbEvK63iXK...|     2625|\n",
      "|xsKlISs0frxAiZtCB...|EEmE3vn6mtzl8m5Gj...|++0TZZ4dLrh7Mcrrq...|HuScCDbt9021COD28...|     2625|\n",
      "|84QM4DYxJsODMucIj...|                null|++0TZZ4dLrh7Mcrrq...|G1NPZeFPbEvK63iXK...|   128426|\n",
      "|84QM4DYxJsODMucIj...|                null|++0TZZ4dLrh7Mcrrq...|HuScCDbt9021COD28...|   128426|\n",
      "|BEUv3VhE9jPXOQYEc...|L4aGLoy/uK3G9EOSF...|++0TZZ4dLrh7Mcrrq...|G1NPZeFPbEvK63iXK...|    12346|\n",
      "|BEUv3VhE9jPXOQYEc...|L4aGLoy/uK3G9EOSF...|++0TZZ4dLrh7Mcrrq...|HuScCDbt9021COD28...|    12346|\n",
      "|BEUv3VhE9jPXOQYEc...|puhO/T4mgPQxBf42f...|++0TZZ4dLrh7Mcrrq...|G1NPZeFPbEvK63iXK...|    12346|\n",
      "|BEUv3VhE9jPXOQYEc...|puhO/T4mgPQxBf42f...|++0TZZ4dLrh7Mcrrq...|HuScCDbt9021COD28...|    12346|\n",
      "+--------------------+--------------------+--------------------+--------------------+---------+\n",
      "only showing top 20 rows\n",
      "\n"
     ]
    },
    {
     "name": "stderr",
     "output_type": "stream",
     "text": [
      "                                                                                \r"
     ]
    }
   ],
   "source": [
    "spark.sql('select * from arcos where comunidad_emisor is not null or comunidad_receptor is not null').createOrReplaceTempView('arcos')\n",
    "spark.sql('select * from arcos').show()\n"
   ]
  },
  {
   "cell_type": "markdown",
   "id": "987ff87f-936f-4ad9-b356-2b479f7b4fd3",
   "metadata": {},
   "source": [
    "Se calcula la emision intragrupo, extragrupo, recepcion intragrupo y extragrupo"
   ]
  },
  {
   "cell_type": "code",
   "execution_count": 15,
   "id": "748b3b55-d339-475c-ae1c-1175048d6a69",
   "metadata": {},
   "outputs": [],
   "source": [
    "spark.sql('select comunidad_emisor as comunidad, sum(Monto_IVA) as emision_intragrupo from arcos where comunidad_emisor=comunidad_receptor and comunidad_emisor is not null group by comunidad_emisor order by comunidad_emisor asc').createOrReplaceTempView('emision_intra')\n",
    "spark.sql('select comunidad_emisor as comunidad, sum(Monto_IVA) as emision_extragrupo from arcos where comunidad_emisor<>comunidad_receptor and comunidad_emisor is not null group by comunidad_emisor order by comunidad_emisor asc').createOrReplaceTempView('emision_extra')"
   ]
  },
  {
   "cell_type": "code",
   "execution_count": 16,
   "id": "89077a92-e9f4-44e9-9e47-d79cfa4aa55d",
   "metadata": {
    "tags": []
   },
   "outputs": [],
   "source": [
    "spark.sql('select comunidad_receptor as comunidad, sum(Monto_IVA) as recepcion_intragrupo from arcos where comunidad_emisor=comunidad_receptor and comunidad_receptor is not null group by comunidad_receptor order by comunidad_receptor asc').createOrReplaceTempView('recepcion_intra')\n",
    "spark.sql('select comunidad_receptor as comunidad, sum(Monto_IVA) as recepcion_extragrupo from arcos where comunidad_emisor<>comunidad_receptor and comunidad_receptor is not null group by comunidad_receptor order by comunidad_receptor asc').createOrReplaceTempView('recepcion_extra')"
   ]
  },
  {
   "cell_type": "code",
   "execution_count": 17,
   "id": "60000de7-94ce-45f7-93bc-7d715abcb5d8",
   "metadata": {
    "tags": []
   },
   "outputs": [],
   "source": [
    "spark.sql('select emision_intra.comunidad as comunidad, emision_intragrupo, emision_extragrupo from emision_intra left join emision_extra on emision_extra.comunidad=emision_intra.comunidad order by emision_intra.comunidad asc').createOrReplaceTempView('emision')\n",
    "spark.sql('select recepcion_intra.comunidad as comunidad, recepcion_intragrupo, recepcion_extragrupo from recepcion_intra left join recepcion_extra on recepcion_extra.comunidad=recepcion_intra.comunidad order by recepcion_intra.comunidad asc').createOrReplaceTempView('recepcion')"
   ]
  },
  {
   "cell_type": "code",
   "execution_count": 18,
   "id": "25743822-951c-4f6f-9a67-a4987c75c1a8",
   "metadata": {
    "tags": []
   },
   "outputs": [
    {
     "name": "stderr",
     "output_type": "stream",
     "text": [
      "                                                                                \r"
     ]
    },
    {
     "name": "stdout",
     "output_type": "stream",
     "text": [
      "+--------------------+------------------+------------------+\n",
      "|                 com|emision_intragrupo|emision_extragrupo|\n",
      "+--------------------+------------------+------------------+\n",
      "|++Caq2tCTZVamYIfc...|              null|          13778449|\n",
      "|++KCc/MVDP3ZynZeM...|              null|           1026000|\n",
      "|++ZMxopSezccQ68rh...|           3498780|            716429|\n",
      "|++hTFfaZMZtHqOlN7...|              null|            131725|\n",
      "|+/IF5eqZiMx47fQ7S...|              null|          84190386|\n",
      "|+/R99eCcq/2nAFv0F...|              null|           4959000|\n",
      "|+/pGVOWOBWPL2SXJp...|              null|          62159260|\n",
      "|+08zX8z3f1EdujiII...|              null|         636858052|\n",
      "|+0JD7POp6ffyp0PJt...|              null|          11762669|\n",
      "|+0Nc87eI/yCDtlot+...|              null|            570000|\n",
      "|+11BMfiAh5lEdW5RS...|          39160067|          94973200|\n",
      "|+1Ze8nOcYx8/47/LU...|              null|            631903|\n",
      "|+1qFMTZgSWYfxcKtF...|              null|          30546794|\n",
      "|+1ryifBASmmOuAhSS...|              null|          27364788|\n",
      "|+3GuBjxTwTPXqomch...|              null|            335848|\n",
      "|+3X+eYFu7MocygShp...|              null|           1614331|\n",
      "|+3Xa7DyHg7GgFLPFX...|              null|         446356605|\n",
      "|+3r+g1tS5OXC83FK8...|              null|           5052881|\n",
      "|+4/AoGvJ6CN30WeRH...|              null|           4206489|\n",
      "|+4C1rDcmG1VwSotvN...|              null|             67450|\n",
      "+--------------------+------------------+------------------+\n",
      "only showing top 20 rows\n",
      "\n"
     ]
    },
    {
     "name": "stderr",
     "output_type": "stream",
     "text": [
      "[Stage 71:======================>                                (16 + 24) / 40]\r"
     ]
    },
    {
     "name": "stdout",
     "output_type": "stream",
     "text": [
      "+--------------------+--------------------+--------------------+\n",
      "|                 com|recepcion_intragrupo|recepcion_extragrupo|\n",
      "+--------------------+--------------------+--------------------+\n",
      "|UfGg9ixrG8p2feWLm...|       4083634963740|      18445396318245|\n",
      "|uh8tD5PEoaxuj3cnb...|       4037774442074|      17790641801428|\n",
      "|waBLUj802RuChBHz1...|       4037680963610|      17788875126265|\n",
      "|ztS6xIJHXpmN97spc...|       4037680963610|      17788744642682|\n",
      "|1t4zCVvjFzlmBNgTX...|        997737051059|       9873467982932|\n",
      "|hn4wPfnKswm2QpmRU...|        937136159623|       5792937204909|\n",
      "|R7lHGXYbS/ik1uaOR...|        936993029811|       5792301325366|\n",
      "|fLcCg9PTTyZVGoHOo...|        736267729078|       3632091518355|\n",
      "|LThgFHnXs6qXR7CYM...|        629415347925|       4796368743849|\n",
      "|GUtDd660kpBvQ6xOQ...|        629415347925|       4794223400408|\n",
      "|ir6Wqb/x+bmjr7k5V...|        508097620400|       1986352594567|\n",
      "|wMcdnmkumdkkLEIpS...|        401047958414|       2762595581988|\n",
      "|eSnTpH2uJFseALEoK...|        400972266326|       2759448458579|\n",
      "|Q3hFJg2VIK7Le057L...|        393865474409|       4304875465830|\n",
      "|7wTWTV/LxXDJp8Llc...|        298893252876|       3985194848358|\n",
      "|k5hig/Do+AJePuGnY...|        298893252876|       3985285179013|\n",
      "|JwjdOVjw8M323BbBQ...|        298893252876|       3985194780058|\n",
      "|B/3f+SoLdgEV4BRjO...|        274029037159|      15005348176658|\n",
      "|vSf0yIdRsmOo1JOW2...|        274028650419|      15005290783536|\n",
      "|N5mnfbXDGUtMGidzV...|        274028463779|      15005259881867|\n",
      "+--------------------+--------------------+--------------------+\n",
      "only showing top 20 rows\n",
      "\n"
     ]
    },
    {
     "name": "stderr",
     "output_type": "stream",
     "text": [
      "                                                                                \r"
     ]
    }
   ],
   "source": [
    "spark.sql('select case when emision_intra.comunidad is null then emision_extra.comunidad else emision_intra.comunidad end as com, emision_intragrupo, emision_extragrupo from emision_intra full outer join emision_extra on emision_extra.comunidad=emision_intra.comunidad').createOrReplaceTempView('emision')\n",
    "spark.sql('select * from emision').show()\n",
    "spark.sql('select case when recepcion_intra.comunidad is null then recepcion_extra.comunidad else recepcion_intra.comunidad end as com, recepcion_intragrupo, recepcion_extragrupo from recepcion_intra full outer join recepcion_extra on recepcion_extra.comunidad=recepcion_intra.comunidad order by recepcion_intra.comunidad asc').createOrReplaceTempView('recepcion')\n",
    "spark.sql('select * from recepcion order by recepcion_intragrupo desc').show()"
   ]
  },
  {
   "cell_type": "code",
   "execution_count": 19,
   "id": "5b9b09f8-cc00-4e91-a8ec-abdc54c2bf91",
   "metadata": {
    "tags": []
   },
   "outputs": [
    {
     "name": "stderr",
     "output_type": "stream",
     "text": [
      "[Stage 105:===========================================>         (83 + 17) / 100]\r"
     ]
    },
    {
     "name": "stdout",
     "output_type": "stream",
     "text": [
      "+--------------------+------------------+------------------+--------------------+--------------------+\n",
      "|           comunidad|emision_intragrupo|emision_extragrupo|recepcion_intragrupo|recepcion_extragrupo|\n",
      "+--------------------+------------------+------------------+--------------------+--------------------+\n",
      "|++Caq2tCTZVamYIfc...|              null|          13778449|                null|            88667307|\n",
      "|++KCc/MVDP3ZynZeM...|              null|           1026000|                null|             1509331|\n",
      "|++ZMxopSezccQ68rh...|           3498780|            716429|             3498780|            57674355|\n",
      "|++hTFfaZMZtHqOlN7...|              null|            131725|                null|             8907030|\n",
      "|+/GP2pgvQ+KWPs5dT...|              null|              null|                null|             3154320|\n",
      "|+/IF5eqZiMx47fQ7S...|              null|          84190386|                null|            39164788|\n",
      "|+/R99eCcq/2nAFv0F...|              null|           4959000|                null|             5048825|\n",
      "|+/pGVOWOBWPL2SXJp...|              null|          62159260|                null|            83160548|\n",
      "|+08zX8z3f1EdujiII...|              null|         636858052|                null|           164798118|\n",
      "|+0BpyNWw3vgTiCFvS...|              null|              null|                null|              104757|\n",
      "|+0JD7POp6ffyp0PJt...|              null|          11762669|                null|            12041688|\n",
      "|+0Nc87eI/yCDtlot+...|              null|            570000|                null|              603232|\n",
      "|+11BMfiAh5lEdW5RS...|          39160067|          94973200|            39160067|           895515089|\n",
      "|+17mpCwISO9S5/w88...|              null|              null|                null|             1875154|\n",
      "|+1FEqz2gVeZGPdA+B...|              null|              null|                null|             5392200|\n",
      "|+1IzeuJHDX5ioiYnm...|              null|              null|                null|              466991|\n",
      "|+1TqvgomriZ4ClrAk...|              null|              null|                null|               54206|\n",
      "|+1Ze8nOcYx8/47/LU...|              null|            631903|                null|              566413|\n",
      "|+1qFMTZgSWYfxcKtF...|              null|          30546794|                null|             3657453|\n",
      "|+1qWDHxDZwed4J7NB...|              null|              null|                null|             8023381|\n",
      "+--------------------+------------------+------------------+--------------------+--------------------+\n",
      "only showing top 20 rows\n",
      "\n"
     ]
    },
    {
     "name": "stderr",
     "output_type": "stream",
     "text": [
      "                                                                                \r"
     ]
    }
   ],
   "source": [
    "aux=spark.sql('select case when emision.com is null then recepcion.com else emision.com end as comunidad, emision_intragrupo, emision_extragrupo,  recepcion_intragrupo, recepcion_extragrupo from emision full outer join recepcion on emision.com=recepcion.com')\n",
    "aux.show()\n",
    "aux.createOrReplaceTempView('iva_comunidad')"
   ]
  },
  {
   "cell_type": "markdown",
   "id": "db547bb9-a5a0-4e1c-bf9b-49f4deba8086",
   "metadata": {},
   "source": [
    "Tambien definimos algunas tasas de comparacion entre montos de IVA"
   ]
  },
  {
   "cell_type": "code",
   "execution_count": 20,
   "id": "839eaef8-198d-4817-a013-db729d420e57",
   "metadata": {},
   "outputs": [],
   "source": [
    "spark.sql('select comunidad, emision_extragrupo/(emision_intragrupo+emision_extragrupo)*100 as perct_emision_extra,recepcion_extragrupo/(recepcion_intragrupo+recepcion_extragrupo)*100 as perct_recepcion_extra,emision_extragrupo, recepcion_extragrupo,emision_intragrupo, emision_extragrupo/emision_intragrupo as tasa_emision_extra_intra from iva_comunidad').createOrReplaceTempView('iva_comunidad')"
   ]
  },
  {
   "cell_type": "code",
   "execution_count": 21,
   "id": "8be5b558-d0a3-4967-b662-a5b22e786b41",
   "metadata": {
    "tags": []
   },
   "outputs": [
    {
     "name": "stderr",
     "output_type": "stream",
     "text": [
      "[Stage 140:===================================================> (193 + 7) / 200]3]]\r"
     ]
    },
    {
     "name": "stdout",
     "output_type": "stream",
     "text": [
      "+--------------------+-------------------+---------------------+------------------+--------------------+------------------+------------------------+\n",
      "|           comunidad|perct_emision_extra|perct_recepcion_extra|emision_extragrupo|recepcion_extragrupo|emision_intragrupo|tasa_emision_extra_intra|\n",
      "+--------------------+-------------------+---------------------+------------------+--------------------+------------------+------------------------+\n",
      "|++Caq2tCTZVamYIfc...|               null|                 null|          13778449|            88667307|              null|                    null|\n",
      "|++KCc/MVDP3ZynZeM...|               null|                 null|           1026000|             1509331|              null|                    null|\n",
      "|++ZMxopSezccQ68rh...|  16.99628654237548|     94.2805285359333|            716429|            57674355|           3498780|       0.204765375359411|\n",
      "|++hTFfaZMZtHqOlN7...|               null|                 null|            131725|             8907030|              null|                    null|\n",
      "|+/GP2pgvQ+KWPs5dT...|               null|                 null|              null|             3154320|              null|                    null|\n",
      "|+/IF5eqZiMx47fQ7S...|               null|                 null|          84190386|            39164788|              null|                    null|\n",
      "|+/R99eCcq/2nAFv0F...|               null|                 null|           4959000|             5048825|              null|                    null|\n",
      "|+/pGVOWOBWPL2SXJp...|               null|                 null|          62159260|            83160548|              null|                    null|\n",
      "|+08zX8z3f1EdujiII...|               null|                 null|         636858052|           164798118|              null|                    null|\n",
      "|+0BpyNWw3vgTiCFvS...|               null|                 null|              null|              104757|              null|                    null|\n",
      "|+0JD7POp6ffyp0PJt...|               null|                 null|          11762669|            12041688|              null|                    null|\n",
      "|+0Nc87eI/yCDtlot+...|               null|                 null|            570000|              603232|              null|                    null|\n",
      "|+11BMfiAh5lEdW5RS...|  70.80510459795182|    95.81030192697237|          94973200|           895515089|          39160067|      2.4252563204245794|\n",
      "|+17mpCwISO9S5/w88...|               null|                 null|              null|             1875154|              null|                    null|\n",
      "|+1FEqz2gVeZGPdA+B...|               null|                 null|              null|             5392200|              null|                    null|\n",
      "|+1IzeuJHDX5ioiYnm...|               null|                 null|              null|              466991|              null|                    null|\n",
      "|+1TqvgomriZ4ClrAk...|               null|                 null|              null|               54206|              null|                    null|\n",
      "|+1Ze8nOcYx8/47/LU...|               null|                 null|            631903|              566413|              null|                    null|\n",
      "|+1qFMTZgSWYfxcKtF...|               null|                 null|          30546794|             3657453|              null|                    null|\n",
      "|+1qWDHxDZwed4J7NB...|               null|                 null|              null|             8023381|              null|                    null|\n",
      "+--------------------+-------------------+---------------------+------------------+--------------------+------------------+------------------------+\n",
      "only showing top 20 rows\n",
      "\n"
     ]
    },
    {
     "name": "stderr",
     "output_type": "stream",
     "text": [
      "                                                                                \r"
     ]
    }
   ],
   "source": [
    "spark.sql('select * from iva_comunidad').show()"
   ]
  },
  {
   "cell_type": "markdown",
   "id": "d0bf82b9-554c-4905-b6c1-1e983aac0c9d",
   "metadata": {},
   "source": [
    "Ahora ya podemos agregar los datos de IVA del grupo a la estadistica general por grupo"
   ]
  },
  {
   "cell_type": "code",
   "execution_count": 22,
   "id": "c1ec07d9-2562-4759-bb0d-4ec9b924b6aa",
   "metadata": {
    "tags": []
   },
   "outputs": [
    {
     "name": "stderr",
     "output_type": "stream",
     "text": [
      "                                                                                \r"
     ]
    }
   ],
   "source": [
    "data_comunidades = spark.read.options(header=True,inferSchema=True,delimiter=\",\").csv(\"/home/cdsw/data/processed/comunidades_persona_natural/estadistica_comunidades_persona_natural.csv\")\n",
    "data_comunidades.createOrReplaceTempView(\"data_comunidades\")"
   ]
  },
  {
   "cell_type": "code",
   "execution_count": 23,
   "id": "5195568f-8f1c-4bf1-8fb0-375cec122411",
   "metadata": {
    "tags": []
   },
   "outputs": [
    {
     "name": "stderr",
     "output_type": "stream",
     "text": [
      "                                                                                ]]\r"
     ]
    },
    {
     "data": {
      "text/html": [
       "<div>\n",
       "<style scoped>\n",
       "    .dataframe tbody tr th:only-of-type {\n",
       "        vertical-align: middle;\n",
       "    }\n",
       "\n",
       "    .dataframe tbody tr th {\n",
       "        vertical-align: top;\n",
       "    }\n",
       "\n",
       "    .dataframe thead th {\n",
       "        text-align: right;\n",
       "    }\n",
       "</style>\n",
       "<table border=\"1\" class=\"dataframe\">\n",
       "  <thead>\n",
       "    <tr style=\"text-align: right;\">\n",
       "      <th></th>\n",
       "      <th>SOCIO_NATURAL</th>\n",
       "      <th>promedio_score</th>\n",
       "      <th>miembros</th>\n",
       "      <th>porcentaje_capital_promedio</th>\n",
       "      <th>contaminados_iniciales</th>\n",
       "      <th>promedio_total_pago_f29</th>\n",
       "      <th>nulos_total_pago_f29</th>\n",
       "      <th>promedio_IVA_neto</th>\n",
       "      <th>nulos_IVA_neto</th>\n",
       "      <th>promedio_n_documentos</th>\n",
       "      <th>...</th>\n",
       "      <th>promedio_lifetime</th>\n",
       "      <th>nulos_lifetime</th>\n",
       "      <th>moda_unidad_regional</th>\n",
       "      <th>frecuencia_unidad_regional</th>\n",
       "      <th>perct_emision_extra</th>\n",
       "      <th>perct_recepcion_extra</th>\n",
       "      <th>emision_extragrupo</th>\n",
       "      <th>recepcion_extragrupo</th>\n",
       "      <th>emision_intragrupo</th>\n",
       "      <th>tasa_emision_extra_intra</th>\n",
       "    </tr>\n",
       "  </thead>\n",
       "  <tbody>\n",
       "    <tr>\n",
       "      <th>693976</th>\n",
       "      <td>EgncfzLr96E5YqclN5apDA==</td>\n",
       "      <td>1.000108</td>\n",
       "      <td>1</td>\n",
       "      <td>100.0</td>\n",
       "      <td>0</td>\n",
       "      <td>1018068.0</td>\n",
       "      <td>0</td>\n",
       "      <td>-601197688.0</td>\n",
       "      <td>0</td>\n",
       "      <td>299.0</td>\n",
       "      <td>...</td>\n",
       "      <td>2324.0</td>\n",
       "      <td>0</td>\n",
       "      <td>SANTIAGO CENTRO</td>\n",
       "      <td>1</td>\n",
       "      <td>NaN</td>\n",
       "      <td>NaN</td>\n",
       "      <td>NaN</td>\n",
       "      <td>940138.0</td>\n",
       "      <td>NaN</td>\n",
       "      <td>NaN</td>\n",
       "    </tr>\n",
       "    <tr>\n",
       "      <th>357414</th>\n",
       "      <td>f7Itm9gvmRU9i11YqRwMCg==</td>\n",
       "      <td>1.000082</td>\n",
       "      <td>1</td>\n",
       "      <td>50.0</td>\n",
       "      <td>0</td>\n",
       "      <td>12834338.0</td>\n",
       "      <td>0</td>\n",
       "      <td>-8162942.0</td>\n",
       "      <td>0</td>\n",
       "      <td>833.0</td>\n",
       "      <td>...</td>\n",
       "      <td>1064.0</td>\n",
       "      <td>0</td>\n",
       "      <td>SANTIAGO ORIENTE</td>\n",
       "      <td>1</td>\n",
       "      <td>NaN</td>\n",
       "      <td>NaN</td>\n",
       "      <td>526099062.0</td>\n",
       "      <td>NaN</td>\n",
       "      <td>NaN</td>\n",
       "      <td>NaN</td>\n",
       "    </tr>\n",
       "    <tr>\n",
       "      <th>699707</th>\n",
       "      <td>nNhyGxkgL+Kv635SYh8oSA==</td>\n",
       "      <td>1.000082</td>\n",
       "      <td>1</td>\n",
       "      <td>50.0</td>\n",
       "      <td>0</td>\n",
       "      <td>12834338.0</td>\n",
       "      <td>0</td>\n",
       "      <td>-8162942.0</td>\n",
       "      <td>0</td>\n",
       "      <td>833.0</td>\n",
       "      <td>...</td>\n",
       "      <td>1064.0</td>\n",
       "      <td>0</td>\n",
       "      <td>SANTIAGO ORIENTE</td>\n",
       "      <td>1</td>\n",
       "      <td>NaN</td>\n",
       "      <td>NaN</td>\n",
       "      <td>526099062.0</td>\n",
       "      <td>NaN</td>\n",
       "      <td>NaN</td>\n",
       "      <td>NaN</td>\n",
       "    </tr>\n",
       "    <tr>\n",
       "      <th>539427</th>\n",
       "      <td>HurmT3qxIftfZhAkan1cug==</td>\n",
       "      <td>1.000079</td>\n",
       "      <td>1</td>\n",
       "      <td>100.0</td>\n",
       "      <td>0</td>\n",
       "      <td>0.0</td>\n",
       "      <td>0</td>\n",
       "      <td>484553.0</td>\n",
       "      <td>0</td>\n",
       "      <td>NaN</td>\n",
       "      <td>...</td>\n",
       "      <td>1371.0</td>\n",
       "      <td>0</td>\n",
       "      <td>SANTIAGO ORIENTE</td>\n",
       "      <td>1</td>\n",
       "      <td>NaN</td>\n",
       "      <td>NaN</td>\n",
       "      <td>NaN</td>\n",
       "      <td>418190.0</td>\n",
       "      <td>NaN</td>\n",
       "      <td>NaN</td>\n",
       "    </tr>\n",
       "    <tr>\n",
       "      <th>234988</th>\n",
       "      <td>oeeV712hCnnCh5/wSK9Jtg==</td>\n",
       "      <td>1.000064</td>\n",
       "      <td>1</td>\n",
       "      <td>100.0</td>\n",
       "      <td>1</td>\n",
       "      <td>82553.0</td>\n",
       "      <td>0</td>\n",
       "      <td>-9523758.0</td>\n",
       "      <td>0</td>\n",
       "      <td>24.0</td>\n",
       "      <td>...</td>\n",
       "      <td>719.0</td>\n",
       "      <td>0</td>\n",
       "      <td>SANTIAGO NORTE</td>\n",
       "      <td>1</td>\n",
       "      <td>NaN</td>\n",
       "      <td>NaN</td>\n",
       "      <td>17456201.0</td>\n",
       "      <td>7932443.0</td>\n",
       "      <td>NaN</td>\n",
       "      <td>NaN</td>\n",
       "    </tr>\n",
       "    <tr>\n",
       "      <th>736539</th>\n",
       "      <td>MZITWUtgA03WDt4EvpmZtA==</td>\n",
       "      <td>1.000060</td>\n",
       "      <td>1</td>\n",
       "      <td>100.0</td>\n",
       "      <td>0</td>\n",
       "      <td>2282.0</td>\n",
       "      <td>0</td>\n",
       "      <td>6523521.0</td>\n",
       "      <td>0</td>\n",
       "      <td>187.0</td>\n",
       "      <td>...</td>\n",
       "      <td>1526.0</td>\n",
       "      <td>0</td>\n",
       "      <td>SANTIAGO CENTRO</td>\n",
       "      <td>1</td>\n",
       "      <td>NaN</td>\n",
       "      <td>NaN</td>\n",
       "      <td>265607747.0</td>\n",
       "      <td>267287537.0</td>\n",
       "      <td>NaN</td>\n",
       "      <td>NaN</td>\n",
       "    </tr>\n",
       "    <tr>\n",
       "      <th>590788</th>\n",
       "      <td>Ef3Ia+0Fyw+jiMd2BPiJjQ==</td>\n",
       "      <td>1.000054</td>\n",
       "      <td>1</td>\n",
       "      <td>100.0</td>\n",
       "      <td>0</td>\n",
       "      <td>NaN</td>\n",
       "      <td>1</td>\n",
       "      <td>-16665332.0</td>\n",
       "      <td>0</td>\n",
       "      <td>9.0</td>\n",
       "      <td>...</td>\n",
       "      <td>906.0</td>\n",
       "      <td>0</td>\n",
       "      <td>SANTIAGO PONIENTE</td>\n",
       "      <td>1</td>\n",
       "      <td>NaN</td>\n",
       "      <td>NaN</td>\n",
       "      <td>11039023.0</td>\n",
       "      <td>2941123.0</td>\n",
       "      <td>NaN</td>\n",
       "      <td>NaN</td>\n",
       "    </tr>\n",
       "    <tr>\n",
       "      <th>437452</th>\n",
       "      <td>QI2rHSCeV9OZEnBM4/LDFQ==</td>\n",
       "      <td>1.000052</td>\n",
       "      <td>2</td>\n",
       "      <td>100.0</td>\n",
       "      <td>2</td>\n",
       "      <td>0.0</td>\n",
       "      <td>0</td>\n",
       "      <td>-55527874.5</td>\n",
       "      <td>0</td>\n",
       "      <td>52.5</td>\n",
       "      <td>...</td>\n",
       "      <td>685.0</td>\n",
       "      <td>0</td>\n",
       "      <td>SANTIAGO ORIENTE</td>\n",
       "      <td>2</td>\n",
       "      <td>99.054493</td>\n",
       "      <td>99.314263</td>\n",
       "      <td>139335234.0</td>\n",
       "      <td>192622000.0</td>\n",
       "      <td>1330000.0</td>\n",
       "      <td>104.763334</td>\n",
       "    </tr>\n",
       "    <tr>\n",
       "      <th>1000793</th>\n",
       "      <td>m75c+EoweYx/n0rqlB0/BQ==</td>\n",
       "      <td>1.000051</td>\n",
       "      <td>2</td>\n",
       "      <td>100.0</td>\n",
       "      <td>0</td>\n",
       "      <td>59438.0</td>\n",
       "      <td>0</td>\n",
       "      <td>-8729223.0</td>\n",
       "      <td>0</td>\n",
       "      <td>82.0</td>\n",
       "      <td>...</td>\n",
       "      <td>594.0</td>\n",
       "      <td>0</td>\n",
       "      <td>Sin Moda</td>\n",
       "      <td>0</td>\n",
       "      <td>NaN</td>\n",
       "      <td>NaN</td>\n",
       "      <td>128944126.0</td>\n",
       "      <td>182496899.0</td>\n",
       "      <td>NaN</td>\n",
       "      <td>NaN</td>\n",
       "    </tr>\n",
       "    <tr>\n",
       "      <th>661753</th>\n",
       "      <td>7989PjN7FYatrx6KTdwJDg==</td>\n",
       "      <td>1.000047</td>\n",
       "      <td>5</td>\n",
       "      <td>80.0</td>\n",
       "      <td>5</td>\n",
       "      <td>0.0</td>\n",
       "      <td>0</td>\n",
       "      <td>-57348364.8</td>\n",
       "      <td>0</td>\n",
       "      <td>19.2</td>\n",
       "      <td>...</td>\n",
       "      <td>723.0</td>\n",
       "      <td>0</td>\n",
       "      <td>SANTIAGO ORIENTE</td>\n",
       "      <td>5</td>\n",
       "      <td>75.950681</td>\n",
       "      <td>0.100479</td>\n",
       "      <td>260109618.0</td>\n",
       "      <td>82840.0</td>\n",
       "      <td>82362122.0</td>\n",
       "      <td>3.158122</td>\n",
       "    </tr>\n",
       "    <tr>\n",
       "      <th>102828</th>\n",
       "      <td>y9CoyCDMP6yoxktfQKgUCw==</td>\n",
       "      <td>1.000046</td>\n",
       "      <td>1</td>\n",
       "      <td>50.0</td>\n",
       "      <td>0</td>\n",
       "      <td>1673264.0</td>\n",
       "      <td>0</td>\n",
       "      <td>-17401688.0</td>\n",
       "      <td>0</td>\n",
       "      <td>153.0</td>\n",
       "      <td>...</td>\n",
       "      <td>2860.0</td>\n",
       "      <td>0</td>\n",
       "      <td>SANTIAGO CENTRO</td>\n",
       "      <td>1</td>\n",
       "      <td>NaN</td>\n",
       "      <td>NaN</td>\n",
       "      <td>94711054.0</td>\n",
       "      <td>59202048.0</td>\n",
       "      <td>NaN</td>\n",
       "      <td>NaN</td>\n",
       "    </tr>\n",
       "    <tr>\n",
       "      <th>6897</th>\n",
       "      <td>fCDdHjguOxbiYkiFxDVlfQ==</td>\n",
       "      <td>1.000046</td>\n",
       "      <td>1</td>\n",
       "      <td>50.0</td>\n",
       "      <td>0</td>\n",
       "      <td>1673264.0</td>\n",
       "      <td>0</td>\n",
       "      <td>-17401688.0</td>\n",
       "      <td>0</td>\n",
       "      <td>153.0</td>\n",
       "      <td>...</td>\n",
       "      <td>2860.0</td>\n",
       "      <td>0</td>\n",
       "      <td>SANTIAGO CENTRO</td>\n",
       "      <td>1</td>\n",
       "      <td>NaN</td>\n",
       "      <td>NaN</td>\n",
       "      <td>94711054.0</td>\n",
       "      <td>59202048.0</td>\n",
       "      <td>NaN</td>\n",
       "      <td>NaN</td>\n",
       "    </tr>\n",
       "    <tr>\n",
       "      <th>664000</th>\n",
       "      <td>LFTXIpLyAAqYZx0wuIqGQQ==</td>\n",
       "      <td>1.000040</td>\n",
       "      <td>1</td>\n",
       "      <td>100.0</td>\n",
       "      <td>0</td>\n",
       "      <td>NaN</td>\n",
       "      <td>1</td>\n",
       "      <td>26600.0</td>\n",
       "      <td>0</td>\n",
       "      <td>NaN</td>\n",
       "      <td>...</td>\n",
       "      <td>3336.0</td>\n",
       "      <td>0</td>\n",
       "      <td>9NA UNIDAD REGIONAL TEMUCO</td>\n",
       "      <td>1</td>\n",
       "      <td>NaN</td>\n",
       "      <td>NaN</td>\n",
       "      <td>NaN</td>\n",
       "      <td>53200.0</td>\n",
       "      <td>NaN</td>\n",
       "      <td>NaN</td>\n",
       "    </tr>\n",
       "    <tr>\n",
       "      <th>988816</th>\n",
       "      <td>d28vHYVWQrfHppF3ZDPKdA==</td>\n",
       "      <td>1.000039</td>\n",
       "      <td>1</td>\n",
       "      <td>100.0</td>\n",
       "      <td>1</td>\n",
       "      <td>124858.0</td>\n",
       "      <td>0</td>\n",
       "      <td>-393208.0</td>\n",
       "      <td>0</td>\n",
       "      <td>8.0</td>\n",
       "      <td>...</td>\n",
       "      <td>600.0</td>\n",
       "      <td>0</td>\n",
       "      <td>Sin Moda</td>\n",
       "      <td>0</td>\n",
       "      <td>NaN</td>\n",
       "      <td>NaN</td>\n",
       "      <td>21946755.0</td>\n",
       "      <td>21325325.0</td>\n",
       "      <td>NaN</td>\n",
       "      <td>NaN</td>\n",
       "    </tr>\n",
       "    <tr>\n",
       "      <th>843164</th>\n",
       "      <td>ahV3KsKkCFXby+4WJRSfGQ==</td>\n",
       "      <td>1.000037</td>\n",
       "      <td>1</td>\n",
       "      <td>100.0</td>\n",
       "      <td>1</td>\n",
       "      <td>135348.0</td>\n",
       "      <td>0</td>\n",
       "      <td>-125784054.0</td>\n",
       "      <td>0</td>\n",
       "      <td>72.0</td>\n",
       "      <td>...</td>\n",
       "      <td>1273.0</td>\n",
       "      <td>0</td>\n",
       "      <td>SANTIAGO ORIENTE</td>\n",
       "      <td>1</td>\n",
       "      <td>NaN</td>\n",
       "      <td>NaN</td>\n",
       "      <td>76688283.0</td>\n",
       "      <td>213750.0</td>\n",
       "      <td>NaN</td>\n",
       "      <td>NaN</td>\n",
       "    </tr>\n",
       "  </tbody>\n",
       "</table>\n",
       "<p>15 rows × 21 columns</p>\n",
       "</div>"
      ],
      "text/plain": [
       "                    SOCIO_NATURAL  promedio_score  miembros  \\\n",
       "693976   EgncfzLr96E5YqclN5apDA==        1.000108         1   \n",
       "357414   f7Itm9gvmRU9i11YqRwMCg==        1.000082         1   \n",
       "699707   nNhyGxkgL+Kv635SYh8oSA==        1.000082         1   \n",
       "539427   HurmT3qxIftfZhAkan1cug==        1.000079         1   \n",
       "234988   oeeV712hCnnCh5/wSK9Jtg==        1.000064         1   \n",
       "736539   MZITWUtgA03WDt4EvpmZtA==        1.000060         1   \n",
       "590788   Ef3Ia+0Fyw+jiMd2BPiJjQ==        1.000054         1   \n",
       "437452   QI2rHSCeV9OZEnBM4/LDFQ==        1.000052         2   \n",
       "1000793  m75c+EoweYx/n0rqlB0/BQ==        1.000051         2   \n",
       "661753   7989PjN7FYatrx6KTdwJDg==        1.000047         5   \n",
       "102828   y9CoyCDMP6yoxktfQKgUCw==        1.000046         1   \n",
       "6897     fCDdHjguOxbiYkiFxDVlfQ==        1.000046         1   \n",
       "664000   LFTXIpLyAAqYZx0wuIqGQQ==        1.000040         1   \n",
       "988816   d28vHYVWQrfHppF3ZDPKdA==        1.000039         1   \n",
       "843164   ahV3KsKkCFXby+4WJRSfGQ==        1.000037         1   \n",
       "\n",
       "         porcentaje_capital_promedio  contaminados_iniciales  \\\n",
       "693976                         100.0                       0   \n",
       "357414                          50.0                       0   \n",
       "699707                          50.0                       0   \n",
       "539427                         100.0                       0   \n",
       "234988                         100.0                       1   \n",
       "736539                         100.0                       0   \n",
       "590788                         100.0                       0   \n",
       "437452                         100.0                       2   \n",
       "1000793                        100.0                       0   \n",
       "661753                          80.0                       5   \n",
       "102828                          50.0                       0   \n",
       "6897                            50.0                       0   \n",
       "664000                         100.0                       0   \n",
       "988816                         100.0                       1   \n",
       "843164                         100.0                       1   \n",
       "\n",
       "         promedio_total_pago_f29  nulos_total_pago_f29  promedio_IVA_neto  \\\n",
       "693976                 1018068.0                     0       -601197688.0   \n",
       "357414                12834338.0                     0         -8162942.0   \n",
       "699707                12834338.0                     0         -8162942.0   \n",
       "539427                       0.0                     0           484553.0   \n",
       "234988                   82553.0                     0         -9523758.0   \n",
       "736539                    2282.0                     0          6523521.0   \n",
       "590788                       NaN                     1        -16665332.0   \n",
       "437452                       0.0                     0        -55527874.5   \n",
       "1000793                  59438.0                     0         -8729223.0   \n",
       "661753                       0.0                     0        -57348364.8   \n",
       "102828                 1673264.0                     0        -17401688.0   \n",
       "6897                   1673264.0                     0        -17401688.0   \n",
       "664000                       NaN                     1            26600.0   \n",
       "988816                  124858.0                     0          -393208.0   \n",
       "843164                  135348.0                     0       -125784054.0   \n",
       "\n",
       "         nulos_IVA_neto  promedio_n_documentos  ...  promedio_lifetime  \\\n",
       "693976                0                  299.0  ...             2324.0   \n",
       "357414                0                  833.0  ...             1064.0   \n",
       "699707                0                  833.0  ...             1064.0   \n",
       "539427                0                    NaN  ...             1371.0   \n",
       "234988                0                   24.0  ...              719.0   \n",
       "736539                0                  187.0  ...             1526.0   \n",
       "590788                0                    9.0  ...              906.0   \n",
       "437452                0                   52.5  ...              685.0   \n",
       "1000793               0                   82.0  ...              594.0   \n",
       "661753                0                   19.2  ...              723.0   \n",
       "102828                0                  153.0  ...             2860.0   \n",
       "6897                  0                  153.0  ...             2860.0   \n",
       "664000                0                    NaN  ...             3336.0   \n",
       "988816                0                    8.0  ...              600.0   \n",
       "843164                0                   72.0  ...             1273.0   \n",
       "\n",
       "         nulos_lifetime        moda_unidad_regional  \\\n",
       "693976                0             SANTIAGO CENTRO   \n",
       "357414                0            SANTIAGO ORIENTE   \n",
       "699707                0            SANTIAGO ORIENTE   \n",
       "539427                0            SANTIAGO ORIENTE   \n",
       "234988                0              SANTIAGO NORTE   \n",
       "736539                0             SANTIAGO CENTRO   \n",
       "590788                0           SANTIAGO PONIENTE   \n",
       "437452                0            SANTIAGO ORIENTE   \n",
       "1000793               0                    Sin Moda   \n",
       "661753                0            SANTIAGO ORIENTE   \n",
       "102828                0             SANTIAGO CENTRO   \n",
       "6897                  0             SANTIAGO CENTRO   \n",
       "664000                0  9NA UNIDAD REGIONAL TEMUCO   \n",
       "988816                0                    Sin Moda   \n",
       "843164                0            SANTIAGO ORIENTE   \n",
       "\n",
       "        frecuencia_unidad_regional  perct_emision_extra  \\\n",
       "693976                           1                  NaN   \n",
       "357414                           1                  NaN   \n",
       "699707                           1                  NaN   \n",
       "539427                           1                  NaN   \n",
       "234988                           1                  NaN   \n",
       "736539                           1                  NaN   \n",
       "590788                           1                  NaN   \n",
       "437452                           2            99.054493   \n",
       "1000793                          0                  NaN   \n",
       "661753                           5            75.950681   \n",
       "102828                           1                  NaN   \n",
       "6897                             1                  NaN   \n",
       "664000                           1                  NaN   \n",
       "988816                           0                  NaN   \n",
       "843164                           1                  NaN   \n",
       "\n",
       "         perct_recepcion_extra  emision_extragrupo  recepcion_extragrupo  \\\n",
       "693976                     NaN                 NaN              940138.0   \n",
       "357414                     NaN         526099062.0                   NaN   \n",
       "699707                     NaN         526099062.0                   NaN   \n",
       "539427                     NaN                 NaN              418190.0   \n",
       "234988                     NaN          17456201.0             7932443.0   \n",
       "736539                     NaN         265607747.0           267287537.0   \n",
       "590788                     NaN          11039023.0             2941123.0   \n",
       "437452               99.314263         139335234.0           192622000.0   \n",
       "1000793                    NaN         128944126.0           182496899.0   \n",
       "661753                0.100479         260109618.0               82840.0   \n",
       "102828                     NaN          94711054.0            59202048.0   \n",
       "6897                       NaN          94711054.0            59202048.0   \n",
       "664000                     NaN                 NaN               53200.0   \n",
       "988816                     NaN          21946755.0            21325325.0   \n",
       "843164                     NaN          76688283.0              213750.0   \n",
       "\n",
       "         emision_intragrupo  tasa_emision_extra_intra  \n",
       "693976                  NaN                       NaN  \n",
       "357414                  NaN                       NaN  \n",
       "699707                  NaN                       NaN  \n",
       "539427                  NaN                       NaN  \n",
       "234988                  NaN                       NaN  \n",
       "736539                  NaN                       NaN  \n",
       "590788                  NaN                       NaN  \n",
       "437452            1330000.0                104.763334  \n",
       "1000793                 NaN                       NaN  \n",
       "661753           82362122.0                  3.158122  \n",
       "102828                  NaN                       NaN  \n",
       "6897                    NaN                       NaN  \n",
       "664000                  NaN                       NaN  \n",
       "988816                  NaN                       NaN  \n",
       "843164                  NaN                       NaN  \n",
       "\n",
       "[15 rows x 21 columns]"
      ]
     },
     "execution_count": 23,
     "metadata": {},
     "output_type": "execute_result"
    }
   ],
   "source": [
    "data=spark.sql('select * from data_comunidades left join iva_comunidad on data_comunidades.SOCIO_NATURAL=iva_comunidad.comunidad')\n",
    "data=data.toPandas()\n",
    "data=data.drop('comunidad', axis=1)\n",
    "data=data.sort_values(by='promedio_score', ascending=False)\n",
    "data.head(15)"
   ]
  },
  {
   "cell_type": "markdown",
   "id": "633f475d-05e6-4de5-bf18-3d3bed974f8e",
   "metadata": {},
   "source": [
    "Finalmente guardamos el archivo"
   ]
  },
  {
   "cell_type": "code",
   "execution_count": 24,
   "id": "1e786f55-c5d7-4745-a848-80fd50738b08",
   "metadata": {
    "tags": []
   },
   "outputs": [],
   "source": [
    "\n",
    "data.to_csv('/home/cdsw/data/processed/comunidades_persona_natural/estadistica_comunidades_persona_natural_with_iva_balance.csv', index=False)"
   ]
  }
 ],
 "metadata": {
  "kernelspec": {
   "display_name": "Python 3 (ipykernel)",
   "language": "python",
   "name": "python3"
  },
  "language_info": {
   "codemirror_mode": {
    "name": "ipython",
    "version": 3
   },
   "file_extension": ".py",
   "mimetype": "text/x-python",
   "name": "python",
   "nbconvert_exporter": "python",
   "pygments_lexer": "ipython3",
   "version": "3.10.13"
  }
 },
 "nbformat": 4,
 "nbformat_minor": 5
}
