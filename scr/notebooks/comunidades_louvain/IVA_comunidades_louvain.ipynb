{
 "cells": [
  {
   "cell_type": "markdown",
   "id": "702c3d05-18b5-4aca-8659-fa6be263d345",
   "metadata": {},
   "source": [
    "### IVA intra grupo y extra grupo en comunidades definidas por algoritmo de Louvain\n"
   ]
  },
  {
   "cell_type": "code",
   "execution_count": 53,
   "id": "5608526c-8aec-4dec-8714-6450d766f023",
   "metadata": {
    "tags": []
   },
   "outputs": [],
   "source": [
    "from pyspark.sql import SparkSession\n",
    "from pyspark.sql.functions import *\n",
    "from pyspark import SparkContext, SparkConf\n",
    "import pyspark\n",
    "import pandas as pd\n",
    "import warnings\n",
    "warnings.filterwarnings('ignore', category=DeprecationWarning)\n",
    "\n",
    "from pyspark_dist_explore import hist\n",
    "import matplotlib.pyplot as plt\n",
    "from pyspark.sql.types import StringType,TimestampType\n"
   ]
  },
  {
   "cell_type": "code",
   "execution_count": 54,
   "id": "69415a50-4994-484b-97f8-7f8654ad9e22",
   "metadata": {
    "tags": []
   },
   "outputs": [],
   "source": [
    "\n",
    "spark = SparkSession.builder \\\n",
    "  .appName(\"Test\")  \\\n",
    "  .config(\"spark.yarn.access.hadoopFileSystems\",\"abfs://data@datalakesii.dfs.core.windows.net/\") \\\n",
    "  .config(\"spark.executor.memory\", \"64g\") \\\n",
    "  .config(\"spark.driver.memory\", \"12g\")\\\n",
    "  .config(\"spark.executor.cores\", \"12\") \\\n",
    "  .config(\"spark.executor.instances\", \"24\") \\\n",
    "  .config(\"spark.driver.maxResultSize\", \"12g\") \\\n",
    "  .getOrCreate()\n",
    "\n",
    "warnings.filterwarnings('ignore', category=DeprecationWarning)\n",
    "sc=spark.sparkContext\n",
    "sc.setLogLevel ('ERROR')\n",
    "spark.conf.set(\"spark.sql.parquet.int96RebaseModeInRead\", \"CORRECTED\")\n",
    "\n"
   ]
  },
  {
   "cell_type": "code",
   "execution_count": 55,
   "id": "fe7be09a-953b-4d66-be5a-5c987b5b05f3",
   "metadata": {
    "tags": []
   },
   "outputs": [
    {
     "data": {
      "text/plain": [
       "<bound method SparkSession.stop of <pyspark.sql.session.SparkSession object at 0x7fb14b93cbe0>>"
      ]
     },
     "execution_count": 55,
     "metadata": {},
     "output_type": "execute_result"
    }
   ],
   "source": [
    "spark.stop"
   ]
  },
  {
   "cell_type": "markdown",
   "id": "2c47bf3c-dd5d-4f0d-9e44-695f68793dfb",
   "metadata": {},
   "source": [
    "Leemos la data de los arcos comerciales."
   ]
  },
  {
   "cell_type": "code",
   "execution_count": 56,
   "id": "7d0a9078-3997-4cfb-9e57-4186554e701a",
   "metadata": {
    "tags": []
   },
   "outputs": [],
   "source": [
    "spark.read.parquet(\"abfs://data@datalakesii.dfs.core.windows.net/DatosOrigen/LibSDF/JBA_ARCOS_E\").createOrReplaceTempView(\"arcos\")\n",
    "spark.sql(\"SELECT PARU_RUT_E0, PARU_RUT_E2, Monto_IVA FROM arcos where Monto_IVA>0 order by PARU_RUT_E2 asc\").createOrReplaceTempView(\"arcos\")"
   ]
  },
  {
   "cell_type": "code",
   "execution_count": 57,
   "id": "33009294-1268-49db-b1ec-88aadf693075",
   "metadata": {
    "tags": []
   },
   "outputs": [
    {
     "name": "stderr",
     "output_type": "stream",
     "text": [
      "[Stage 504:===================================================>   (45 + 3) / 48]\r"
     ]
    },
    {
     "name": "stdout",
     "output_type": "stream",
     "text": [
      "+--------------------+--------------------+---------+\n",
      "|         PARU_RUT_E0|         PARU_RUT_E2|Monto_IVA|\n",
      "+--------------------+--------------------+---------+\n",
      "|NaXazswsZodNytTsS...|+++0Re2TkLe14DpcD...|     4890|\n",
      "|+0yKx5GSw/Q5FoSrp...|+++4/3jzUwtDPSSo3...|    50031|\n",
      "|2R4UUuZeZouDs1ML3...|+++4/3jzUwtDPSSo3...|  2670934|\n",
      "|/UHFkJ2XWLMi0oOW5...|+++4/3jzUwtDPSSo3...| 20959536|\n",
      "|0Mc7YtTQj2BeLrOxn...|+++4/3jzUwtDPSSo3...|    30122|\n",
      "|2ekh6DZal3FYd54WD...|+++4/3jzUwtDPSSo3...|    23023|\n",
      "|+t/u9Evh7+r4KNza6...|+++4/3jzUwtDPSSo3...|    23562|\n",
      "|xir6OxC/tCKNSXtX6...|+++4/3jzUwtDPSSo3...|  1414873|\n",
      "|s04kNuIGjOmmDq3ip...|+++4/3jzUwtDPSSo3...|   228641|\n",
      "|vMIN0af1h36ymVDyc...|+++4/3jzUwtDPSSo3...|     4332|\n",
      "|25elxlIB0aBbDst3o...|+++4/3jzUwtDPSSo3...|    90696|\n",
      "|mNKzwe6Z5TAI7rkgK...|+++4/3jzUwtDPSSo3...|  1092499|\n",
      "|/+eRts6KZwhgL3x63...|+++4/3jzUwtDPSSo3...|  2281443|\n",
      "|uTu+52CkIZ2DJ6ddQ...|+++4/3jzUwtDPSSo3...|     7524|\n",
      "|LD33vBbV2xSePcVnE...|+++4/3jzUwtDPSSo3...|   670661|\n",
      "|o+qwedorOHCucSLN1...|+++4/3jzUwtDPSSo3...|    29830|\n",
      "|zta5GIogOOA6sohmj...|+++4/3jzUwtDPSSo3...|  1050586|\n",
      "|Pai2tvkvsPI/rqYAP...|+++4/3jzUwtDPSSo3...|   153490|\n",
      "|NEDDI3b5bkXCP+ae8...|+++4/3jzUwtDPSSo3...| 22352466|\n",
      "|M9O4fpIGf1Bnwn/XI...|+++4/3jzUwtDPSSo3...|  2878980|\n",
      "+--------------------+--------------------+---------+\n",
      "only showing top 20 rows\n",
      "\n"
     ]
    },
    {
     "name": "stderr",
     "output_type": "stream",
     "text": [
      "                                                                                \r"
     ]
    }
   ],
   "source": [
    "spark.sql('select * from arcos').show()"
   ]
  },
  {
   "cell_type": "markdown",
   "id": "0e400d05-05a3-4a9e-8ea8-cbfe0c4b6275",
   "metadata": {},
   "source": [
    "Ahora la data de las sociedades que incluye las caracteristicas."
   ]
  },
  {
   "cell_type": "code",
   "execution_count": 58,
   "id": "8df8d7a8-73fe-44ca-8f7d-95baf67066a5",
   "metadata": {
    "tags": []
   },
   "outputs": [
    {
     "name": "stderr",
     "output_type": "stream",
     "text": [
      "                                                                                \r"
     ]
    }
   ],
   "source": [
    "contaminados = spark.read.options(header=True,inferSchema=True,delimiter=\",\").csv(\"/home/cdsw/data/processed/comunidades_louvain/comunidades_resolution_study_louvain.csv\")\n",
    "contaminados = contaminados.withColumnRenamed(\"comunidad_0.8\", \"comunidad_08\")\n",
    "contaminados.createOrReplaceTempView(\"contaminados\")"
   ]
  },
  {
   "cell_type": "code",
   "execution_count": 59,
   "id": "3314c47e-4acf-4e30-b0da-b5714d078de9",
   "metadata": {
    "tags": []
   },
   "outputs": [
    {
     "name": "stdout",
     "output_type": "stream",
     "text": [
      "+----------+--------------------+------------------+--------------+---------+--------------------+------------+--------+--------------+-------------+----------------+-------------+------------------+-------------+------------------+-------------+------------------+-------------+------------------+-------------+------------------+-------------+------------------+-------------+------------------+------------+------------------+-------------+------------------+-------------+------------------+\n",
      "|Unnamed: 0|            cont_rut|             score|total_pago_f29| IVA_neto|     unidad_regional|n_documentos|lifetime|alerta_inicial|comunidad_0.0| modularidad_0.0|comunidad_0.1|   modularidad_0.1|comunidad_0.2|   modularidad_0.2|comunidad_0.3|   modularidad_0.3|comunidad_0.4|   modularidad_0.4|comunidad_0.5|   modularidad_0.5|comunidad_0.6|   modularidad_0.6|comunidad_0.7|   modularidad_0.7|comunidad_08|   modularidad_0.8|comunidad_0.9|   modularidad_0.9|comunidad_1.0|   modularidad_1.0|\n",
      "+----------+--------------------+------------------+--------------+---------+--------------------+------------+--------+--------------+-------------+----------------+-------------+------------------+-------------+------------------+-------------+------------------+-------------+------------------+-------------+------------------+-------------+------------------+-------------+------------------+------------+------------------+-------------+------------------+-------------+------------------+\n",
      "|         0|++2mOmlMTMf8FP8AS...|0.0245276619163978|          null|  2045987|                null|        null|    null|             0|         1269|0.75459440765623|         1246|0.7621075565302589|         1225|0.7748106962488093|         1216|0.7845488610485769|         1201|0.7900769356060586|         1202|0.7892520243166353|            2|0.8368320022414465|            2|0.8413593050914189|           2|0.8423363054021112|            2|0.8433391112960488|            2|0.8432359297724173|\n",
      "|         1|++KCc/MVDP3ZynZeM...|0.0238121494634209|          null|    27477|    SANTIAGO ORIENTE|        null|    null|             0|            9|0.75459440765623|            9|0.7621075565302589|           10|0.7748106962488093|           10|0.7845488610485769|           10|0.7900769356060586|           10|0.7892520243166353|           13|0.8368320022414465|           14|0.8413593050914189|          14|0.8423363054021112|           19|0.8433391112960488|           17|0.8432359297724173|\n",
      "|         2|+/+IMFryGSJkidvlc...|0.0459751720687882|      927465.0|    76230|    SANTIAGO ORIENTE|        34.0|  1940.0|             0|        16405|0.75459440765623|        16464|0.7621075565302589|        15400|0.7748106962488093|        15116|0.7845488610485769|        15237|0.7900769356060586|        14078|0.7892520243166353|           53|0.8368320022414465|            4|0.8413593050914189|           4|0.8423363054021112|            9|0.8433391112960488|            9|0.8432359297724173|\n",
      "|         3|+/GP2pgvQ+KWPs5dT...|0.0232765130868591|           0.0|   858890|8VA UNIDAD REGION...|        null|    null|             0|          107|0.75459440765623|          109|0.7621075565302589|          108|0.7748106962488093|          108|0.7845488610485769|          108|0.7900769356060586|          108|0.7892520243166353|           14|0.8368320022414465|           15|0.8413593050914189|          16|0.8423363054021112|           17|0.8433391112960488|          101|0.8432359297724173|\n",
      "|         4|+/vREtWUlsd1b34Xn...|0.0759831339341641|          null|    19285|   SANTIAGO PONIENTE|        null|    null|             0|         4016|0.75459440765623|         4035|0.7621075565302589|         3877|0.7748106962488093|         3836|0.7845488610485769|         3748|0.7900769356060586|         3736|0.7892520243166353|            1|0.8368320022414465|            1|0.8413593050914189|           1|0.8423363054021112|            1|0.8433391112960488|            1|0.8432359297724173|\n",
      "|         5|+03yIiPxc4t3f47ON...|0.0602053273478164|     4712193.0|-11630740|        SANTIAGO SUR|       189.0|  1786.0|             0|          449|0.75459440765623|          287|0.7621075565302589|          338|0.7748106962488093|          358|0.7845488610485769|          383|0.7900769356060586|          369|0.7892520243166353|            1|0.8368320022414465|            1|0.8413593050914189|           1|0.8423363054021112|           28|0.8433391112960488|           27|0.8432359297724173|\n",
      "|         6|+05Zfb0fREv7TebIf...|0.0239793742431574|           0.0|    15427|19NA UNIDAD REGIO...|        null|    null|             0|            5|0.75459440765623|            5|0.7621075565302589|            6|0.7748106962488093|            6|0.7845488610485769|            6|0.7900769356060586|            6|0.7892520243166353|            7|0.8368320022414465|            7|0.8413593050914189|           9|0.8423363054021112|           13|0.8433391112960488|           13|0.8432359297724173|\n",
      "|         7|+0FIA8uSEJsh7AYNz...|0.0194387436436004|        5202.0|  5535111|    SANTIAGO ORIENTE|         1.0| 10556.0|             0|            9|0.75459440765623|            9|0.7621075565302589|           10|0.7748106962488093|           10|0.7845488610485769|           10|0.7900769356060586|           10|0.7892520243166353|           13|0.8368320022414465|           14|0.8413593050914189|          14|0.8423363054021112|           19|0.8433391112960488|           17|0.8432359297724173|\n",
      "|         8|+0LkoCydq856ZyJDD...|0.1106377118166478|          null|    72883|        SANTIAGO SUR|        null|    null|             0|          413|0.75459440765623|          419|0.7621075565302589|          418|0.7748106962488093|          410|0.7845488610485769|          409|0.7900769356060586|          409|0.7892520243166353|          194|0.8368320022414465|          163|0.8413593050914189|         206|0.8423363054021112|          210|0.8433391112960488|          228|0.8432359297724173|\n",
      "|         9|+0OjQciCWcSfdOt0I...|0.0198019731689134|          null|    33411|                null|        null|    null|             0|          514|0.75459440765623|          519|0.7621075565302589|          519|0.7748106962488093|          510|0.7845488610485769|          511|0.7900769356060586|          510|0.7892520243166353|           66|0.8368320022414465|          116|0.8413593050914189|          60|0.8423363054021112|          110|0.8433391112960488|           99|0.8432359297724173|\n",
      "|        10|+0YLOVpVfeciOQHQS...| 0.014667630105706|          null|    44926|   SANTIAGO PONIENTE|        null|    null|             0|           63|0.75459440765623|           65|0.7621075565302589|           64|0.7748106962488093|           64|0.7845488610485769|           64|0.7900769356060586|           64|0.7892520243166353|           54|0.8368320022414465|           69|0.8413593050914189|          75|0.8423363054021112|           83|0.8433391112960488|           80|0.8432359297724173|\n",
      "|        11|+0a2/CGulxi1jtj4B...|0.0175274910436338|   1.2441801E7| -9912514|8VA UNIDAD REGION...|        72.0|    null|             0|        97396|0.75459440765623|        99098|0.7621075565302589|        94269|0.7748106962488093|        88985|0.7845488610485769|        85097|0.7900769356060586|        86170|0.7892520243166353|          332|0.8368320022414465|           75|0.8413593050914189|          72|0.8423363054021112|           63|0.8433391112960488|           53|0.8432359297724173|\n",
      "|        12|+0hnbJjWfyzpcvwiv...|0.0594577734576783|   3.7842104E7| 77605336|10MA UNIDAD REGIO...|       423.0|  2242.0|             0|          181|0.75459440765623|          183|0.7621075565302589|          182|0.7748106962488093|          182|0.7845488610485769|          182|0.7900769356060586|          182|0.7892520243166353|           44|0.8368320022414465|            6|0.8413593050914189|          48|0.8423363054021112|           49|0.8433391112960488|           49|0.8432359297724173|\n",
      "|        13|+0jNsLdkYFhcEBWbg...|0.0144322074058573|           0.0|     1302|    SANTIAGO ORIENTE|         6.0|   632.0|             0|          304|0.75459440765623|          307|0.7621075565302589|          305|0.7748106962488093|          303|0.7845488610485769|          302|0.7900769356060586|          303|0.7892520243166353|           84|0.8368320022414465|           43|0.8413593050914189|          45|0.8423363054021112|           47|0.8433391112960488|           47|0.8432359297724173|\n",
      "|        14|+0qDT5kksuYUaxHfL...|0.0239133423275352|           0.0|    29809|    SANTIAGO ORIENTE|        null|    null|             0|            9|0.75459440765623|            9|0.7621075565302589|           10|0.7748106962488093|           10|0.7845488610485769|           10|0.7900769356060586|           10|0.7892520243166353|           13|0.8368320022414465|           14|0.8413593050914189|          14|0.8423363054021112|           19|0.8433391112960488|           17|0.8432359297724173|\n",
      "|        15|+0vz0fAeWHqQjT0qd...|0.0244090086219896|          null|   413529|                null|        null|    null|             0|         1013|0.75459440765623|         1021|0.7621075565302589|         1008|0.7748106962488093|          997|0.7845488610485769|          982|0.7900769356060586|          984|0.7892520243166353|          203|0.8368320022414465|          154|0.8413593050914189|         189|0.8423363054021112|          191|0.8433391112960488|          202|0.8432359297724173|\n",
      "|        16|+1+pBbsRuZRa6iPux...|0.1425850199989881|          null|    12454|        SANTIAGO SUR|        null|    null|             0|          161|0.75459440765623|          160|0.7621075565302589|          159|0.7748106962488093|          159|0.7845488610485769|          158|0.7900769356060586|          159|0.7892520243166353|          136|0.8368320022414465|          161|0.8413593050914189|         158|0.8423363054021112|          173|0.8433391112960488|          173|0.8432359297724173|\n",
      "|        17|+1172XXOGosgAOjad...|0.0219141057396394|          null|    94864|7MA UNIDAD REGION...|        null|    null|             0|          101|0.75459440765623|          101|0.7621075565302589|          101|0.7748106962488093|          101|0.7845488610485769|          101|0.7900769356060586|          101|0.7892520243166353|            3|0.8368320022414465|            3|0.8413593050914189|           3|0.8423363054021112|            7|0.8433391112960488|           19|0.8432359297724173|\n",
      "|        18|+1DDRYdwvVgFFhJZF...|0.0169756642904163|      4.8226E7|-56965694|        SANTIAGO SUR|       108.0|  3004.0|             0|        36472|0.75459440765623|        33871|0.7621075565302589|        31634|0.7748106962488093|        29600|0.7845488610485769|        31466|0.7900769356060586|        31854|0.7892520243166353|         2269|0.8368320022414465|            1|0.8413593050914189|           1|0.8423363054021112|            1|0.8433391112960488|            1|0.8432359297724173|\n",
      "|        19|+1UYoO7EggeX9CtjH...|0.0226288007883557|           0.0|  5557082|    SANTIAGO ORIENTE|        64.0|  2278.0|             0|         2059|0.75459440765623|         2063|0.7621075565302589|         1977|0.7748106962488093|         1980|0.7845488610485769|         1954|0.7900769356060586|         1957|0.7892520243166353|            1|0.8368320022414465|            1|0.8413593050914189|           1|0.8423363054021112|            1|0.8433391112960488|            1|0.8432359297724173|\n",
      "+----------+--------------------+------------------+--------------+---------+--------------------+------------+--------+--------------+-------------+----------------+-------------+------------------+-------------+------------------+-------------+------------------+-------------+------------------+-------------+------------------+-------------+------------------+-------------+------------------+------------+------------------+-------------+------------------+-------------+------------------+\n",
      "only showing top 20 rows\n",
      "\n"
     ]
    }
   ],
   "source": [
    "spark.sql('select * from contaminados').show()"
   ]
  },
  {
   "cell_type": "markdown",
   "id": "584422e5-e1bd-476d-b6a2-29a109d0f91a",
   "metadata": {},
   "source": [
    "Ahora hacemos el cruce de los datos para asignar la comunidad a cada entidad de los arcos comerciales, tanto emisor como receptor. "
   ]
  },
  {
   "cell_type": "code",
   "execution_count": 60,
   "id": "f02bcf32-c38e-4e3e-9fb3-e8b2b846e030",
   "metadata": {
    "tags": []
   },
   "outputs": [],
   "source": [
    "spark.sql('select PARU_RUT_E0,contaminados.comunidad_08 as comunidad_emisor, PARU_RUT_E2, Monto_IVA from arcos left join contaminados on arcos.PARU_RUT_E0=contaminados.cont_rut').createOrReplaceTempView('arcos')"
   ]
  },
  {
   "cell_type": "code",
   "execution_count": 61,
   "id": "1020bbb8-85b4-4e9a-ae77-53c0f77a9743",
   "metadata": {
    "tags": []
   },
   "outputs": [],
   "source": [
    "spark.sql('select PARU_RUT_E0 as emisor,comunidad_emisor,PARU_RUT_E2 as receptor,contaminados.comunidad_08 as comunidad_receptor, Monto_IVA from arcos  left join contaminados on arcos.PARU_RUT_E2=contaminados.cont_rut').createOrReplaceTempView('arcos')"
   ]
  },
  {
   "cell_type": "code",
   "execution_count": 62,
   "id": "c1196d6d-f08a-4841-b1b2-b776165e262f",
   "metadata": {
    "tags": []
   },
   "outputs": [
    {
     "name": "stderr",
     "output_type": "stream",
     "text": [
      "[Stage 520:>                                                        (0 + 3) / 3]\r"
     ]
    },
    {
     "name": "stdout",
     "output_type": "stream",
     "text": [
      "+--------------------+----------------+--------------------+------------------+---------+\n",
      "|              emisor|comunidad_emisor|            receptor|comunidad_receptor|Monto_IVA|\n",
      "+--------------------+----------------+--------------------+------------------+---------+\n",
      "|BJmaUqTnhu56rAeIU...|            null|+kAO4J/HF/BHMc7du...|                 1|    19000|\n",
      "|MP6d8c6MQEwozlAf+...|            null|AgHClE8vUGuNWnXlZ...|                 6|     9500|\n",
      "|Z7OYCkj/kjqp/ONZ3...|            null|CpL0jbiNG6xErwixU...|                 1|   152000|\n",
      "|mR8KpjMdF+DB+1rcl...|            null|Kq16VMi2rl6putzer...|                 3|    34200|\n",
      "|XHxz2+oWsKZjlTFeT...|            null|WjiWlHOqho6fHK01o...|                12|    19000|\n",
      "|tAYC9s9eTlb8dZFkt...|            null|ZoSJEz1r4ELZe5oOd...|                 1|    31934|\n",
      "|ZZRM3LDY2l2dIDLXp...|            null|pgnXtYCxJbXlDqc9R...|                 1|    31933|\n",
      "|EHD0OdMgUSKOdVm8U...|            null|z5JmOio9X1bMDZXdY...|                 1|    22800|\n",
      "|/n+h+44VQg4n54e5g...|            null|8cFyR319RFkoK3Srp...|                25|  1520000|\n",
      "|Txyruhx1N46truMO4...|            null|8cFyR319RFkoK3Srp...|                25|   985828|\n",
      "|4D9OHeZ4+bWr1DauM...|            null|8cFyR319RFkoK3Srp...|                25|  1810910|\n",
      "|AqyI3aS5lEEGpOdWy...|            null|OmdQche3uQ2NfIn3i...|                 1|   727088|\n",
      "|OjILiRiKGM94f358U...|            null|SrvOewAmRAraqUxMm...|                 1|     3990|\n",
      "|264/0hK72j9VcP8PT...|            null|SrvOewAmRAraqUxMm...|                 1|    66500|\n",
      "|sCssDAGjxgek0UInW...|            null|c6BXQVjCTEbr5MHO2...|                 1|    89680|\n",
      "|dMyk2Z3qoscZ2VtOB...|            null|eZmrVVMmb8D7FBr9n...|                 1|    30803|\n",
      "|yyA7A2TlrPZVKx1ky...|            null|jtBVw3+mv8hosuViz...|                 2|    46648|\n",
      "|5eouqtr8dPknSgsog...|            null|mNKzwe6Z5TAI7rkgK...|                 1| 40638357|\n",
      "|qAj7wnv0h4pka1aCa...|            null|mNKzwe6Z5TAI7rkgK...|                 1|  1548176|\n",
      "|tw+eKQPA5Pys7oqwN...|            null|mNKzwe6Z5TAI7rkgK...|                 1|  8755994|\n",
      "+--------------------+----------------+--------------------+------------------+---------+\n",
      "only showing top 20 rows\n",
      "\n"
     ]
    },
    {
     "name": "stderr",
     "output_type": "stream",
     "text": [
      "                                                                                \r"
     ]
    }
   ],
   "source": [
    "spark.sql('select * from arcos where comunidad_emisor is not null or comunidad_receptor is not null').createOrReplaceTempView('arcos')\n",
    "\n",
    "spark.sql('select * from arcos where comunidad_emisor is null or comunidad_receptor is null').show()\n"
   ]
  },
  {
   "cell_type": "markdown",
   "id": "4aaefb78-a5b8-4abd-8431-92e9a0aea976",
   "metadata": {},
   "source": [
    "Se calcula la emision intragrupo, extragrupo, recepcion intragrupo y extragrupo"
   ]
  },
  {
   "cell_type": "code",
   "execution_count": 63,
   "id": "748b3b55-d339-475c-ae1c-1175048d6a69",
   "metadata": {
    "tags": []
   },
   "outputs": [],
   "source": [
    "spark.sql('select comunidad_emisor as comunidad, sum(Monto_IVA) as emision_intragrupo from arcos where comunidad_emisor=comunidad_receptor and comunidad_emisor is not null group by comunidad_emisor order by comunidad_emisor asc').createOrReplaceTempView('emision_intra')\n",
    "spark.sql('select comunidad_emisor as comunidad, sum(Monto_IVA) as emision_extragrupo from arcos where comunidad_emisor<>comunidad_receptor and comunidad_emisor is not null group by comunidad_emisor order by comunidad_emisor asc').createOrReplaceTempView('emision_extra')"
   ]
  },
  {
   "cell_type": "code",
   "execution_count": 64,
   "id": "89077a92-e9f4-44e9-9e47-d79cfa4aa55d",
   "metadata": {
    "tags": []
   },
   "outputs": [],
   "source": [
    "spark.sql('select comunidad_receptor as comunidad, sum(Monto_IVA) as recepcion_intragrupo from arcos where comunidad_emisor=comunidad_receptor and comunidad_receptor is not null group by comunidad_receptor order by comunidad_receptor asc').createOrReplaceTempView('recepcion_intra')\n",
    "spark.sql('select comunidad_receptor as comunidad, sum(Monto_IVA) as recepcion_extragrupo from arcos where comunidad_emisor<>comunidad_receptor and comunidad_receptor is not null group by comunidad_receptor order by comunidad_receptor asc').createOrReplaceTempView('recepcion_extra')"
   ]
  },
  {
   "cell_type": "code",
   "execution_count": 65,
   "id": "60000de7-94ce-45f7-93bc-7d715abcb5d8",
   "metadata": {
    "tags": []
   },
   "outputs": [
    {
     "name": "stderr",
     "output_type": "stream",
     "text": [
      "                                                                                \r"
     ]
    },
    {
     "name": "stdout",
     "output_type": "stream",
     "text": [
      "+---+------------------+------------------+\n",
      "|com|emision_intragrupo|emision_extragrupo|\n",
      "+---+------------------+------------------+\n",
      "|  1|    18883969532823|    13094520778587|\n",
      "|  2|     6612360765255|     2306182712429|\n",
      "|  3|      811418080006|     1507114062611|\n",
      "|  4|      355492631604|      562530997191|\n",
      "|  5|       27373968512|       21513986799|\n",
      "|  6|      298853122898|      562339304661|\n",
      "|  7|       29750102570|       39977276949|\n",
      "|  8|      318985562053|      577701774857|\n",
      "|  9|       72985671961|      290984459122|\n",
      "| 10|      256190710566|      240826234065|\n",
      "| 11|        3642903158|       79704446933|\n",
      "| 12|        6898025906|       19043895192|\n",
      "| 13|       38787924381|      199441058819|\n",
      "| 14|       31124401295|      223527531891|\n",
      "| 15|        7628903743|       28772911474|\n",
      "| 16|       50344956494|      211516779728|\n",
      "| 17|        6459516481|      197846026253|\n",
      "| 18|       97520393341|      102317288006|\n",
      "| 19|       14076918764|       67038174250|\n",
      "| 20|       39391884609|      142395556122|\n",
      "+---+------------------+------------------+\n",
      "only showing top 20 rows\n",
      "\n"
     ]
    },
    {
     "name": "stderr",
     "output_type": "stream",
     "text": [
      "[Stage 560:>                                                        (0 + 1) / 1]\r"
     ]
    },
    {
     "name": "stdout",
     "output_type": "stream",
     "text": [
      "+---+--------------------+--------------------+\n",
      "|com|recepcion_intragrupo|recepcion_extragrupo|\n",
      "+---+--------------------+--------------------+\n",
      "|  1|      18883969532823|       9878493899684|\n",
      "|  2|       6612360765255|       5276448416911|\n",
      "|146|       3426187781739|       3681590947732|\n",
      "|  3|        811418080006|       1077447010147|\n",
      "| 50|        372919288286|        456189769101|\n",
      "| 54|        355680050113|        491876921408|\n",
      "|  4|        355492631604|        455719914133|\n",
      "|  8|        318985562053|        454312514529|\n",
      "|  6|        298853122898|        638597377465|\n",
      "| 10|        256190710566|        337198355007|\n",
      "|137|        252533153968|         90221373401|\n",
      "|160|        249812314783|        523512494229|\n",
      "|291|        223203676505|        147008740498|\n",
      "| 63|        165265230730|        116285977205|\n",
      "| 69|        132507376357|         14514940795|\n",
      "| 81|        116004222966|         90565277021|\n",
      "| 18|         97520393341|        200538172049|\n",
      "| 41|         93846609628|         96807499137|\n",
      "|275|         87046301441|         82052352933|\n",
      "|180|         82435922331|         53924133058|\n",
      "+---+--------------------+--------------------+\n",
      "only showing top 20 rows\n",
      "\n"
     ]
    },
    {
     "name": "stderr",
     "output_type": "stream",
     "text": [
      "                                                                                \r"
     ]
    }
   ],
   "source": [
    "spark.sql('select case when emision_intra.comunidad is null then emision_extra.comunidad else emision_intra.comunidad end as com, emision_intragrupo, emision_extragrupo from emision_intra full outer join emision_extra on emision_extra.comunidad=emision_intra.comunidad').createOrReplaceTempView('emision')\n",
    "spark.sql('select * from emision').show()\n",
    "spark.sql('select case when recepcion_intra.comunidad is null then recepcion_extra.comunidad else recepcion_intra.comunidad end as com, recepcion_intragrupo, recepcion_extragrupo from recepcion_intra full outer join recepcion_extra on recepcion_extra.comunidad=recepcion_intra.comunidad order by recepcion_intra.comunidad asc').createOrReplaceTempView('recepcion')\n",
    "spark.sql('select * from recepcion order by recepcion_intragrupo desc').show()"
   ]
  },
  {
   "cell_type": "code",
   "execution_count": 66,
   "id": "26aa1b26-0318-4949-a121-83f3b366972c",
   "metadata": {
    "tags": []
   },
   "outputs": [
    {
     "name": "stderr",
     "output_type": "stream",
     "text": [
      "[Stage 588:======================================================>(66 + 1) / 67]\r"
     ]
    },
    {
     "name": "stdout",
     "output_type": "stream",
     "text": [
      "+---+------------------+------------------+--------------------+--------------------+\n",
      "|com|emision_intragrupo|emision_extragrupo|recepcion_intragrupo|recepcion_extragrupo|\n",
      "+---+------------------+------------------+--------------------+--------------------+\n",
      "|  1|    18883969532823|    13094520778587|      18883969532823|       9878493899684|\n",
      "|  2|     6612360765255|     2306182712429|       6612360765255|       5276448416911|\n",
      "|  3|      811418080006|     1507114062611|        811418080006|       1077447010147|\n",
      "|  4|      355492631604|      562530997191|        355492631604|        455719914133|\n",
      "|  5|       27373968512|       21513986799|         27373968512|        121173161157|\n",
      "|  6|      298853122898|      562339304661|        298853122898|        638597377465|\n",
      "|  7|       29750102570|       39977276949|         29750102570|          9732261777|\n",
      "|  8|      318985562053|      577701774857|        318985562053|        454312514529|\n",
      "|  9|       72985671961|      290984459122|         72985671961|        237362592270|\n",
      "| 10|      256190710566|      240826234065|        256190710566|        337198355007|\n",
      "| 11|        3642903158|       79704446933|          3642903158|        419893554189|\n",
      "| 12|        6898025906|       19043895192|          6898025906|         14093002216|\n",
      "| 13|       38787924381|      199441058819|         38787924381|        105894813958|\n",
      "| 14|       31124401295|      223527531891|         31124401295|        154079239588|\n",
      "| 15|        7628903743|       28772911474|          7628903743|         26678881256|\n",
      "| 16|       50344956494|      211516779728|         50344956494|        467301396567|\n",
      "| 17|        6459516481|      197846026253|          6459516481|        139767532826|\n",
      "| 18|       97520393341|      102317288006|         97520393341|        200538172049|\n",
      "| 19|       14076918764|       67038174250|         14076918764|        107243365988|\n",
      "| 20|       39391884609|      142395556122|         39391884609|         22453823434|\n",
      "+---+------------------+------------------+--------------------+--------------------+\n",
      "only showing top 20 rows\n",
      "\n"
     ]
    },
    {
     "name": "stderr",
     "output_type": "stream",
     "text": [
      "                                                                                \r"
     ]
    }
   ],
   "source": [
    "aux=spark.sql('select case when emision.com is null then recepcion.com else emision.com end as com, emision_intragrupo, emision_extragrupo,  recepcion_intragrupo, recepcion_extragrupo from emision full outer join recepcion on emision.com=recepcion.com')\n",
    "aux.show()\n",
    "aux.createOrReplaceTempView('iva_comunidad')"
   ]
  },
  {
   "cell_type": "markdown",
   "id": "b394fccf-8cd9-4687-b33e-f865b30161ec",
   "metadata": {},
   "source": [
    "Tambien definimos algunas tasas de comparacion entre montos de IVA"
   ]
  },
  {
   "cell_type": "code",
   "execution_count": 67,
   "id": "25743822-951c-4f6f-9a67-a4987c75c1a8",
   "metadata": {
    "tags": []
   },
   "outputs": [],
   "source": [
    "spark.sql('select com, emision_extragrupo/(emision_intragrupo+emision_extragrupo)*100 as perct_emision_extra,recepcion_extragrupo/(recepcion_intragrupo+recepcion_extragrupo)*100 as perct_recepcion_extra,emision_extragrupo, recepcion_extragrupo,emision_intragrupo, emision_extragrupo/emision_intragrupo as tasa_emision_extra_intra from iva_comunidad').createOrReplaceTempView('iva_comunidad')"
   ]
  },
  {
   "cell_type": "markdown",
   "id": "9317aaa6-026c-4a64-a393-94b2d509ee99",
   "metadata": {},
   "source": [
    "Ahora ya podemos agregar los datos de IVA del grupo a la estadistica general por grupo"
   ]
  },
  {
   "cell_type": "code",
   "execution_count": 68,
   "id": "c1ec07d9-2562-4759-bb0d-4ec9b924b6aa",
   "metadata": {
    "tags": []
   },
   "outputs": [],
   "source": [
    "data_comunidades = spark.read.options(header=True,inferSchema=True,delimiter=\",\").csv(\"/home/cdsw/data/processed/comunidades_louvain/estadistica_comunidades_louvain.csv\")\n",
    "data_comunidades = data_comunidades.withColumnRenamed(\"comunidad_0.8\", \"comunidad_08\")\n",
    "data_comunidades.createOrReplaceTempView(\"data_comunidades\")"
   ]
  },
  {
   "cell_type": "code",
   "execution_count": 69,
   "id": "5195568f-8f1c-4bf1-8fb0-375cec122411",
   "metadata": {
    "tags": []
   },
   "outputs": [
    {
     "name": "stderr",
     "output_type": "stream",
     "text": [
      "                                                                                \r"
     ]
    },
    {
     "data": {
      "text/html": [
       "<div>\n",
       "<style scoped>\n",
       "    .dataframe tbody tr th:only-of-type {\n",
       "        vertical-align: middle;\n",
       "    }\n",
       "\n",
       "    .dataframe tbody tr th {\n",
       "        vertical-align: top;\n",
       "    }\n",
       "\n",
       "    .dataframe thead th {\n",
       "        text-align: right;\n",
       "    }\n",
       "</style>\n",
       "<table border=\"1\" class=\"dataframe\">\n",
       "  <thead>\n",
       "    <tr style=\"text-align: right;\">\n",
       "      <th></th>\n",
       "      <th>comunidad_08</th>\n",
       "      <th>promedio_score</th>\n",
       "      <th>miembros</th>\n",
       "      <th>contaminados_iniciales</th>\n",
       "      <th>promedio_total_pago_f29</th>\n",
       "      <th>nulos_total_pago_f29</th>\n",
       "      <th>promedio_IVA_neto</th>\n",
       "      <th>nulos_IVA_neto</th>\n",
       "      <th>promedio_n_documentos</th>\n",
       "      <th>nulos_n_documentos</th>\n",
       "      <th>promedio_lifetime</th>\n",
       "      <th>nulos_lifetime</th>\n",
       "      <th>moda_unidad_regional</th>\n",
       "      <th>frecuencia_unidad_regional</th>\n",
       "      <th>perct_emision_extra</th>\n",
       "      <th>perct_recepcion_extra</th>\n",
       "      <th>emision_extragrupo</th>\n",
       "      <th>recepcion_extragrupo</th>\n",
       "      <th>emision_intragrupo</th>\n",
       "      <th>tasa_emision_extra_intra</th>\n",
       "    </tr>\n",
       "  </thead>\n",
       "  <tbody>\n",
       "    <tr>\n",
       "      <th>651</th>\n",
       "      <td>454</td>\n",
       "      <td>1.000049</td>\n",
       "      <td>5</td>\n",
       "      <td>5</td>\n",
       "      <td>0.000000e+00</td>\n",
       "      <td>0</td>\n",
       "      <td>-4.208475e+07</td>\n",
       "      <td>0</td>\n",
       "      <td>29.000000</td>\n",
       "      <td>0</td>\n",
       "      <td>670.000000</td>\n",
       "      <td>0</td>\n",
       "      <td>SANTIAGO ORIENTE</td>\n",
       "      <td>5</td>\n",
       "      <td>53.680611</td>\n",
       "      <td>NaN</td>\n",
       "      <td>208525664.0</td>\n",
       "      <td>NaN</td>\n",
       "      <td>179930542.0</td>\n",
       "      <td>1.158923</td>\n",
       "    </tr>\n",
       "    <tr>\n",
       "      <th>307</th>\n",
       "      <td>523</td>\n",
       "      <td>1.000012</td>\n",
       "      <td>3</td>\n",
       "      <td>3</td>\n",
       "      <td>8.581767e+04</td>\n",
       "      <td>0</td>\n",
       "      <td>-1.375183e+07</td>\n",
       "      <td>0</td>\n",
       "      <td>17.333333</td>\n",
       "      <td>0</td>\n",
       "      <td>466.333333</td>\n",
       "      <td>0</td>\n",
       "      <td>Sin Moda</td>\n",
       "      <td>0</td>\n",
       "      <td>49.847310</td>\n",
       "      <td>NaN</td>\n",
       "      <td>40576844.0</td>\n",
       "      <td>NaN</td>\n",
       "      <td>40825431.0</td>\n",
       "      <td>0.993911</td>\n",
       "    </tr>\n",
       "    <tr>\n",
       "      <th>428</th>\n",
       "      <td>443</td>\n",
       "      <td>1.000005</td>\n",
       "      <td>6</td>\n",
       "      <td>6</td>\n",
       "      <td>0.000000e+00</td>\n",
       "      <td>0</td>\n",
       "      <td>-1.982032e+07</td>\n",
       "      <td>0</td>\n",
       "      <td>28.166667</td>\n",
       "      <td>0</td>\n",
       "      <td>469.833333</td>\n",
       "      <td>0</td>\n",
       "      <td>Sin Moda</td>\n",
       "      <td>0</td>\n",
       "      <td>41.620534</td>\n",
       "      <td>NaN</td>\n",
       "      <td>115957906.0</td>\n",
       "      <td>NaN</td>\n",
       "      <td>162649535.0</td>\n",
       "      <td>0.712931</td>\n",
       "    </tr>\n",
       "    <tr>\n",
       "      <th>95</th>\n",
       "      <td>578</td>\n",
       "      <td>1.000000</td>\n",
       "      <td>2</td>\n",
       "      <td>2</td>\n",
       "      <td>2.307216e+06</td>\n",
       "      <td>0</td>\n",
       "      <td>-7.875643e+06</td>\n",
       "      <td>0</td>\n",
       "      <td>21.000000</td>\n",
       "      <td>0</td>\n",
       "      <td>1764.000000</td>\n",
       "      <td>0</td>\n",
       "      <td>SANTIAGO ORIENTE</td>\n",
       "      <td>2</td>\n",
       "      <td>NaN</td>\n",
       "      <td>NaN</td>\n",
       "      <td>NaN</td>\n",
       "      <td>NaN</td>\n",
       "      <td>NaN</td>\n",
       "      <td>NaN</td>\n",
       "    </tr>\n",
       "    <tr>\n",
       "      <th>412</th>\n",
       "      <td>453</td>\n",
       "      <td>1.000000</td>\n",
       "      <td>6</td>\n",
       "      <td>6</td>\n",
       "      <td>1.583580e+05</td>\n",
       "      <td>1</td>\n",
       "      <td>-4.805971e+06</td>\n",
       "      <td>0</td>\n",
       "      <td>11.000000</td>\n",
       "      <td>0</td>\n",
       "      <td>522.666667</td>\n",
       "      <td>0</td>\n",
       "      <td>SANTIAGO CENTRO</td>\n",
       "      <td>1</td>\n",
       "      <td>32.154332</td>\n",
       "      <td>NaN</td>\n",
       "      <td>26626828.0</td>\n",
       "      <td>NaN</td>\n",
       "      <td>56182631.0</td>\n",
       "      <td>0.473933</td>\n",
       "    </tr>\n",
       "    <tr>\n",
       "      <th>171</th>\n",
       "      <td>715</td>\n",
       "      <td>1.000000</td>\n",
       "      <td>2</td>\n",
       "      <td>2</td>\n",
       "      <td>5.054650e+05</td>\n",
       "      <td>0</td>\n",
       "      <td>-9.594131e+07</td>\n",
       "      <td>0</td>\n",
       "      <td>46.500000</td>\n",
       "      <td>0</td>\n",
       "      <td>1224.500000</td>\n",
       "      <td>0</td>\n",
       "      <td>7MA UNIDAD REGIONAL MAULE</td>\n",
       "      <td>2</td>\n",
       "      <td>NaN</td>\n",
       "      <td>NaN</td>\n",
       "      <td>NaN</td>\n",
       "      <td>NaN</td>\n",
       "      <td>NaN</td>\n",
       "      <td>NaN</td>\n",
       "    </tr>\n",
       "    <tr>\n",
       "      <th>274</th>\n",
       "      <td>425</td>\n",
       "      <td>1.000000</td>\n",
       "      <td>10</td>\n",
       "      <td>2</td>\n",
       "      <td>0.000000e+00</td>\n",
       "      <td>9</td>\n",
       "      <td>-3.416726e+06</td>\n",
       "      <td>0</td>\n",
       "      <td>17.500000</td>\n",
       "      <td>8</td>\n",
       "      <td>862.500000</td>\n",
       "      <td>8</td>\n",
       "      <td>SANTIAGO PONIENTE</td>\n",
       "      <td>3</td>\n",
       "      <td>NaN</td>\n",
       "      <td>NaN</td>\n",
       "      <td>NaN</td>\n",
       "      <td>NaN</td>\n",
       "      <td>23803200.0</td>\n",
       "      <td>NaN</td>\n",
       "    </tr>\n",
       "    <tr>\n",
       "      <th>287</th>\n",
       "      <td>563</td>\n",
       "      <td>1.000000</td>\n",
       "      <td>2</td>\n",
       "      <td>1</td>\n",
       "      <td>NaN</td>\n",
       "      <td>2</td>\n",
       "      <td>-2.091605e+07</td>\n",
       "      <td>0</td>\n",
       "      <td>13.500000</td>\n",
       "      <td>0</td>\n",
       "      <td>977.000000</td>\n",
       "      <td>0</td>\n",
       "      <td>SANTIAGO CENTRO</td>\n",
       "      <td>2</td>\n",
       "      <td>NaN</td>\n",
       "      <td>NaN</td>\n",
       "      <td>NaN</td>\n",
       "      <td>NaN</td>\n",
       "      <td>NaN</td>\n",
       "      <td>NaN</td>\n",
       "    </tr>\n",
       "    <tr>\n",
       "      <th>235</th>\n",
       "      <td>545</td>\n",
       "      <td>1.000000</td>\n",
       "      <td>2</td>\n",
       "      <td>1</td>\n",
       "      <td>NaN</td>\n",
       "      <td>2</td>\n",
       "      <td>-8.507060e+06</td>\n",
       "      <td>0</td>\n",
       "      <td>39.000000</td>\n",
       "      <td>1</td>\n",
       "      <td>862.000000</td>\n",
       "      <td>0</td>\n",
       "      <td>SANTIAGO CENTRO</td>\n",
       "      <td>1</td>\n",
       "      <td>NaN</td>\n",
       "      <td>NaN</td>\n",
       "      <td>9317220.0</td>\n",
       "      <td>NaN</td>\n",
       "      <td>NaN</td>\n",
       "      <td>NaN</td>\n",
       "    </tr>\n",
       "    <tr>\n",
       "      <th>164</th>\n",
       "      <td>512</td>\n",
       "      <td>1.000000</td>\n",
       "      <td>3</td>\n",
       "      <td>3</td>\n",
       "      <td>NaN</td>\n",
       "      <td>3</td>\n",
       "      <td>-2.444771e+07</td>\n",
       "      <td>0</td>\n",
       "      <td>13.000000</td>\n",
       "      <td>0</td>\n",
       "      <td>1626.500000</td>\n",
       "      <td>1</td>\n",
       "      <td>8VA UNIDAD REGIONAL BIO BIO</td>\n",
       "      <td>2</td>\n",
       "      <td>NaN</td>\n",
       "      <td>NaN</td>\n",
       "      <td>NaN</td>\n",
       "      <td>NaN</td>\n",
       "      <td>NaN</td>\n",
       "      <td>NaN</td>\n",
       "    </tr>\n",
       "    <tr>\n",
       "      <th>364</th>\n",
       "      <td>537</td>\n",
       "      <td>1.000000</td>\n",
       "      <td>3</td>\n",
       "      <td>3</td>\n",
       "      <td>1.374920e+05</td>\n",
       "      <td>0</td>\n",
       "      <td>-2.646903e+07</td>\n",
       "      <td>0</td>\n",
       "      <td>54.000000</td>\n",
       "      <td>0</td>\n",
       "      <td>1784.666667</td>\n",
       "      <td>0</td>\n",
       "      <td>SANTIAGO NORTE</td>\n",
       "      <td>1</td>\n",
       "      <td>NaN</td>\n",
       "      <td>NaN</td>\n",
       "      <td>NaN</td>\n",
       "      <td>NaN</td>\n",
       "      <td>NaN</td>\n",
       "      <td>NaN</td>\n",
       "    </tr>\n",
       "    <tr>\n",
       "      <th>390</th>\n",
       "      <td>719</td>\n",
       "      <td>1.000000</td>\n",
       "      <td>2</td>\n",
       "      <td>1</td>\n",
       "      <td>0.000000e+00</td>\n",
       "      <td>0</td>\n",
       "      <td>3.460071e+07</td>\n",
       "      <td>0</td>\n",
       "      <td>7.000000</td>\n",
       "      <td>0</td>\n",
       "      <td>1862.500000</td>\n",
       "      <td>0</td>\n",
       "      <td>SANTIAGO CENTRO</td>\n",
       "      <td>1</td>\n",
       "      <td>NaN</td>\n",
       "      <td>NaN</td>\n",
       "      <td>NaN</td>\n",
       "      <td>NaN</td>\n",
       "      <td>NaN</td>\n",
       "      <td>NaN</td>\n",
       "    </tr>\n",
       "    <tr>\n",
       "      <th>421</th>\n",
       "      <td>565</td>\n",
       "      <td>1.000000</td>\n",
       "      <td>2</td>\n",
       "      <td>2</td>\n",
       "      <td>NaN</td>\n",
       "      <td>2</td>\n",
       "      <td>-2.347605e+07</td>\n",
       "      <td>0</td>\n",
       "      <td>76.000000</td>\n",
       "      <td>1</td>\n",
       "      <td>1546.500000</td>\n",
       "      <td>0</td>\n",
       "      <td>8VA UNIDAD REGIONAL BIO BIO</td>\n",
       "      <td>2</td>\n",
       "      <td>NaN</td>\n",
       "      <td>NaN</td>\n",
       "      <td>NaN</td>\n",
       "      <td>NaN</td>\n",
       "      <td>NaN</td>\n",
       "      <td>NaN</td>\n",
       "    </tr>\n",
       "    <tr>\n",
       "      <th>240</th>\n",
       "      <td>507</td>\n",
       "      <td>1.000000</td>\n",
       "      <td>3</td>\n",
       "      <td>3</td>\n",
       "      <td>2.689100e+04</td>\n",
       "      <td>2</td>\n",
       "      <td>-1.680556e+07</td>\n",
       "      <td>0</td>\n",
       "      <td>17.666667</td>\n",
       "      <td>0</td>\n",
       "      <td>1491.000000</td>\n",
       "      <td>2</td>\n",
       "      <td>10MA UNIDAD REGIONAL LOS LAGOS</td>\n",
       "      <td>2</td>\n",
       "      <td>NaN</td>\n",
       "      <td>NaN</td>\n",
       "      <td>NaN</td>\n",
       "      <td>NaN</td>\n",
       "      <td>NaN</td>\n",
       "      <td>NaN</td>\n",
       "    </tr>\n",
       "    <tr>\n",
       "      <th>336</th>\n",
       "      <td>695</td>\n",
       "      <td>1.000000</td>\n",
       "      <td>2</td>\n",
       "      <td>1</td>\n",
       "      <td>NaN</td>\n",
       "      <td>2</td>\n",
       "      <td>-2.034366e+07</td>\n",
       "      <td>0</td>\n",
       "      <td>54.000000</td>\n",
       "      <td>1</td>\n",
       "      <td>862.000000</td>\n",
       "      <td>0</td>\n",
       "      <td>SANTIAGO ORIENTE</td>\n",
       "      <td>1</td>\n",
       "      <td>NaN</td>\n",
       "      <td>NaN</td>\n",
       "      <td>483540.0</td>\n",
       "      <td>NaN</td>\n",
       "      <td>NaN</td>\n",
       "      <td>NaN</td>\n",
       "    </tr>\n",
       "  </tbody>\n",
       "</table>\n",
       "</div>"
      ],
      "text/plain": [
       "     comunidad_08  promedio_score  miembros  contaminados_iniciales  \\\n",
       "651           454        1.000049         5                       5   \n",
       "307           523        1.000012         3                       3   \n",
       "428           443        1.000005         6                       6   \n",
       "95            578        1.000000         2                       2   \n",
       "412           453        1.000000         6                       6   \n",
       "171           715        1.000000         2                       2   \n",
       "274           425        1.000000        10                       2   \n",
       "287           563        1.000000         2                       1   \n",
       "235           545        1.000000         2                       1   \n",
       "164           512        1.000000         3                       3   \n",
       "364           537        1.000000         3                       3   \n",
       "390           719        1.000000         2                       1   \n",
       "421           565        1.000000         2                       2   \n",
       "240           507        1.000000         3                       3   \n",
       "336           695        1.000000         2                       1   \n",
       "\n",
       "     promedio_total_pago_f29  nulos_total_pago_f29  promedio_IVA_neto  \\\n",
       "651             0.000000e+00                     0      -4.208475e+07   \n",
       "307             8.581767e+04                     0      -1.375183e+07   \n",
       "428             0.000000e+00                     0      -1.982032e+07   \n",
       "95              2.307216e+06                     0      -7.875643e+06   \n",
       "412             1.583580e+05                     1      -4.805971e+06   \n",
       "171             5.054650e+05                     0      -9.594131e+07   \n",
       "274             0.000000e+00                     9      -3.416726e+06   \n",
       "287                      NaN                     2      -2.091605e+07   \n",
       "235                      NaN                     2      -8.507060e+06   \n",
       "164                      NaN                     3      -2.444771e+07   \n",
       "364             1.374920e+05                     0      -2.646903e+07   \n",
       "390             0.000000e+00                     0       3.460071e+07   \n",
       "421                      NaN                     2      -2.347605e+07   \n",
       "240             2.689100e+04                     2      -1.680556e+07   \n",
       "336                      NaN                     2      -2.034366e+07   \n",
       "\n",
       "     nulos_IVA_neto  promedio_n_documentos  nulos_n_documentos  \\\n",
       "651               0              29.000000                   0   \n",
       "307               0              17.333333                   0   \n",
       "428               0              28.166667                   0   \n",
       "95                0              21.000000                   0   \n",
       "412               0              11.000000                   0   \n",
       "171               0              46.500000                   0   \n",
       "274               0              17.500000                   8   \n",
       "287               0              13.500000                   0   \n",
       "235               0              39.000000                   1   \n",
       "164               0              13.000000                   0   \n",
       "364               0              54.000000                   0   \n",
       "390               0               7.000000                   0   \n",
       "421               0              76.000000                   1   \n",
       "240               0              17.666667                   0   \n",
       "336               0              54.000000                   1   \n",
       "\n",
       "     promedio_lifetime  nulos_lifetime            moda_unidad_regional  \\\n",
       "651         670.000000               0                SANTIAGO ORIENTE   \n",
       "307         466.333333               0                        Sin Moda   \n",
       "428         469.833333               0                        Sin Moda   \n",
       "95         1764.000000               0                SANTIAGO ORIENTE   \n",
       "412         522.666667               0                 SANTIAGO CENTRO   \n",
       "171        1224.500000               0       7MA UNIDAD REGIONAL MAULE   \n",
       "274         862.500000               8               SANTIAGO PONIENTE   \n",
       "287         977.000000               0                 SANTIAGO CENTRO   \n",
       "235         862.000000               0                 SANTIAGO CENTRO   \n",
       "164        1626.500000               1     8VA UNIDAD REGIONAL BIO BIO   \n",
       "364        1784.666667               0                  SANTIAGO NORTE   \n",
       "390        1862.500000               0                 SANTIAGO CENTRO   \n",
       "421        1546.500000               0     8VA UNIDAD REGIONAL BIO BIO   \n",
       "240        1491.000000               2  10MA UNIDAD REGIONAL LOS LAGOS   \n",
       "336         862.000000               0                SANTIAGO ORIENTE   \n",
       "\n",
       "     frecuencia_unidad_regional  perct_emision_extra  perct_recepcion_extra  \\\n",
       "651                           5            53.680611                    NaN   \n",
       "307                           0            49.847310                    NaN   \n",
       "428                           0            41.620534                    NaN   \n",
       "95                            2                  NaN                    NaN   \n",
       "412                           1            32.154332                    NaN   \n",
       "171                           2                  NaN                    NaN   \n",
       "274                           3                  NaN                    NaN   \n",
       "287                           2                  NaN                    NaN   \n",
       "235                           1                  NaN                    NaN   \n",
       "164                           2                  NaN                    NaN   \n",
       "364                           1                  NaN                    NaN   \n",
       "390                           1                  NaN                    NaN   \n",
       "421                           2                  NaN                    NaN   \n",
       "240                           2                  NaN                    NaN   \n",
       "336                           1                  NaN                    NaN   \n",
       "\n",
       "     emision_extragrupo  recepcion_extragrupo  emision_intragrupo  \\\n",
       "651         208525664.0                   NaN         179930542.0   \n",
       "307          40576844.0                   NaN          40825431.0   \n",
       "428         115957906.0                   NaN         162649535.0   \n",
       "95                  NaN                   NaN                 NaN   \n",
       "412          26626828.0                   NaN          56182631.0   \n",
       "171                 NaN                   NaN                 NaN   \n",
       "274                 NaN                   NaN          23803200.0   \n",
       "287                 NaN                   NaN                 NaN   \n",
       "235           9317220.0                   NaN                 NaN   \n",
       "164                 NaN                   NaN                 NaN   \n",
       "364                 NaN                   NaN                 NaN   \n",
       "390                 NaN                   NaN                 NaN   \n",
       "421                 NaN                   NaN                 NaN   \n",
       "240                 NaN                   NaN                 NaN   \n",
       "336            483540.0                   NaN                 NaN   \n",
       "\n",
       "     tasa_emision_extra_intra  \n",
       "651                  1.158923  \n",
       "307                  0.993911  \n",
       "428                  0.712931  \n",
       "95                        NaN  \n",
       "412                  0.473933  \n",
       "171                       NaN  \n",
       "274                       NaN  \n",
       "287                       NaN  \n",
       "235                       NaN  \n",
       "164                       NaN  \n",
       "364                       NaN  \n",
       "390                       NaN  \n",
       "421                       NaN  \n",
       "240                       NaN  \n",
       "336                       NaN  "
      ]
     },
     "execution_count": 69,
     "metadata": {},
     "output_type": "execute_result"
    }
   ],
   "source": [
    "data=spark.sql('select * from data_comunidades left join iva_comunidad on data_comunidades.comunidad_08=iva_comunidad.com')\n",
    "data=data.toPandas()\n",
    "data=data.drop('com', axis=1)\n",
    "data=data.sort_values(by='promedio_score', ascending=False)\n",
    "data.head(15)"
   ]
  },
  {
   "cell_type": "markdown",
   "id": "3e46b894-c8ae-4a17-8d2f-fc7488557885",
   "metadata": {},
   "source": [
    "Finalmente guardamos el archivo"
   ]
  },
  {
   "cell_type": "code",
   "execution_count": 70,
   "id": "1e786f55-c5d7-4745-a848-80fd50738b08",
   "metadata": {
    "tags": []
   },
   "outputs": [],
   "source": [
    "\n",
    "data.to_csv('/home/cdsw/data/processed/comunidades_louvain/estadistica_comunidades_louvain_with_iva_balance.csv', index=False)"
   ]
  },
  {
   "cell_type": "code",
   "execution_count": null,
   "id": "710f9268-1712-472d-8f2e-448311a88617",
   "metadata": {},
   "outputs": [],
   "source": []
  }
 ],
 "metadata": {
  "kernelspec": {
   "display_name": "Python 3 (ipykernel)",
   "language": "python",
   "name": "python3"
  },
  "language_info": {
   "codemirror_mode": {
    "name": "ipython",
    "version": 3
   },
   "file_extension": ".py",
   "mimetype": "text/x-python",
   "name": "python",
   "nbconvert_exporter": "python",
   "pygments_lexer": "ipython3",
   "version": "3.10.13"
  }
 },
 "nbformat": 4,
 "nbformat_minor": 5
}
