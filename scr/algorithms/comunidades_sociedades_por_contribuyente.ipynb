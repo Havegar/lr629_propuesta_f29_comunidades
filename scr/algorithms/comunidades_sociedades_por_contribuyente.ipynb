{
 "cells": [
  {
   "cell_type": "markdown",
   "id": "15c62fbf-493f-4c18-8e55-d9e0fb29b8b6",
   "metadata": {},
   "source": [
    "### Sociedades ligadas a personas naturales como fuente de grupos tributarios"
   ]
  },
  {
   "cell_type": "code",
   "execution_count": 1,
   "id": "18bff1a6-1471-4b1a-98af-c1bcd085cf40",
   "metadata": {
    "tags": []
   },
   "outputs": [],
   "source": [
    "from pyspark.sql import SparkSession\n",
    "from pyspark.sql.functions import *\n",
    "from pyspark import SparkContext, SparkConf\n",
    "import pyspark\n",
    "import pandas as pd\n",
    "import warnings\n",
    "warnings.filterwarnings('ignore', category=DeprecationWarning)"
   ]
  },
  {
   "cell_type": "code",
   "execution_count": 2,
   "id": "0045495f-27ec-47ad-8474-dd42b9352a2c",
   "metadata": {
    "tags": []
   },
   "outputs": [
    {
     "name": "stderr",
     "output_type": "stream",
     "text": [
      "24/04/16 03:41:13 WARN SparkConf: The configuration key 'spark.yarn.access.hadoopFileSystems' has been deprecated as of Spark 3.0 and may be removed in the future. Please use the new key 'spark.kerberos.access.hadoopFileSystems' instead.\n",
      "24/04/16 03:41:13 WARN SparkConf: The configuration key 'spark.yarn.access.hadoopFileSystems' has been deprecated as of Spark 3.0 and may be removed in the future. Please use the new key 'spark.kerberos.access.hadoopFileSystems' instead.\n",
      "Setting spark.hadoop.yarn.resourcemanager.principal to hvega.externo\n",
      "Using Spark's default log4j profile: org/apache/spark/log4j-defaults.properties\n",
      "Setting default log level to \"WARN\".\n",
      "To adjust logging level use sc.setLogLevel(newLevel). For SparkR, use setLogLevel(newLevel).\n",
      "24/04/16 03:41:14 WARN SparkConf: The configuration key 'spark.yarn.access.hadoopFileSystems' has been deprecated as of Spark 3.0 and may be removed in the future. Please use the new key 'spark.kerberos.access.hadoopFileSystems' instead.\n",
      "24/04/16 03:41:14 WARN SparkConf: The configuration key 'spark.yarn.access.hadoopFileSystems' has been deprecated as of Spark 3.0 and may be removed in the future. Please use the new key 'spark.kerberos.access.hadoopFileSystems' instead.\n",
      "24/04/16 03:41:14 WARN SparkConf: The configuration key 'spark.yarn.access.hadoopFileSystems' has been deprecated as of Spark 3.0 and may be removed in the future. Please use the new key 'spark.kerberos.access.hadoopFileSystems' instead.\n",
      "24/04/16 03:41:15 WARN JettyUtils: GET /jobs/ failed: java.util.NoSuchElementException: Failed to get the application information. If you are starting up Spark, please wait a while until it's ready.\n",
      "java.util.NoSuchElementException: Failed to get the application information. If you are starting up Spark, please wait a while until it's ready.\n",
      "\tat org.apache.spark.status.AppStatusStore.applicationInfo(AppStatusStore.scala:51)\n",
      "\tat org.apache.spark.ui.jobs.AllJobsPage.render(AllJobsPage.scala:276)\n",
      "\tat org.apache.spark.ui.WebUI.$anonfun$attachPage$1(WebUI.scala:90)\n",
      "\tat org.apache.spark.ui.JettyUtils$$anon$1.doGet(JettyUtils.scala:81)\n",
      "\tat javax.servlet.http.HttpServlet.service(HttpServlet.java:503)\n",
      "\tat javax.servlet.http.HttpServlet.service(HttpServlet.java:590)\n",
      "\tat org.sparkproject.jetty.servlet.ServletHolder.handle(ServletHolder.java:791)\n",
      "\tat org.sparkproject.jetty.servlet.ServletHandler$ChainEnd.doFilter(ServletHandler.java:1626)\n",
      "\tat org.apache.spark.ui.HttpSecurityFilter.doFilter(HttpSecurityFilter.scala:95)\n",
      "\tat org.sparkproject.jetty.servlet.FilterHolder.doFilter(FilterHolder.java:193)\n",
      "\tat org.sparkproject.jetty.servlet.ServletHandler$Chain.doFilter(ServletHandler.java:1601)\n",
      "\tat org.sparkproject.jetty.servlet.ServletHandler.doHandle(ServletHandler.java:548)\n",
      "\tat org.sparkproject.jetty.server.handler.ScopedHandler.nextHandle(ScopedHandler.java:233)\n",
      "\tat org.sparkproject.jetty.server.handler.ContextHandler.doHandle(ContextHandler.java:1435)\n",
      "\tat org.sparkproject.jetty.server.handler.ScopedHandler.nextScope(ScopedHandler.java:188)\n",
      "\tat org.sparkproject.jetty.servlet.ServletHandler.doScope(ServletHandler.java:501)\n",
      "\tat org.sparkproject.jetty.server.handler.ScopedHandler.nextScope(ScopedHandler.java:186)\n",
      "\tat org.sparkproject.jetty.server.handler.ContextHandler.doScope(ContextHandler.java:1350)\n",
      "\tat org.sparkproject.jetty.server.handler.ScopedHandler.handle(ScopedHandler.java:141)\n",
      "\tat org.sparkproject.jetty.server.handler.gzip.GzipHandler.handle(GzipHandler.java:763)\n",
      "\tat org.sparkproject.jetty.server.handler.ContextHandlerCollection.handle(ContextHandlerCollection.java:234)\n",
      "\tat org.sparkproject.jetty.server.handler.HandlerWrapper.handle(HandlerWrapper.java:127)\n",
      "\tat org.apache.spark.ui.ProxyRedirectHandler.handle(JettyUtils.scala:581)\n",
      "\tat org.sparkproject.jetty.server.handler.HandlerWrapper.handle(HandlerWrapper.java:127)\n",
      "\tat org.sparkproject.jetty.server.Server.handle(Server.java:516)\n",
      "\tat org.sparkproject.jetty.server.HttpChannel.lambda$handle$1(HttpChannel.java:388)\n",
      "\tat org.sparkproject.jetty.server.HttpChannel.dispatch(HttpChannel.java:633)\n",
      "\tat org.sparkproject.jetty.server.HttpChannel.handle(HttpChannel.java:380)\n",
      "\tat org.sparkproject.jetty.server.HttpConnection.onFillable(HttpConnection.java:277)\n",
      "\tat org.sparkproject.jetty.io.AbstractConnection$ReadCallback.succeeded(AbstractConnection.java:311)\n",
      "\tat org.sparkproject.jetty.io.FillInterest.fillable(FillInterest.java:105)\n",
      "\tat org.sparkproject.jetty.io.ChannelEndPoint$1.run(ChannelEndPoint.java:104)\n",
      "\tat org.sparkproject.jetty.util.thread.strategy.EatWhatYouKill.runTask(EatWhatYouKill.java:336)\n",
      "\tat org.sparkproject.jetty.util.thread.strategy.EatWhatYouKill.doProduce(EatWhatYouKill.java:313)\n",
      "\tat org.sparkproject.jetty.util.thread.strategy.EatWhatYouKill.tryProduce(EatWhatYouKill.java:171)\n",
      "\tat org.sparkproject.jetty.util.thread.strategy.EatWhatYouKill.produce(EatWhatYouKill.java:135)\n",
      "\tat org.sparkproject.jetty.util.thread.QueuedThreadPool.runJob(QueuedThreadPool.java:882)\n",
      "\tat org.sparkproject.jetty.util.thread.QueuedThreadPool$Runner.run(QueuedThreadPool.java:1036)\n",
      "\tat java.lang.Thread.run(Thread.java:750)\n",
      "24/04/16 03:41:15 WARN HttpChannel: /jobs/\n",
      "java.util.NoSuchElementException: Failed to get the application information. If you are starting up Spark, please wait a while until it's ready.\n",
      "\tat org.apache.spark.status.AppStatusStore.applicationInfo(AppStatusStore.scala:51)\n",
      "\tat org.apache.spark.ui.jobs.AllJobsPage.render(AllJobsPage.scala:276)\n",
      "\tat org.apache.spark.ui.WebUI.$anonfun$attachPage$1(WebUI.scala:90)\n",
      "\tat org.apache.spark.ui.JettyUtils$$anon$1.doGet(JettyUtils.scala:81)\n",
      "\tat javax.servlet.http.HttpServlet.service(HttpServlet.java:503)\n",
      "\tat javax.servlet.http.HttpServlet.service(HttpServlet.java:590)\n",
      "\tat org.sparkproject.jetty.servlet.ServletHolder.handle(ServletHolder.java:791)\n",
      "\tat org.sparkproject.jetty.servlet.ServletHandler$ChainEnd.doFilter(ServletHandler.java:1626)\n",
      "\tat org.apache.spark.ui.HttpSecurityFilter.doFilter(HttpSecurityFilter.scala:95)\n",
      "\tat org.sparkproject.jetty.servlet.FilterHolder.doFilter(FilterHolder.java:193)\n",
      "\tat org.sparkproject.jetty.servlet.ServletHandler$Chain.doFilter(ServletHandler.java:1601)\n",
      "\tat org.sparkproject.jetty.servlet.ServletHandler.doHandle(ServletHandler.java:548)\n",
      "\tat org.sparkproject.jetty.server.handler.ScopedHandler.nextHandle(ScopedHandler.java:233)\n",
      "\tat org.sparkproject.jetty.server.handler.ContextHandler.doHandle(ContextHandler.java:1435)\n",
      "\tat org.sparkproject.jetty.server.handler.ScopedHandler.nextScope(ScopedHandler.java:188)\n",
      "\tat org.sparkproject.jetty.servlet.ServletHandler.doScope(ServletHandler.java:501)\n",
      "\tat org.sparkproject.jetty.server.handler.ScopedHandler.nextScope(ScopedHandler.java:186)\n",
      "\tat org.sparkproject.jetty.server.handler.ContextHandler.doScope(ContextHandler.java:1350)\n",
      "\tat org.sparkproject.jetty.server.handler.ScopedHandler.handle(ScopedHandler.java:141)\n",
      "\tat org.sparkproject.jetty.server.handler.gzip.GzipHandler.handle(GzipHandler.java:763)\n",
      "\tat org.sparkproject.jetty.server.handler.ContextHandlerCollection.handle(ContextHandlerCollection.java:234)\n",
      "\tat org.sparkproject.jetty.server.handler.HandlerWrapper.handle(HandlerWrapper.java:127)\n",
      "\tat org.apache.spark.ui.ProxyRedirectHandler.handle(JettyUtils.scala:581)\n",
      "\tat org.sparkproject.jetty.server.handler.HandlerWrapper.handle(HandlerWrapper.java:127)\n",
      "\tat org.sparkproject.jetty.server.Server.handle(Server.java:516)\n",
      "\tat org.sparkproject.jetty.server.HttpChannel.lambda$handle$1(HttpChannel.java:388)\n",
      "\tat org.sparkproject.jetty.server.HttpChannel.dispatch(HttpChannel.java:633)\n",
      "\tat org.sparkproject.jetty.server.HttpChannel.handle(HttpChannel.java:380)\n",
      "\tat org.sparkproject.jetty.server.HttpConnection.onFillable(HttpConnection.java:277)\n",
      "\tat org.sparkproject.jetty.io.AbstractConnection$ReadCallback.succeeded(AbstractConnection.java:311)\n",
      "\tat org.sparkproject.jetty.io.FillInterest.fillable(FillInterest.java:105)\n",
      "\tat org.sparkproject.jetty.io.ChannelEndPoint$1.run(ChannelEndPoint.java:104)\n",
      "\tat org.sparkproject.jetty.util.thread.strategy.EatWhatYouKill.runTask(EatWhatYouKill.java:336)\n",
      "\tat org.sparkproject.jetty.util.thread.strategy.EatWhatYouKill.doProduce(EatWhatYouKill.java:313)\n",
      "\tat org.sparkproject.jetty.util.thread.strategy.EatWhatYouKill.tryProduce(EatWhatYouKill.java:171)\n",
      "\tat org.sparkproject.jetty.util.thread.strategy.EatWhatYouKill.produce(EatWhatYouKill.java:135)\n",
      "\tat org.sparkproject.jetty.util.thread.QueuedThreadPool.runJob(QueuedThreadPool.java:882)\n",
      "\tat org.sparkproject.jetty.util.thread.QueuedThreadPool$Runner.run(QueuedThreadPool.java:1036)\n",
      "\tat java.lang.Thread.run(Thread.java:750)\n",
      "24/04/16 03:41:16 WARN JettyUtils: GET /jobs/ failed: java.util.NoSuchElementException: Failed to get the application information. If you are starting up Spark, please wait a while until it's ready.\n",
      "java.util.NoSuchElementException: Failed to get the application information. If you are starting up Spark, please wait a while until it's ready.\n",
      "\tat org.apache.spark.status.AppStatusStore.applicationInfo(AppStatusStore.scala:51)\n",
      "\tat org.apache.spark.ui.jobs.AllJobsPage.render(AllJobsPage.scala:276)\n",
      "\tat org.apache.spark.ui.WebUI.$anonfun$attachPage$1(WebUI.scala:90)\n",
      "\tat org.apache.spark.ui.JettyUtils$$anon$1.doGet(JettyUtils.scala:81)\n",
      "\tat javax.servlet.http.HttpServlet.service(HttpServlet.java:503)\n",
      "\tat javax.servlet.http.HttpServlet.service(HttpServlet.java:590)\n",
      "\tat org.sparkproject.jetty.servlet.ServletHolder.handle(ServletHolder.java:791)\n",
      "\tat org.sparkproject.jetty.servlet.ServletHandler$ChainEnd.doFilter(ServletHandler.java:1626)\n",
      "\tat org.apache.spark.ui.HttpSecurityFilter.doFilter(HttpSecurityFilter.scala:95)\n",
      "\tat org.sparkproject.jetty.servlet.FilterHolder.doFilter(FilterHolder.java:193)\n",
      "\tat org.sparkproject.jetty.servlet.ServletHandler$Chain.doFilter(ServletHandler.java:1601)\n",
      "\tat org.sparkproject.jetty.servlet.ServletHandler.doHandle(ServletHandler.java:548)\n",
      "\tat org.sparkproject.jetty.server.handler.ScopedHandler.nextHandle(ScopedHandler.java:233)\n",
      "\tat org.sparkproject.jetty.server.handler.ContextHandler.doHandle(ContextHandler.java:1435)\n",
      "\tat org.sparkproject.jetty.server.handler.ScopedHandler.nextScope(ScopedHandler.java:188)\n",
      "\tat org.sparkproject.jetty.servlet.ServletHandler.doScope(ServletHandler.java:501)\n",
      "\tat org.sparkproject.jetty.server.handler.ScopedHandler.nextScope(ScopedHandler.java:186)\n",
      "\tat org.sparkproject.jetty.server.handler.ContextHandler.doScope(ContextHandler.java:1350)\n",
      "\tat org.sparkproject.jetty.server.handler.ScopedHandler.handle(ScopedHandler.java:141)\n",
      "\tat org.sparkproject.jetty.server.handler.gzip.GzipHandler.handle(GzipHandler.java:763)\n",
      "\tat org.sparkproject.jetty.server.handler.ContextHandlerCollection.handle(ContextHandlerCollection.java:234)\n",
      "\tat org.sparkproject.jetty.server.handler.HandlerWrapper.handle(HandlerWrapper.java:127)\n",
      "\tat org.apache.spark.ui.ProxyRedirectHandler.handle(JettyUtils.scala:581)\n",
      "\tat org.sparkproject.jetty.server.handler.HandlerWrapper.handle(HandlerWrapper.java:127)\n",
      "\tat org.sparkproject.jetty.server.Server.handle(Server.java:516)\n",
      "\tat org.sparkproject.jetty.server.HttpChannel.lambda$handle$1(HttpChannel.java:388)\n",
      "\tat org.sparkproject.jetty.server.HttpChannel.dispatch(HttpChannel.java:633)\n",
      "\tat org.sparkproject.jetty.server.HttpChannel.handle(HttpChannel.java:380)\n",
      "\tat org.sparkproject.jetty.server.HttpConnection.onFillable(HttpConnection.java:277)\n",
      "\tat org.sparkproject.jetty.io.AbstractConnection$ReadCallback.succeeded(AbstractConnection.java:311)\n",
      "\tat org.sparkproject.jetty.io.FillInterest.fillable(FillInterest.java:105)\n",
      "\tat org.sparkproject.jetty.io.ChannelEndPoint$1.run(ChannelEndPoint.java:104)\n",
      "\tat org.sparkproject.jetty.util.thread.strategy.EatWhatYouKill.runTask(EatWhatYouKill.java:336)\n",
      "\tat org.sparkproject.jetty.util.thread.strategy.EatWhatYouKill.doProduce(EatWhatYouKill.java:313)\n",
      "\tat org.sparkproject.jetty.util.thread.strategy.EatWhatYouKill.tryProduce(EatWhatYouKill.java:171)\n",
      "\tat org.sparkproject.jetty.util.thread.strategy.EatWhatYouKill.run(EatWhatYouKill.java:129)\n",
      "\tat org.sparkproject.jetty.util.thread.ReservedThreadExecutor$ReservedThread.run(ReservedThreadExecutor.java:383)\n",
      "\tat org.sparkproject.jetty.util.thread.QueuedThreadPool.runJob(QueuedThreadPool.java:882)\n",
      "\tat org.sparkproject.jetty.util.thread.QueuedThreadPool$Runner.run(QueuedThreadPool.java:1036)\n",
      "\tat java.lang.Thread.run(Thread.java:750)\n",
      "24/04/16 03:41:16 WARN HttpChannel: /jobs/\n",
      "java.util.NoSuchElementException: Failed to get the application information. If you are starting up Spark, please wait a while until it's ready.\n",
      "\tat org.apache.spark.status.AppStatusStore.applicationInfo(AppStatusStore.scala:51)\n",
      "\tat org.apache.spark.ui.jobs.AllJobsPage.render(AllJobsPage.scala:276)\n",
      "\tat org.apache.spark.ui.WebUI.$anonfun$attachPage$1(WebUI.scala:90)\n",
      "\tat org.apache.spark.ui.JettyUtils$$anon$1.doGet(JettyUtils.scala:81)\n",
      "\tat javax.servlet.http.HttpServlet.service(HttpServlet.java:503)\n",
      "\tat javax.servlet.http.HttpServlet.service(HttpServlet.java:590)\n",
      "\tat org.sparkproject.jetty.servlet.ServletHolder.handle(ServletHolder.java:791)\n",
      "\tat org.sparkproject.jetty.servlet.ServletHandler$ChainEnd.doFilter(ServletHandler.java:1626)\n",
      "\tat org.apache.spark.ui.HttpSecurityFilter.doFilter(HttpSecurityFilter.scala:95)\n",
      "\tat org.sparkproject.jetty.servlet.FilterHolder.doFilter(FilterHolder.java:193)\n",
      "\tat org.sparkproject.jetty.servlet.ServletHandler$Chain.doFilter(ServletHandler.java:1601)\n",
      "\tat org.sparkproject.jetty.servlet.ServletHandler.doHandle(ServletHandler.java:548)\n",
      "\tat org.sparkproject.jetty.server.handler.ScopedHandler.nextHandle(ScopedHandler.java:233)\n",
      "\tat org.sparkproject.jetty.server.handler.ContextHandler.doHandle(ContextHandler.java:1435)\n",
      "\tat org.sparkproject.jetty.server.handler.ScopedHandler.nextScope(ScopedHandler.java:188)\n",
      "\tat org.sparkproject.jetty.servlet.ServletHandler.doScope(ServletHandler.java:501)\n",
      "\tat org.sparkproject.jetty.server.handler.ScopedHandler.nextScope(ScopedHandler.java:186)\n",
      "\tat org.sparkproject.jetty.server.handler.ContextHandler.doScope(ContextHandler.java:1350)\n",
      "\tat org.sparkproject.jetty.server.handler.ScopedHandler.handle(ScopedHandler.java:141)\n",
      "\tat org.sparkproject.jetty.server.handler.gzip.GzipHandler.handle(GzipHandler.java:763)\n",
      "\tat org.sparkproject.jetty.server.handler.ContextHandlerCollection.handle(ContextHandlerCollection.java:234)\n",
      "\tat org.sparkproject.jetty.server.handler.HandlerWrapper.handle(HandlerWrapper.java:127)\n",
      "\tat org.apache.spark.ui.ProxyRedirectHandler.handle(JettyUtils.scala:581)\n",
      "\tat org.sparkproject.jetty.server.handler.HandlerWrapper.handle(HandlerWrapper.java:127)\n",
      "\tat org.sparkproject.jetty.server.Server.handle(Server.java:516)\n",
      "\tat org.sparkproject.jetty.server.HttpChannel.lambda$handle$1(HttpChannel.java:388)\n",
      "\tat org.sparkproject.jetty.server.HttpChannel.dispatch(HttpChannel.java:633)\n",
      "\tat org.sparkproject.jetty.server.HttpChannel.handle(HttpChannel.java:380)\n",
      "\tat org.sparkproject.jetty.server.HttpConnection.onFillable(HttpConnection.java:277)\n",
      "\tat org.sparkproject.jetty.io.AbstractConnection$ReadCallback.succeeded(AbstractConnection.java:311)\n",
      "\tat org.sparkproject.jetty.io.FillInterest.fillable(FillInterest.java:105)\n",
      "\tat org.sparkproject.jetty.io.ChannelEndPoint$1.run(ChannelEndPoint.java:104)\n",
      "\tat org.sparkproject.jetty.util.thread.strategy.EatWhatYouKill.runTask(EatWhatYouKill.java:336)\n",
      "\tat org.sparkproject.jetty.util.thread.strategy.EatWhatYouKill.doProduce(EatWhatYouKill.java:313)\n",
      "\tat org.sparkproject.jetty.util.thread.strategy.EatWhatYouKill.tryProduce(EatWhatYouKill.java:171)\n",
      "\tat org.sparkproject.jetty.util.thread.strategy.EatWhatYouKill.run(EatWhatYouKill.java:129)\n",
      "\tat org.sparkproject.jetty.util.thread.ReservedThreadExecutor$ReservedThread.run(ReservedThreadExecutor.java:383)\n",
      "\tat org.sparkproject.jetty.util.thread.QueuedThreadPool.runJob(QueuedThreadPool.java:882)\n",
      "\tat org.sparkproject.jetty.util.thread.QueuedThreadPool$Runner.run(QueuedThreadPool.java:1036)\n",
      "\tat java.lang.Thread.run(Thread.java:750)\n",
      "24/04/16 03:41:17 WARN HadoopFSDelegationTokenProvider: Token ABFS/IDBroker has not set up issue date properly. (provided: 0) Using current timestamp (1713238877532) as issue date instead. Consult token implementor to fix the behavior.\n",
      "24/04/16 03:41:17 WARN HadoopFSDelegationTokenProvider: Token ABFS/IDBroker has not set up issue date properly. (provided: 0) Using current timestamp (1713238877536) as issue date instead. Consult token implementor to fix the behavior.\n",
      "24/04/16 03:41:17 WARN JettyUtils: GET /jobs/ failed: java.util.NoSuchElementException: Failed to get the application information. If you are starting up Spark, please wait a while until it's ready.\n",
      "java.util.NoSuchElementException: Failed to get the application information. If you are starting up Spark, please wait a while until it's ready.\n",
      "\tat org.apache.spark.status.AppStatusStore.applicationInfo(AppStatusStore.scala:51)\n",
      "\tat org.apache.spark.ui.jobs.AllJobsPage.render(AllJobsPage.scala:276)\n",
      "\tat org.apache.spark.ui.WebUI.$anonfun$attachPage$1(WebUI.scala:90)\n",
      "\tat org.apache.spark.ui.JettyUtils$$anon$1.doGet(JettyUtils.scala:81)\n",
      "\tat javax.servlet.http.HttpServlet.service(HttpServlet.java:503)\n",
      "\tat javax.servlet.http.HttpServlet.service(HttpServlet.java:590)\n",
      "\tat org.sparkproject.jetty.servlet.ServletHolder.handle(ServletHolder.java:791)\n",
      "\tat org.sparkproject.jetty.servlet.ServletHandler$ChainEnd.doFilter(ServletHandler.java:1626)\n",
      "\tat org.apache.spark.ui.HttpSecurityFilter.doFilter(HttpSecurityFilter.scala:95)\n",
      "\tat org.sparkproject.jetty.servlet.FilterHolder.doFilter(FilterHolder.java:193)\n",
      "\tat org.sparkproject.jetty.servlet.ServletHandler$Chain.doFilter(ServletHandler.java:1601)\n",
      "\tat org.sparkproject.jetty.servlet.ServletHandler.doHandle(ServletHandler.java:548)\n",
      "\tat org.sparkproject.jetty.server.handler.ScopedHandler.nextHandle(ScopedHandler.java:233)\n",
      "\tat org.sparkproject.jetty.server.handler.ContextHandler.doHandle(ContextHandler.java:1435)\n",
      "\tat org.sparkproject.jetty.server.handler.ScopedHandler.nextScope(ScopedHandler.java:188)\n",
      "\tat org.sparkproject.jetty.servlet.ServletHandler.doScope(ServletHandler.java:501)\n",
      "\tat org.sparkproject.jetty.server.handler.ScopedHandler.nextScope(ScopedHandler.java:186)\n",
      "\tat org.sparkproject.jetty.server.handler.ContextHandler.doScope(ContextHandler.java:1350)\n",
      "\tat org.sparkproject.jetty.server.handler.ScopedHandler.handle(ScopedHandler.java:141)\n",
      "\tat org.sparkproject.jetty.server.handler.gzip.GzipHandler.handle(GzipHandler.java:763)\n",
      "\tat org.sparkproject.jetty.server.handler.ContextHandlerCollection.handle(ContextHandlerCollection.java:234)\n",
      "\tat org.sparkproject.jetty.server.handler.HandlerWrapper.handle(HandlerWrapper.java:127)\n",
      "\tat org.apache.spark.ui.ProxyRedirectHandler.handle(JettyUtils.scala:581)\n",
      "\tat org.sparkproject.jetty.server.handler.HandlerWrapper.handle(HandlerWrapper.java:127)\n",
      "\tat org.sparkproject.jetty.server.Server.handle(Server.java:516)\n",
      "\tat org.sparkproject.jetty.server.HttpChannel.lambda$handle$1(HttpChannel.java:388)\n",
      "\tat org.sparkproject.jetty.server.HttpChannel.dispatch(HttpChannel.java:633)\n",
      "\tat org.sparkproject.jetty.server.HttpChannel.handle(HttpChannel.java:380)\n",
      "\tat org.sparkproject.jetty.server.HttpConnection.onFillable(HttpConnection.java:277)\n",
      "\tat org.sparkproject.jetty.io.AbstractConnection$ReadCallback.succeeded(AbstractConnection.java:311)\n",
      "\tat org.sparkproject.jetty.io.FillInterest.fillable(FillInterest.java:105)\n",
      "\tat org.sparkproject.jetty.io.ChannelEndPoint$1.run(ChannelEndPoint.java:104)\n",
      "\tat org.sparkproject.jetty.util.thread.strategy.EatWhatYouKill.runTask(EatWhatYouKill.java:336)\n",
      "\tat org.sparkproject.jetty.util.thread.strategy.EatWhatYouKill.doProduce(EatWhatYouKill.java:313)\n",
      "\tat org.sparkproject.jetty.util.thread.strategy.EatWhatYouKill.tryProduce(EatWhatYouKill.java:171)\n",
      "\tat org.sparkproject.jetty.util.thread.strategy.EatWhatYouKill.run(EatWhatYouKill.java:129)\n",
      "\tat org.sparkproject.jetty.util.thread.ReservedThreadExecutor$ReservedThread.run(ReservedThreadExecutor.java:383)\n",
      "\tat org.sparkproject.jetty.util.thread.QueuedThreadPool.runJob(QueuedThreadPool.java:882)\n",
      "\tat org.sparkproject.jetty.util.thread.QueuedThreadPool$Runner.run(QueuedThreadPool.java:1036)\n",
      "\tat java.lang.Thread.run(Thread.java:750)\n",
      "24/04/16 03:41:17 WARN HttpChannel: /jobs/\n",
      "java.util.NoSuchElementException: Failed to get the application information. If you are starting up Spark, please wait a while until it's ready.\n",
      "\tat org.apache.spark.status.AppStatusStore.applicationInfo(AppStatusStore.scala:51)\n",
      "\tat org.apache.spark.ui.jobs.AllJobsPage.render(AllJobsPage.scala:276)\n",
      "\tat org.apache.spark.ui.WebUI.$anonfun$attachPage$1(WebUI.scala:90)\n",
      "\tat org.apache.spark.ui.JettyUtils$$anon$1.doGet(JettyUtils.scala:81)\n",
      "\tat javax.servlet.http.HttpServlet.service(HttpServlet.java:503)\n",
      "\tat javax.servlet.http.HttpServlet.service(HttpServlet.java:590)\n",
      "\tat org.sparkproject.jetty.servlet.ServletHolder.handle(ServletHolder.java:791)\n",
      "\tat org.sparkproject.jetty.servlet.ServletHandler$ChainEnd.doFilter(ServletHandler.java:1626)\n",
      "\tat org.apache.spark.ui.HttpSecurityFilter.doFilter(HttpSecurityFilter.scala:95)\n",
      "\tat org.sparkproject.jetty.servlet.FilterHolder.doFilter(FilterHolder.java:193)\n",
      "\tat org.sparkproject.jetty.servlet.ServletHandler$Chain.doFilter(ServletHandler.java:1601)\n",
      "\tat org.sparkproject.jetty.servlet.ServletHandler.doHandle(ServletHandler.java:548)\n",
      "\tat org.sparkproject.jetty.server.handler.ScopedHandler.nextHandle(ScopedHandler.java:233)\n",
      "\tat org.sparkproject.jetty.server.handler.ContextHandler.doHandle(ContextHandler.java:1435)\n",
      "\tat org.sparkproject.jetty.server.handler.ScopedHandler.nextScope(ScopedHandler.java:188)\n",
      "\tat org.sparkproject.jetty.servlet.ServletHandler.doScope(ServletHandler.java:501)\n",
      "\tat org.sparkproject.jetty.server.handler.ScopedHandler.nextScope(ScopedHandler.java:186)\n",
      "\tat org.sparkproject.jetty.server.handler.ContextHandler.doScope(ContextHandler.java:1350)\n",
      "\tat org.sparkproject.jetty.server.handler.ScopedHandler.handle(ScopedHandler.java:141)\n",
      "\tat org.sparkproject.jetty.server.handler.gzip.GzipHandler.handle(GzipHandler.java:763)\n",
      "\tat org.sparkproject.jetty.server.handler.ContextHandlerCollection.handle(ContextHandlerCollection.java:234)\n",
      "\tat org.sparkproject.jetty.server.handler.HandlerWrapper.handle(HandlerWrapper.java:127)\n",
      "\tat org.apache.spark.ui.ProxyRedirectHandler.handle(JettyUtils.scala:581)\n",
      "\tat org.sparkproject.jetty.server.handler.HandlerWrapper.handle(HandlerWrapper.java:127)\n",
      "\tat org.sparkproject.jetty.server.Server.handle(Server.java:516)\n",
      "\tat org.sparkproject.jetty.server.HttpChannel.lambda$handle$1(HttpChannel.java:388)\n",
      "\tat org.sparkproject.jetty.server.HttpChannel.dispatch(HttpChannel.java:633)\n",
      "\tat org.sparkproject.jetty.server.HttpChannel.handle(HttpChannel.java:380)\n",
      "\tat org.sparkproject.jetty.server.HttpConnection.onFillable(HttpConnection.java:277)\n",
      "\tat org.sparkproject.jetty.io.AbstractConnection$ReadCallback.succeeded(AbstractConnection.java:311)\n",
      "\tat org.sparkproject.jetty.io.FillInterest.fillable(FillInterest.java:105)\n",
      "\tat org.sparkproject.jetty.io.ChannelEndPoint$1.run(ChannelEndPoint.java:104)\n",
      "\tat org.sparkproject.jetty.util.thread.strategy.EatWhatYouKill.runTask(EatWhatYouKill.java:336)\n",
      "\tat org.sparkproject.jetty.util.thread.strategy.EatWhatYouKill.doProduce(EatWhatYouKill.java:313)\n",
      "\tat org.sparkproject.jetty.util.thread.strategy.EatWhatYouKill.tryProduce(EatWhatYouKill.java:171)\n",
      "\tat org.sparkproject.jetty.util.thread.strategy.EatWhatYouKill.run(EatWhatYouKill.java:129)\n",
      "\tat org.sparkproject.jetty.util.thread.ReservedThreadExecutor$ReservedThread.run(ReservedThreadExecutor.java:383)\n",
      "\tat org.sparkproject.jetty.util.thread.QueuedThreadPool.runJob(QueuedThreadPool.java:882)\n",
      "\tat org.sparkproject.jetty.util.thread.QueuedThreadPool$Runner.run(QueuedThreadPool.java:1036)\n",
      "\tat java.lang.Thread.run(Thread.java:750)\n",
      "24/04/16 03:41:17 WARN HiveServer2CredentialProvider: Failed to get HS2 delegation token\n",
      "java.util.NoSuchElementException: spark.sql.hive.hiveserver2.jdbc.url\n",
      "\tat org.apache.spark.SparkConf.$anonfun$get$1(SparkConf.scala:245)\n",
      "\tat scala.Option.getOrElse(Option.scala:189)\n",
      "\tat org.apache.spark.SparkConf.get(SparkConf.scala:245)\n",
      "\tat com.hortonworks.spark.deploy.yarn.security.HiveServer2CredentialProvider.obtainDelegationTokens(HiveServer2CredentialProvider.scala:64)\n",
      "\tat org.apache.spark.deploy.security.HadoopDelegationTokenManager.$anonfun$obtainDelegationTokens$2(HadoopDelegationTokenManager.scala:164)\n",
      "\tat scala.collection.TraversableLike.$anonfun$flatMap$1(TraversableLike.scala:245)\n",
      "\tat scala.collection.Iterator.foreach(Iterator.scala:941)\n",
      "\tat scala.collection.Iterator.foreach$(Iterator.scala:941)\n",
      "\tat scala.collection.AbstractIterator.foreach(Iterator.scala:1429)\n",
      "\tat scala.collection.MapLike$DefaultValuesIterable.foreach(MapLike.scala:213)\n",
      "\tat scala.collection.TraversableLike.flatMap(TraversableLike.scala:245)\n",
      "\tat scala.collection.TraversableLike.flatMap$(TraversableLike.scala:242)\n",
      "\tat scala.collection.AbstractTraversable.flatMap(Traversable.scala:108)\n",
      "\tat org.apache.spark.deploy.security.HadoopDelegationTokenManager.org$apache$spark$deploy$security$HadoopDelegationTokenManager$$obtainDelegationTokens(HadoopDelegationTokenManager.scala:162)\n",
      "\tat org.apache.spark.deploy.security.HadoopDelegationTokenManager$$anon$4.run(HadoopDelegationTokenManager.scala:226)\n",
      "\tat org.apache.spark.deploy.security.HadoopDelegationTokenManager$$anon$4.run(HadoopDelegationTokenManager.scala:224)\n",
      "\tat java.security.AccessController.doPrivileged(Native Method)\n",
      "\tat javax.security.auth.Subject.doAs(Subject.java:422)\n",
      "\tat org.apache.hadoop.security.UserGroupInformation.doAs(UserGroupInformation.java:1899)\n",
      "\tat org.apache.spark.deploy.security.HadoopDelegationTokenManager.obtainTokensAndScheduleRenewal(HadoopDelegationTokenManager.scala:224)\n",
      "\tat org.apache.spark.deploy.security.HadoopDelegationTokenManager.org$apache$spark$deploy$security$HadoopDelegationTokenManager$$updateTokensTask(HadoopDelegationTokenManager.scala:198)\n",
      "\tat org.apache.spark.deploy.security.HadoopDelegationTokenManager.start(HadoopDelegationTokenManager.scala:123)\n",
      "\tat org.apache.spark.scheduler.cluster.CoarseGrainedSchedulerBackend.$anonfun$start$1(CoarseGrainedSchedulerBackend.scala:552)\n",
      "\tat org.apache.spark.scheduler.cluster.CoarseGrainedSchedulerBackend.$anonfun$start$1$adapted(CoarseGrainedSchedulerBackend.scala:549)\n",
      "\tat scala.Option.foreach(Option.scala:407)\n",
      "\tat org.apache.spark.scheduler.cluster.CoarseGrainedSchedulerBackend.start(CoarseGrainedSchedulerBackend.scala:549)\n",
      "\tat org.apache.spark.scheduler.cluster.k8s.KubernetesClusterSchedulerBackend.start(KubernetesClusterSchedulerBackend.scala:95)\n",
      "\tat org.apache.spark.scheduler.TaskSchedulerImpl.start(TaskSchedulerImpl.scala:220)\n",
      "\tat org.apache.spark.SparkContext.<init>(SparkContext.scala:581)\n",
      "\tat org.apache.spark.api.java.JavaSparkContext.<init>(JavaSparkContext.scala:58)\n",
      "\tat sun.reflect.NativeConstructorAccessorImpl.newInstance0(Native Method)\n",
      "\tat sun.reflect.NativeConstructorAccessorImpl.newInstance(NativeConstructorAccessorImpl.java:62)\n",
      "\tat sun.reflect.DelegatingConstructorAccessorImpl.newInstance(DelegatingConstructorAccessorImpl.java:45)\n",
      "\tat java.lang.reflect.Constructor.newInstance(Constructor.java:423)\n",
      "\tat py4j.reflection.MethodInvoker.invoke(MethodInvoker.java:247)\n",
      "\tat py4j.reflection.ReflectionEngine.invoke(ReflectionEngine.java:357)\n",
      "\tat py4j.Gateway.invoke(Gateway.java:238)\n",
      "\tat py4j.commands.ConstructorCommand.invokeConstructor(ConstructorCommand.java:80)\n",
      "\tat py4j.commands.ConstructorCommand.execute(ConstructorCommand.java:69)\n",
      "\tat py4j.ClientServerConnection.waitForCommands(ClientServerConnection.java:182)\n",
      "\tat py4j.ClientServerConnection.run(ClientServerConnection.java:106)\n",
      "\tat java.lang.Thread.run(Thread.java:750)\n",
      "24/04/16 03:41:18 WARN JettyUtils: GET /jobs/ failed: java.util.NoSuchElementException: Failed to get the application information. If you are starting up Spark, please wait a while until it's ready.\n",
      "java.util.NoSuchElementException: Failed to get the application information. If you are starting up Spark, please wait a while until it's ready.\n",
      "\tat org.apache.spark.status.AppStatusStore.applicationInfo(AppStatusStore.scala:51)\n",
      "\tat org.apache.spark.ui.jobs.AllJobsPage.render(AllJobsPage.scala:276)\n",
      "\tat org.apache.spark.ui.WebUI.$anonfun$attachPage$1(WebUI.scala:90)\n",
      "\tat org.apache.spark.ui.JettyUtils$$anon$1.doGet(JettyUtils.scala:81)\n",
      "\tat javax.servlet.http.HttpServlet.service(HttpServlet.java:503)\n",
      "\tat javax.servlet.http.HttpServlet.service(HttpServlet.java:590)\n",
      "\tat org.sparkproject.jetty.servlet.ServletHolder.handle(ServletHolder.java:791)\n",
      "\tat org.sparkproject.jetty.servlet.ServletHandler$ChainEnd.doFilter(ServletHandler.java:1626)\n",
      "\tat org.apache.spark.ui.HttpSecurityFilter.doFilter(HttpSecurityFilter.scala:95)\n",
      "\tat org.sparkproject.jetty.servlet.FilterHolder.doFilter(FilterHolder.java:193)\n",
      "\tat org.sparkproject.jetty.servlet.ServletHandler$Chain.doFilter(ServletHandler.java:1601)\n",
      "\tat org.sparkproject.jetty.servlet.ServletHandler.doHandle(ServletHandler.java:548)\n",
      "\tat org.sparkproject.jetty.server.handler.ScopedHandler.nextHandle(ScopedHandler.java:233)\n",
      "\tat org.sparkproject.jetty.server.handler.ContextHandler.doHandle(ContextHandler.java:1435)\n",
      "\tat org.sparkproject.jetty.server.handler.ScopedHandler.nextScope(ScopedHandler.java:188)\n",
      "\tat org.sparkproject.jetty.servlet.ServletHandler.doScope(ServletHandler.java:501)\n",
      "\tat org.sparkproject.jetty.server.handler.ScopedHandler.nextScope(ScopedHandler.java:186)\n",
      "\tat org.sparkproject.jetty.server.handler.ContextHandler.doScope(ContextHandler.java:1350)\n",
      "\tat org.sparkproject.jetty.server.handler.ScopedHandler.handle(ScopedHandler.java:141)\n",
      "\tat org.sparkproject.jetty.server.handler.gzip.GzipHandler.handle(GzipHandler.java:763)\n",
      "\tat org.sparkproject.jetty.server.handler.ContextHandlerCollection.handle(ContextHandlerCollection.java:234)\n",
      "\tat org.sparkproject.jetty.server.handler.HandlerWrapper.handle(HandlerWrapper.java:127)\n",
      "\tat org.apache.spark.ui.ProxyRedirectHandler.handle(JettyUtils.scala:581)\n",
      "\tat org.sparkproject.jetty.server.handler.HandlerWrapper.handle(HandlerWrapper.java:127)\n",
      "\tat org.sparkproject.jetty.server.Server.handle(Server.java:516)\n",
      "\tat org.sparkproject.jetty.server.HttpChannel.lambda$handle$1(HttpChannel.java:388)\n",
      "\tat org.sparkproject.jetty.server.HttpChannel.dispatch(HttpChannel.java:633)\n",
      "\tat org.sparkproject.jetty.server.HttpChannel.handle(HttpChannel.java:380)\n",
      "\tat org.sparkproject.jetty.server.HttpConnection.onFillable(HttpConnection.java:277)\n",
      "\tat org.sparkproject.jetty.io.AbstractConnection$ReadCallback.succeeded(AbstractConnection.java:311)\n",
      "\tat org.sparkproject.jetty.io.FillInterest.fillable(FillInterest.java:105)\n",
      "\tat org.sparkproject.jetty.io.ChannelEndPoint$1.run(ChannelEndPoint.java:104)\n",
      "\tat org.sparkproject.jetty.util.thread.strategy.EatWhatYouKill.runTask(EatWhatYouKill.java:336)\n",
      "\tat org.sparkproject.jetty.util.thread.strategy.EatWhatYouKill.doProduce(EatWhatYouKill.java:313)\n",
      "\tat org.sparkproject.jetty.util.thread.strategy.EatWhatYouKill.tryProduce(EatWhatYouKill.java:171)\n",
      "\tat org.sparkproject.jetty.util.thread.strategy.EatWhatYouKill.run(EatWhatYouKill.java:129)\n",
      "\tat org.sparkproject.jetty.util.thread.ReservedThreadExecutor$ReservedThread.run(ReservedThreadExecutor.java:383)\n",
      "\tat org.sparkproject.jetty.util.thread.QueuedThreadPool.runJob(QueuedThreadPool.java:882)\n",
      "\tat org.sparkproject.jetty.util.thread.QueuedThreadPool$Runner.run(QueuedThreadPool.java:1036)\n",
      "\tat java.lang.Thread.run(Thread.java:750)\n",
      "24/04/16 03:41:18 WARN HttpChannel: /jobs/\n",
      "java.util.NoSuchElementException: Failed to get the application information. If you are starting up Spark, please wait a while until it's ready.\n",
      "\tat org.apache.spark.status.AppStatusStore.applicationInfo(AppStatusStore.scala:51)\n",
      "\tat org.apache.spark.ui.jobs.AllJobsPage.render(AllJobsPage.scala:276)\n",
      "\tat org.apache.spark.ui.WebUI.$anonfun$attachPage$1(WebUI.scala:90)\n",
      "\tat org.apache.spark.ui.JettyUtils$$anon$1.doGet(JettyUtils.scala:81)\n",
      "\tat javax.servlet.http.HttpServlet.service(HttpServlet.java:503)\n",
      "\tat javax.servlet.http.HttpServlet.service(HttpServlet.java:590)\n",
      "\tat org.sparkproject.jetty.servlet.ServletHolder.handle(ServletHolder.java:791)\n",
      "\tat org.sparkproject.jetty.servlet.ServletHandler$ChainEnd.doFilter(ServletHandler.java:1626)\n",
      "\tat org.apache.spark.ui.HttpSecurityFilter.doFilter(HttpSecurityFilter.scala:95)\n",
      "\tat org.sparkproject.jetty.servlet.FilterHolder.doFilter(FilterHolder.java:193)\n",
      "\tat org.sparkproject.jetty.servlet.ServletHandler$Chain.doFilter(ServletHandler.java:1601)\n",
      "\tat org.sparkproject.jetty.servlet.ServletHandler.doHandle(ServletHandler.java:548)\n",
      "\tat org.sparkproject.jetty.server.handler.ScopedHandler.nextHandle(ScopedHandler.java:233)\n",
      "\tat org.sparkproject.jetty.server.handler.ContextHandler.doHandle(ContextHandler.java:1435)\n",
      "\tat org.sparkproject.jetty.server.handler.ScopedHandler.nextScope(ScopedHandler.java:188)\n",
      "\tat org.sparkproject.jetty.servlet.ServletHandler.doScope(ServletHandler.java:501)\n",
      "\tat org.sparkproject.jetty.server.handler.ScopedHandler.nextScope(ScopedHandler.java:186)\n",
      "\tat org.sparkproject.jetty.server.handler.ContextHandler.doScope(ContextHandler.java:1350)\n",
      "\tat org.sparkproject.jetty.server.handler.ScopedHandler.handle(ScopedHandler.java:141)\n",
      "\tat org.sparkproject.jetty.server.handler.gzip.GzipHandler.handle(GzipHandler.java:763)\n",
      "\tat org.sparkproject.jetty.server.handler.ContextHandlerCollection.handle(ContextHandlerCollection.java:234)\n",
      "\tat org.sparkproject.jetty.server.handler.HandlerWrapper.handle(HandlerWrapper.java:127)\n",
      "\tat org.apache.spark.ui.ProxyRedirectHandler.handle(JettyUtils.scala:581)\n",
      "\tat org.sparkproject.jetty.server.handler.HandlerWrapper.handle(HandlerWrapper.java:127)\n",
      "\tat org.sparkproject.jetty.server.Server.handle(Server.java:516)\n",
      "\tat org.sparkproject.jetty.server.HttpChannel.lambda$handle$1(HttpChannel.java:388)\n",
      "\tat org.sparkproject.jetty.server.HttpChannel.dispatch(HttpChannel.java:633)\n",
      "\tat org.sparkproject.jetty.server.HttpChannel.handle(HttpChannel.java:380)\n",
      "\tat org.sparkproject.jetty.server.HttpConnection.onFillable(HttpConnection.java:277)\n",
      "\tat org.sparkproject.jetty.io.AbstractConnection$ReadCallback.succeeded(AbstractConnection.java:311)\n",
      "\tat org.sparkproject.jetty.io.FillInterest.fillable(FillInterest.java:105)\n",
      "\tat org.sparkproject.jetty.io.ChannelEndPoint$1.run(ChannelEndPoint.java:104)\n",
      "\tat org.sparkproject.jetty.util.thread.strategy.EatWhatYouKill.runTask(EatWhatYouKill.java:336)\n",
      "\tat org.sparkproject.jetty.util.thread.strategy.EatWhatYouKill.doProduce(EatWhatYouKill.java:313)\n",
      "\tat org.sparkproject.jetty.util.thread.strategy.EatWhatYouKill.tryProduce(EatWhatYouKill.java:171)\n",
      "\tat org.sparkproject.jetty.util.thread.strategy.EatWhatYouKill.run(EatWhatYouKill.java:129)\n",
      "\tat org.sparkproject.jetty.util.thread.ReservedThreadExecutor$ReservedThread.run(ReservedThreadExecutor.java:383)\n",
      "\tat org.sparkproject.jetty.util.thread.QueuedThreadPool.runJob(QueuedThreadPool.java:882)\n",
      "\tat org.sparkproject.jetty.util.thread.QueuedThreadPool$Runner.run(QueuedThreadPool.java:1036)\n",
      "\tat java.lang.Thread.run(Thread.java:750)\n",
      "24/04/16 03:41:19 WARN ExecutorAllocationManager: Dynamic allocation without a shuffle service is an experimental feature.\n"
     ]
    }
   ],
   "source": [
    "\n",
    "spark = SparkSession.builder \\\n",
    "  .appName(\"Test\")  \\\n",
    "  .config(\"spark.yarn.access.hadoopFileSystems\",\"abfs://data@datalakesii.dfs.core.windows.net/DatoOrigen/lr-629/UtilBajo/intermedia/familiaridad\") \\\n",
    "  .config(\"spark.executor.memory\", \"24g\") \\\n",
    "  .config(\"spark.driver.memory\", \"12g\")\\\n",
    "  .config(\"spark.executor.cores\", \"12\") \\\n",
    "  .config(\"spark.executor.instances\", \"24\") \\\n",
    "  .config(\"spark.driver.maxResultSize\", \"12g\") \\\n",
    "  .getOrCreate()"
   ]
  },
  {
   "cell_type": "markdown",
   "id": "58a9214b-c852-41f7-8ea9-e7ced5442083",
   "metadata": {},
   "source": [
    "### Carga de relaciones societarias(depurada)\n",
    "\n",
    "Se utilizan los datos de la malla de socios depurada."
   ]
  },
  {
   "cell_type": "code",
   "execution_count": 3,
   "id": "e76d0bab-25b8-40cf-8c05-3a372108322a",
   "metadata": {
    "tags": []
   },
   "outputs": [
    {
     "name": "stderr",
     "output_type": "stream",
     "text": [
      "24/04/16 03:42:05 WARN TaskSchedulerImpl: Initial job has not accepted any resources; check your cluster UI to ensure that workers are registered and have sufficient resources\n",
      "24/04/16 03:42:20 WARN TaskSchedulerImpl: Initial job has not accepted any resources; check your cluster UI to ensure that workers are registered and have sufficient resources\n",
      "24/04/16 03:42:35 WARN TaskSchedulerImpl: Initial job has not accepted any resources; check your cluster UI to ensure that workers are registered and have sufficient resources\n",
      "24/04/16 03:42:50 WARN TaskSchedulerImpl: Initial job has not accepted any resources; check your cluster UI to ensure that workers are registered and have sufficient resources\n",
      "24/04/16 03:43:05 WARN TaskSchedulerImpl: Initial job has not accepted any resources; check your cluster UI to ensure that workers are registered and have sufficient resources\n",
      "24/04/16 03:43:20 WARN TaskSchedulerImpl: Initial job has not accepted any resources; check your cluster UI to ensure that workers are registered and have sufficient resources\n",
      "24/04/16 03:43:35 WARN TaskSchedulerImpl: Initial job has not accepted any resources; check your cluster UI to ensure that workers are registered and have sufficient resources\n",
      "24/04/16 03:43:50 WARN TaskSchedulerImpl: Initial job has not accepted any resources; check your cluster UI to ensure that workers are registered and have sufficient resources\n",
      "24/04/16 03:44:05 WARN TaskSchedulerImpl: Initial job has not accepted any resources; check your cluster UI to ensure that workers are registered and have sufficient resources\n",
      "24/04/16 03:44:20 WARN TaskSchedulerImpl: Initial job has not accepted any resources; check your cluster UI to ensure that workers are registered and have sufficient resources\n",
      "24/04/16 03:44:35 WARN TaskSchedulerImpl: Initial job has not accepted any resources; check your cluster UI to ensure that workers are registered and have sufficient resources\n",
      "24/04/16 03:44:50 WARN TaskSchedulerImpl: Initial job has not accepted any resources; check your cluster UI to ensure that workers are registered and have sufficient resources\n",
      "24/04/16 03:45:05 WARN TaskSchedulerImpl: Initial job has not accepted any resources; check your cluster UI to ensure that workers are registered and have sufficient resources\n",
      "24/04/16 03:45:20 WARN TaskSchedulerImpl: Initial job has not accepted any resources; check your cluster UI to ensure that workers are registered and have sufficient resources\n",
      "24/04/16 03:45:35 WARN TaskSchedulerImpl: Initial job has not accepted any resources; check your cluster UI to ensure that workers are registered and have sufficient resources\n",
      "                                                                                \r"
     ]
    }
   ],
   "source": [
    "df = spark.read.options(header=True, inferSchema=True, delimiter=\",\").csv(\"/home/cdsw/data/processed/malla_societaria_procesada/sociedades_participacion_capital_nozero.csv\")\n",
    "df.createOrReplaceTempView(\"sociedad\")"
   ]
  },
  {
   "cell_type": "markdown",
   "id": "914e915a-2281-4957-95c7-657f0dbf3a31",
   "metadata": {},
   "source": [
    "### Tablas temporales previo a la ejecucion"
   ]
  },
  {
   "cell_type": "code",
   "execution_count": 4,
   "id": "2861de7d-f5ac-4d09-8959-4b06c08ad913",
   "metadata": {
    "tags": []
   },
   "outputs": [],
   "source": [
    "spark.sql(\"select RUT_SOCIEDAD, RUT_SOCIO, PORCENTAJE_CAPITAL from sociedad order by RUT_SOCIEDAD asc\").createOrReplaceTempView(\"sociedad\")\n",
    "spark.sql(\"select RUT_SOCIEDAD as RUT_SOCIEDAD_AUX ,RUT_SOCIO as RUT_SOCIO_AUX, PORCENTAJE_CAPITAL as PORCENTAJE_CAPITAL_AUX from sociedad order by RUT_SOCIEDAD asc\").createOrReplaceTempView(\"aux\")\n"
   ]
  },
  {
   "cell_type": "markdown",
   "id": "3b15b629-e6f8-480c-b993-b6f65d924ab6",
   "metadata": {},
   "source": [
    "### Calculo de arbol de socios naturales\n",
    "\n",
    "El calculo se realiza con tablas auxiliares en 15 iteraciones. En cada iteracion se hace un join donde se van encadenando los socios por la malla societaria. Tamien se recalcula el porcentaje de participacion en relacion a la sociedad inicial."
   ]
  },
  {
   "cell_type": "code",
   "execution_count": 5,
   "id": "568187f1-5c2d-4f07-86e2-f44fd4773719",
   "metadata": {
    "tags": []
   },
   "outputs": [
    {
     "name": "stderr",
     "output_type": "stream",
     "text": [
      "[Stage 153:===================================================>   (17 + 1) / 18]\r"
     ]
    },
    {
     "name": "stdout",
     "output_type": "stream",
     "text": [
      "+--------------------+--------------------+------------------+\n",
      "|        RUT_SOCIEDAD|           RUT_SOCIO|PORCENTAJE_CAPITAL|\n",
      "+--------------------+--------------------+------------------+\n",
      "|+++JjoAr1RQa1kY7r...|S2zsiazT64Jiu/sSE...|             85.71|\n",
      "|+++JjoAr1RQa1kY7r...|xO5P1s+Yeug4wKtb8...|             14.29|\n",
      "|+++P6tU1TAUNG0SZv...|8ejqjUOvnKKfMZSzj...|             100.0|\n",
      "|+++UeiptXaAQD74N1...|QemGi6c6gkD3rdstn...|              28.0|\n",
      "|+++UeiptXaAQD74N1...|5jgmhcvBN2sVp7Gh5...|              72.0|\n",
      "|+++VKgYcn1igYZjkT...|XRkbvgfaa5MRVblDF...|             100.0|\n",
      "|+++VWXcqX/471v55m...|d/Gh1G45HEItM+byD...|              99.0|\n",
      "|+++VWXcqX/471v55m...|t9AEh7tBjjp3FKWzm...|               1.0|\n",
      "|+++ZYfC4XA28yQEQd...|Rf14vs+327ZlNsQvX...|             100.0|\n",
      "|+++rmzjqUcW56fKfV...|VULdXIkUAxKz8BFIA...|              52.5|\n",
      "|+++rmzjqUcW56fKfV...|/SogFhjTgxloEfGYI...|              47.5|\n",
      "|++/BNOl5Jzp3/53dg...|ymLFBcIElT/XLhLlT...|              80.0|\n",
      "|++/BNOl5Jzp3/53dg...|vkzKrESk+2mIrPN2k...|              20.0|\n",
      "|++/ILpGAKOZrH+0u+...|VSDSGFi3SI0jGmj/Z...|              50.0|\n",
      "|++/ILpGAKOZrH+0u+...|K3BDtZLATzJK/u2xk...|              50.0|\n",
      "|++/O0DVO8dUreJB37...|M5Es6UQcBIdMrEARV...|               1.0|\n",
      "|++/O0DVO8dUreJB37...|7xFbJHM0rhVJe4iga...|              99.0|\n",
      "|++/UTl2mwL/J484yK...|LxuWEPpbFk7A2Iind...|             100.0|\n",
      "|++/dFaxQQDYaKe8zO...|lQ+jywhdl+H43AHiw...|              50.0|\n",
      "|++/dFaxQQDYaKe8zO...|ZvW38n/QbAl+aaQwJ...|              50.0|\n",
      "+--------------------+--------------------+------------------+\n",
      "only showing top 20 rows\n",
      "\n"
     ]
    },
    {
     "name": "stderr",
     "output_type": "stream",
     "text": [
      "                                                                                \r"
     ]
    }
   ],
   "source": [
    "for a in range (0,15):\n",
    "    spark.sql(\"select * from sociedad left join aux on sociedad.RUT_SOCIO=aux.RUT_SOCIEDAD_AUX \").createOrReplaceTempView(\"sociedad\")\n",
    "    spark.sql(\"select * from sociedad order by RUT_SOCIEDAD_AUX desc\").createOrReplaceTempView(\"sociedad\")\n",
    "    spark.sql(\"select RUT_SOCIEDAD, CASE WHEN RUT_SOCIEDAD_AUX is null then RUT_SOCIO else RUT_SOCIO_AUX END AS RUT_SOCIO, CASE when PORCENTAJE_CAPITAL_AUX is null then PORCENTAJE_CAPITAL else PORCENTAJE_CAPITAL_AUX*PORCENTAJE_CAPITAL/100  end as PORCENTAJE_CAPITAL from sociedad order by RUT_SOCIEDAD_AUX desc\").createOrReplaceTempView(\"sociedad\")\n",
    "spark.sql(\"select * from sociedad order by RUT_SOCIEDAD asc\").show()"
   ]
  },
  {
   "cell_type": "markdown",
   "id": "195e02c1-ae89-4d3b-8ce1-6d02ed89bee9",
   "metadata": {},
   "source": [
    "### Cruce con persona naturales y sociedades \n",
    "\n",
    "Obtendremos un output que nos permita establecer las sociedades relacionadas con cada uno de las personas naturales. Utilizaremos personas naturales que tengan cualquier porcentaje de participacion."
   ]
  },
  {
   "cell_type": "code",
   "execution_count": 6,
   "id": "b98121cf-2942-4b9d-97bf-9957fcc42fdb",
   "metadata": {
    "tags": []
   },
   "outputs": [
    {
     "name": "stderr",
     "output_type": "stream",
     "text": [
      "24/04/16 03:52:18 WARN HiveClientImpl: Detected HiveConf hive.execution.engine is 'tez' and will be reset to 'mr' to disable useless hive logic\n",
      "Hive Session ID = 22bb1faf-ec9e-4e62-8e20-765f0082ca34\n"
     ]
    }
   ],
   "source": [
    "oscuridad=spark.sql(\"select * from libsdf.jab_materia_inom\")\n",
    "oscuridad.createOrReplaceTempView(\"oscuridad\")\n",
    "spark.sql(\"select RUT_SOCIEDAD, CONT_RUT, PORCENTAJE_CAPITAL from sociedad left join oscuridad on sociedad.RUT_SOCIO=oscuridad.CONT_RUT \").createOrReplaceTempView(\"socios_final\")"
   ]
  },
  {
   "cell_type": "markdown",
   "id": "3fa8f1e4-0b25-4f1f-8681-70ac62c460c2",
   "metadata": {},
   "source": [
    "Seleccionamos un porcentaje de capital mayor o igual a 0.5"
   ]
  },
  {
   "cell_type": "code",
   "execution_count": 7,
   "id": "8606b5ad-c67b-48a4-837c-7dbf6a4666a8",
   "metadata": {
    "tags": []
   },
   "outputs": [
    {
     "name": "stderr",
     "output_type": "stream",
     "text": [
      "[Stage 325:====================================================>  (24 + 1) / 25]\r"
     ]
    },
    {
     "name": "stdout",
     "output_type": "stream",
     "text": [
      "+--------------------+--------------------+------------------+\n",
      "|       SOCIO_NATURAL|SOCIEDAD_RELACIONADA|PORCENTAJE_CAPITAL|\n",
      "+--------------------+--------------------+------------------+\n",
      "|FktXvjNR5VXMJyG94...|zzzo7RUe8Wp/sBVZr...|              34.0|\n",
      "|jSqaZci29rcIvTGYe...|zzzo7RUe8Wp/sBVZr...|              33.0|\n",
      "|0BKm1Zv6LjcGstgdi...|zzzo7RUe8Wp/sBVZr...|              33.0|\n",
      "|mGEnsfJQHpK0QrVBS...|zzzEfsBUrus3+Lpvp...|              50.0|\n",
      "|q6tiscbhQ8ymF2ceM...|zzzEfsBUrus3+Lpvp...|              50.0|\n",
      "|GPNxlTnbv8rq8xfZ7...|zzz9RqdyHZm0pUPEL...|             100.0|\n",
      "|8CQvqjzxuyH3dbm5u...|zzz0aRgQrVHwDX+Ay...|              35.0|\n",
      "|tRDN4t/AbFAPnkgrN...|zzz0aRgQrVHwDX+Ay...|              35.0|\n",
      "|OUU34vltO18lw5auU...|zzz0aRgQrVHwDX+Ay...|              30.0|\n",
      "|XggON0ZFlbniTNl8b...|zzykN+b2qc7ZoikA9...|              90.0|\n",
      "|vjqqO+1+CetBiMMsb...|zzykN+b2qc7ZoikA9...|              10.0|\n",
      "|u3d7ye5Mdt0h3gaEg...|zzydn/q5KUdW0Pcyx...|             100.0|\n",
      "|oBwy7ODmDOAi3jGMi...|zzycSmylbx7abTn6L...|             100.0|\n",
      "|RqOAmzwRNnakdYJou...|zzyTw4Ug75QT85PTc...|              99.0|\n",
      "|cjx6uGFg1FB/yPtnr...|zzyTw4Ug75QT85PTc...|               1.0|\n",
      "|yygDGwycji5yeDU8N...|zzyRkBA8bQjH8Rciy...|             100.0|\n",
      "|vp5vmARoko5V2tQz4...|zzyIQ58Evw9Ywxzmq...|              70.0|\n",
      "|BWJUJ2O88q9ylTXZn...|zzyIQ58Evw9Ywxzmq...|               8.0|\n",
      "|/T+DekYtwLnAr14d5...|zzyIQ58Evw9Ywxzmq...|              7.14|\n",
      "|sqgh7J33DnKlTTxuO...|zzy9EK4Vtc0bi+JRW...|              65.0|\n",
      "+--------------------+--------------------+------------------+\n",
      "only showing top 20 rows\n",
      "\n"
     ]
    },
    {
     "name": "stderr",
     "output_type": "stream",
     "text": [
      "                                                                                \r"
     ]
    }
   ],
   "source": [
    "sociedades_por_socio=spark.sql(\"select CONT_RUT as SOCIO_NATURAL, RUT_SOCIEDAD as SOCIEDAD_RELACIONADA,PORCENTAJE_CAPITAL from socios_final where CONT_RUT is not null and PORCENTAJE_CAPITAL>=0.5 order by RUT_SOCIEDAD DESC, PORCENTAJE_CAPITAL DESC\")\n",
    "sociedades_por_socio.show()\n",
    "sociedades_por_socio.createOrReplaceTempView(\"socios_final\")"
   ]
  },
  {
   "cell_type": "markdown",
   "id": "0d32c061-50b0-4342-b322-3542be011c90",
   "metadata": {},
   "source": [
    "### Union con data de contaminados y caracteristicas\n",
    "\n",
    "Ahora se seleccionan la persona natural asociada junto a cada una de las sociedades con su respectivo porcentaje de participacion y sus caracteristicas. Posteriormente guardamos el archivo."
   ]
  },
  {
   "cell_type": "code",
   "execution_count": 11,
   "id": "02fb91e3-c7ce-4422-8fc2-fb0c09c78723",
   "metadata": {
    "tags": []
   },
   "outputs": [
    {
     "name": "stderr",
     "output_type": "stream",
     "text": [
      "[Stage 717:>                                                        (0 + 1) / 1]\r"
     ]
    },
    {
     "name": "stdout",
     "output_type": "stream",
     "text": [
      "+--------------------+--------------------+--------------+---------+--------------------+------------+--------+--------------+\n",
      "|            cont_rut|               score|total_pago_f29| IVA_neto|     unidad_regional|n_documentos|lifetime|alerta_inicial|\n",
      "+--------------------+--------------------+--------------+---------+--------------------+------------+--------+--------------+\n",
      "|++EkqYV3XeaNiAsdf...| 0.05051744777816275|          null|    73844|8VA UNIDAD REGION...|        null|    null|             0|\n",
      "|++dXZpaMXJgToW96Q...| 0.03939153827704531|           0.0|  1678385|        SANTIAGO SUR|        null|    null|             0|\n",
      "|++olHY9+tFM+bjd3f...|0.048520650357892894|          null|    80378|2DA UNIDAD REGION...|        null|    null|             0|\n",
      "|+/5sgPV/uzgox6653...|0.053509731789595616|          null|    42180|    SANTIAGO ORIENTE|        null|    null|             0|\n",
      "|+/9/V7o5L54PLgASS...|  0.0542288535127804|           0.0|  8696000|   SANTIAGO PONIENTE|        null|    null|             0|\n",
      "|+/Mdf6KbRTLn+ThED...| 0.04955187202033277|           0.0|119643927|3RA UNIDAD REGION...|          26|    1354|             0|\n",
      "|+/PI+T2A1N0m+jA1O...| 0.03719389411978154|          null|    93263|                null|        null|    null|             0|\n",
      "|+/WJHGYHfixUyu5YG...| 0.05063907405198036|    1.202641E7| -4651728|      SANTIAGO NORTE|         115|    1168|             0|\n",
      "|+0NcIp+t9CvK3rowX...| 0.06516689908305578|          null|    62959|      SANTIAGO NORTE|        null|    null|             0|\n",
      "|+0bkgBWh+qZty8m+t...| 0.05513099645792599|          null|    66260|6TA UNIDAD REGION...|        null|    null|             0|\n",
      "|+0pIImszGdBP14VD5...| 0.05941249495107845|     7379681.0| 84386113|3RA UNIDAD REGION...|        null|    null|             0|\n",
      "|+1/nfc/6620iDVl6p...| 0.05317604638587478|          null|     4111|                null|        null|    null|             0|\n",
      "|+1Iq8uyxmTp78CO0S...|  0.0559578666272445|           0.0| 45646541|     SANTIAGO CENTRO|        null|    1496|             0|\n",
      "|+1JYcRhweEyZeb8/0...| 0.04947453235839807|      976053.0|  9666003|6TA UNIDAD REGION...|        null|    2334|             0|\n",
      "|+1eHYvE0ZrzG8NHb5...|  0.0430611504532807|          null|     8638|   SANTIAGO PONIENTE|        null|    null|             0|\n",
      "|+1m7n6nJ/zZQf6yi7...| 0.06516689908305578|           0.0|    31506|10MA UNIDAD REGIO...|        null|    null|             0|\n",
      "|+1shdbLQm97+pnOCb...| 0.04491955228120538|      856835.0|  1010626|5TA UNIDAD REGION...|         114|    null|             0|\n",
      "|+21WXU8UlnNyttKww...| 0.06470331672411851|          null|    20984|   SANTIAGO PONIENTE|        null|    null|             0|\n",
      "|+23NWa+9F3qB3Va+p...|0.054340596101126924|          null|   284580|8VA UNIDAD REGION...|        null|    null|             0|\n",
      "|+28/4YrSvS2Ou5+a6...| 0.04537968104831537|          null|    58339|        SANTIAGO SUR|        null|    null|             0|\n",
      "+--------------------+--------------------+--------------+---------+--------------------+------------+--------+--------------+\n",
      "only showing top 20 rows\n",
      "\n"
     ]
    },
    {
     "name": "stderr",
     "output_type": "stream",
     "text": [
      "                                                                                \r"
     ]
    }
   ],
   "source": [
    "spark.read.parquet(\"abfs://data@datalakesii.dfs.core.windows.net/DatosOrigen/lr-629/propuesta_f29_comunidades/data_contaminados_with_labels\").createOrReplaceTempView(\"contaminados\")\n",
    "spark.sql('select * from contaminados').show()"
   ]
  },
  {
   "cell_type": "code",
   "execution_count": 12,
   "id": "fbf3ef7c-7133-4a3e-843a-459c790416d3",
   "metadata": {
    "tags": []
   },
   "outputs": [
    {
     "name": "stderr",
     "output_type": "stream",
     "text": [
      "                                                                                \r"
     ]
    },
    {
     "name": "stdout",
     "output_type": "stream",
     "text": [
      "+--------------------+--------------------+------------------+--------------------+-------------------+--------------+----------+--------------------+------------+--------+--------------+\n",
      "|       SOCIO_NATURAL|SOCIEDAD_RELACIONADA|PORCENTAJE_CAPITAL|            cont_rut|              score|total_pago_f29|  IVA_neto|     unidad_regional|n_documentos|lifetime|alerta_inicial|\n",
      "+--------------------+--------------------+------------------+--------------------+-------------------+--------------+----------+--------------------+------------+--------+--------------+\n",
      "|G1NPZeFPbEvK63iXK...|++0TZZ4dLrh7Mcrrq...|             90.91|++0TZZ4dLrh7Mcrrq...|0.48523924596416235|   2.7701443E7|-117348357|7MA UNIDAD REGION...|         193|    2520|             0|\n",
      "|HuScCDbt9021COD28...|++0TZZ4dLrh7Mcrrq...|              9.09|++0TZZ4dLrh7Mcrrq...|0.48523924596416235|   2.7701443E7|-117348357|7MA UNIDAD REGION...|         193|    2520|             0|\n",
      "|w2OxfuiPP3mbDXj0h...|++Q4xcstVE8gsYp69...|             100.0|++Q4xcstVE8gsYp69...|0.04293570453217076|           0.0|     58077|    SANTIAGO ORIENTE|        null|    1021|             0|\n",
      "|lGvZxjaLB/w10oifh...|++Qm0YtcDnK/B5yaR...|              95.0|++Qm0YtcDnK/B5yaR...|0.05858642227188822|           0.0|   1877791|21VA DIRECCION RE...|          36|    5452|             0|\n",
      "|P+00E0WJr9FbXXsSA...|++Qm0YtcDnK/B5yaR...|               5.0|++Qm0YtcDnK/B5yaR...|0.05858642227188822|           0.0|   1877791|21VA DIRECCION RE...|          36|    5452|             0|\n",
      "|r6qO+al8EhwQI5/+P...|++eikfrg5jXUwnkQh...|             100.0|++eikfrg5jXUwnkQh...|0.05492262341613653|  1.59626103E8| -13885988|10MA UNIDAD REGIO...|        5212|    6745|             0|\n",
      "|SaVk82CTb9HVbnfLV...|++ggVpHHILx+9SGu8...|              55.5|++ggVpHHILx+9SGu8...|                0.0|      760962.0|   -637545|    SANTIAGO ORIENTE|          18|    3784|             0|\n",
      "|lUadr4+KdH8oLS3d2...|++ggVpHHILx+9SGu8...|              44.5|++ggVpHHILx+9SGu8...|                0.0|      760962.0|   -637545|    SANTIAGO ORIENTE|          18|    3784|             0|\n",
      "|wfVqsHpqA6ztkZrLC...|++nj252lNkxG14yUT...|              35.0|++nj252lNkxG14yUT...|0.04973278445490114|           0.0|    109558|    SANTIAGO ORIENTE|        null|    2791|             0|\n",
      "|FSsQSmHtANCE9c9cN...|++nj252lNkxG14yUT...|              35.0|++nj252lNkxG14yUT...|0.04973278445490114|           0.0|    109558|    SANTIAGO ORIENTE|        null|    2791|             0|\n",
      "|CUIs9BRD/M1J/2YXY...|++nj252lNkxG14yUT...|              30.0|++nj252lNkxG14yUT...|0.04973278445490114|           0.0|    109558|    SANTIAGO ORIENTE|        null|    2791|             0|\n",
      "|M02YBx7n8UxDIs4r/...|++qoDub4tgOjd+Dtl...|             100.0|++qoDub4tgOjd+Dtl...| 0.9568722189871837|   7.8226535E7| -69342736|4TA UNIDAD REGION...|          51|    1973|             0|\n",
      "|zS2AxydAuB7hWyYQq...|+/+BGK1FaPLYOFlhr...|             100.0|+/+BGK1FaPLYOFlhr...|0.04773317584199105|     1126939.0|  -1515095|9NA UNIDAD REGION...|          66|    4387|             0|\n",
      "|Mw0g+csAAGNGXoHc9...|+/+IMFryGSJkidvlc...|             100.0|+/+IMFryGSJkidvlc...|0.07289381886150934|      927465.0|     76230|    SANTIAGO ORIENTE|          34|    1993|             0|\n",
      "|qCfPqkopmeNPjMQaB...|+/BzitOVyL+aY8A5h...|             100.0|+/BzitOVyL+aY8A5h...| 0.0522999694565743|           0.0|    124530|    SANTIAGO ORIENTE|        null|    1538|             0|\n",
      "|jfWuZrTx2xf9ntiVY...|+/I6u3o5+scANU4Z6...|             100.0|+/I6u3o5+scANU4Z6...|0.05865742795700252|        9769.0|  58984094|7MA UNIDAD REGION...|          44|    1061|             0|\n",
      "|hxWii8n/NZV4sbnW1...|+/mUJwhCRNZU6KS7u...|              50.0|+/mUJwhCRNZU6KS7u...|0.10733280171569197|           0.0|     29891|    SANTIAGO ORIENTE|        null|     721|             0|\n",
      "|VmTm6IlhH8uD5iDeS...|+/mUJwhCRNZU6KS7u...|              50.0|+/mUJwhCRNZU6KS7u...|0.10733280171569197|           0.0|     29891|    SANTIAGO ORIENTE|        null|     721|             0|\n",
      "|Mrh+8CIEXMXwcwISS...|+/uaTqX+b5d5ZBvrI...|             100.0|+/uaTqX+b5d5ZBvrI...| 0.0898403234278248|       98570.0|   2005393|     SANTIAGO CENTRO|        null|     957|             0|\n",
      "|yAk31jIHU1+qhV6qf...|+00ounxVPFShKca9S...|             100.0|+00ounxVPFShKca9S...|0.06437276523262583|     1718517.0|  -1728014|2DA UNIDAD REGION...|          13|    1287|             0|\n",
      "+--------------------+--------------------+------------------+--------------------+-------------------+--------------+----------+--------------------+------------+--------+--------------+\n",
      "only showing top 20 rows\n",
      "\n"
     ]
    },
    {
     "name": "stderr",
     "output_type": "stream",
     "text": [
      "[Stage 1105:==============================================>       (43 + 7) / 50]\r"
     ]
    },
    {
     "name": "stdout",
     "output_type": "stream",
     "text": [
      "+--------------------+--------------------+------------------+--------------------+--------------+-----------+--------------------+------------+--------+--------------+\n",
      "|       SOCIO_NATURAL|SOCIEDAD_RELACIONADA|PORCENTAJE_CAPITAL|               score|total_pago_f29|   IVA_neto|     unidad_regional|n_documentos|lifetime|alerta_inicial|\n",
      "+--------------------+--------------------+------------------+--------------------+--------------+-----------+--------------------+------------+--------+--------------+\n",
      "|+++Dv3VdgQyVqRTgl...|jIjACgvcsprjqLeup...|              24.0|0.052408941789938795|   9.6336447E7|   -5282491|                null|           4|     530|             0|\n",
      "|+++YLFFod6As3+EIq...|XdNCugfCv/JNxkjsW...|             16.67| 0.06730458372836294|   1.7331782E7|  -12565236|6TA UNIDAD REGION...|          10|    3451|             0|\n",
      "|+++cWi/r31w33XdNY...|dqMQkYCsU9PCaLwUT...|             100.0|  0.0461122114462416|        9500.0|    -955065|                null|           6|     633|             0|\n",
      "|+++ummH22IHC2WTkb...|IQuHAph8Cfr+adLj0...|               5.0|0.046502381130680566|           0.0|    1746205|8VA UNIDAD REGION...|        null|    8678|             0|\n",
      "|++/WY9IfzTdOaYm/b...|c4z+ez0VWOAMcC03N...|             100.0|0.053099443654620264|           0.0|      71295|5TA UNIDAD REGION...|        null|     986|             0|\n",
      "|++/qMXdh0SgFCrn7a...|hRdJVCPUyiFXCi4G4...|              50.0|0.042565156804665105|           0.0|    2115233|19NA UNIDAD REGIO...|           4|    3783|             0|\n",
      "|++00VLeiwaWmwnNA3...|DJKiBJC3opw4vNtY5...|              2.11|0.038842975962629096|  1.70434298E8| 1127659810|   SANTIAGO PONIENTE|        1211|    4449|             0|\n",
      "|++0NcIatEVEgy0927...|vgmWEv6Zha6WGImry...|             100.0| 0.05462450519979119|   8.7886883E7|  -71316882|    SANTIAGO ORIENTE|        1355|    3485|             0|\n",
      "|++0btVP807wo5TQIL...|3eS0AGv1GH7LQQcci...|               5.0| 0.04909434973609675|   3.5668327E7|   11415934|    SANTIAGO ORIENTE|         747|    1739|             0|\n",
      "|++0btVP807wo5TQIL...|bxHJ7nbU4yhPoir7L...|               2.0|0.052481353050352356|     7541048.0|  -18745904|    SANTIAGO ORIENTE|          65|    1816|             0|\n",
      "|++0btVP807wo5TQIL...|2flJ+DFTjTbJtNtvx...|              50.0| 0.07072821978333999| 1.309586773E9|-1186199410|     SANTIAGO CENTRO|       30313|    5724|             0|\n",
      "|++0oswlRcJ8rKYhrx...|nqDYRFrUB8xSVVKvV...|              50.0|0.049954524282959656|       58376.0|     225589|      SANTIAGO NORTE|        null|    1090|             0|\n",
      "|++0oswlRcJ8rKYhrx...|mG3PXLi+fz8lc4+/K...|             100.0| 0.06052256334430933|           0.0|    4696056|      SANTIAGO NORTE|           1|    2930|             0|\n",
      "|++1ECbzN0VJQdAK+m...|k+VtWDD/j94BC82du...|              2.68| 0.13791339182398255|           0.0|    2181617|   SANTIAGO PONIENTE|        null|   10756|             0|\n",
      "|++1Hoe5EtScbWarvi...|9CEfAZvy0oED/kkJ3...|              40.0| 0.05446656970577399|           0.0|     833979|    SANTIAGO ORIENTE|          48|    2638|             0|\n",
      "|++1SnArFzrBB24idi...|Tssf2SyIdTsD72YON...|              10.0| 0.04610535759234378|           0.0|     336044|     SANTIAGO CENTRO|        null|    7703|             0|\n",
      "|++1j+u2nzSZF9va9l...|PpekFf0tew7xUhz8H...|             100.0|0.058670475077190996|           0.0|    1552904|      SANTIAGO NORTE|          25|     985|             0|\n",
      "|++1t25rT81QrYruJi...|eqt4Pw30UI8J7vmog...|              50.0|  0.5297952473564282|       18466.0|    1126733|     SANTIAGO CENTRO|         237|    3492|             0|\n",
      "|++1t25rT81QrYruJi...|y4mVj9Cbh4tCDspvP...|              50.0|                 1.0|      293725.0|   18154365|     SANTIAGO CENTRO|          88|    1630|             1|\n",
      "|++1vxv97K1RN+xzZa...|tzYEkjYNCLMJepiGq...|               1.0| 0.04517183974575253|        6821.0|    3500567|19NA UNIDAD REGIO...|         149|    5834|             0|\n",
      "+--------------------+--------------------+------------------+--------------------+--------------+-----------+--------------------+------------+--------+--------------+\n",
      "only showing top 20 rows\n",
      "\n"
     ]
    },
    {
     "name": "stderr",
     "output_type": "stream",
     "text": [
      "                                                                                \r"
     ]
    }
   ],
   "source": [
    "spark.sql('select * from socios_final left join contaminados on socios_final.SOCIEDAD_RELACIONADA=contaminados.CONT_RUT where contaminados.CONT_RUT is not null').createOrReplaceTempView(\"aux\")\n",
    "spark.sql('select * from aux').show()"
   ]
  },
  {
   "cell_type": "code",
   "execution_count": 15,
   "id": "85681527-68c4-432b-9aa4-342df44e3231",
   "metadata": {
    "tags": []
   },
   "outputs": [
    {
     "name": "stderr",
     "output_type": "stream",
     "text": [
      "[Stage 1515:===================================================>  (48 + 2) / 50]\r"
     ]
    },
    {
     "name": "stdout",
     "output_type": "stream",
     "text": [
      "+--------------------+--------------------+------------------+--------------------+--------------+-----------+--------------------+------------+--------+--------------+\n",
      "|       SOCIO_NATURAL|SOCIEDAD_RELACIONADA|PORCENTAJE_CAPITAL|               score|total_pago_f29|   IVA_neto|     unidad_regional|n_documentos|lifetime|alerta_inicial|\n",
      "+--------------------+--------------------+------------------+--------------------+--------------+-----------+--------------------+------------+--------+--------------+\n",
      "|+++Dv3VdgQyVqRTgl...|jIjACgvcsprjqLeup...|              24.0|0.052408941789938795|   9.6336447E7|   -5282491|                null|           4|     530|             0|\n",
      "|+++YLFFod6As3+EIq...|XdNCugfCv/JNxkjsW...|             16.67| 0.06730458372836294|   1.7331782E7|  -12565236|6TA UNIDAD REGION...|          10|    3451|             0|\n",
      "|+++cWi/r31w33XdNY...|dqMQkYCsU9PCaLwUT...|             100.0|  0.0461122114462416|        9500.0|    -955065|                null|           6|     633|             0|\n",
      "|+++ummH22IHC2WTkb...|IQuHAph8Cfr+adLj0...|               5.0|0.046502381130680566|           0.0|    1746205|8VA UNIDAD REGION...|        null|    8678|             0|\n",
      "|++/WY9IfzTdOaYm/b...|c4z+ez0VWOAMcC03N...|             100.0|0.053099443654620264|           0.0|      71295|5TA UNIDAD REGION...|        null|     986|             0|\n",
      "|++/qMXdh0SgFCrn7a...|hRdJVCPUyiFXCi4G4...|              50.0|0.042565156804665105|           0.0|    2115233|19NA UNIDAD REGIO...|           4|    3783|             0|\n",
      "|++00VLeiwaWmwnNA3...|DJKiBJC3opw4vNtY5...|              2.11|0.038842975962629096|  1.70434298E8| 1127659810|   SANTIAGO PONIENTE|        1211|    4449|             0|\n",
      "|++0NcIatEVEgy0927...|vgmWEv6Zha6WGImry...|             100.0| 0.05462450519979119|   8.7886883E7|  -71316882|    SANTIAGO ORIENTE|        1355|    3485|             0|\n",
      "|++0btVP807wo5TQIL...|bxHJ7nbU4yhPoir7L...|               2.0|0.052481353050352356|     7541048.0|  -18745904|    SANTIAGO ORIENTE|          65|    1816|             0|\n",
      "|++0btVP807wo5TQIL...|2flJ+DFTjTbJtNtvx...|              50.0| 0.07072821978333999| 1.309586773E9|-1186199410|     SANTIAGO CENTRO|       30313|    5724|             0|\n",
      "|++0btVP807wo5TQIL...|3eS0AGv1GH7LQQcci...|               5.0| 0.04909434973609675|   3.5668327E7|   11415934|    SANTIAGO ORIENTE|         747|    1739|             0|\n",
      "|++0oswlRcJ8rKYhrx...|mG3PXLi+fz8lc4+/K...|             100.0| 0.06052256334430933|           0.0|    4696056|      SANTIAGO NORTE|           1|    2930|             0|\n",
      "|++0oswlRcJ8rKYhrx...|nqDYRFrUB8xSVVKvV...|              50.0|0.049954524282959656|       58376.0|     225589|      SANTIAGO NORTE|        null|    1090|             0|\n",
      "|++1ECbzN0VJQdAK+m...|k+VtWDD/j94BC82du...|              2.68| 0.13791339182398255|           0.0|    2181617|   SANTIAGO PONIENTE|        null|   10756|             0|\n",
      "|++1Hoe5EtScbWarvi...|9CEfAZvy0oED/kkJ3...|              40.0| 0.05446656970577399|           0.0|     833979|    SANTIAGO ORIENTE|          48|    2638|             0|\n",
      "|++1SnArFzrBB24idi...|Tssf2SyIdTsD72YON...|              10.0| 0.04610535759234378|           0.0|     336044|     SANTIAGO CENTRO|        null|    7703|             0|\n",
      "|++1j+u2nzSZF9va9l...|PpekFf0tew7xUhz8H...|             100.0|0.058670475077190996|           0.0|    1552904|      SANTIAGO NORTE|          25|     985|             0|\n",
      "|++1t25rT81QrYruJi...|eqt4Pw30UI8J7vmog...|              50.0|  0.5297952473564282|       18466.0|    1126733|     SANTIAGO CENTRO|         237|    3492|             0|\n",
      "|++1t25rT81QrYruJi...|y4mVj9Cbh4tCDspvP...|              50.0|                 1.0|      293725.0|   18154365|     SANTIAGO CENTRO|          88|    1630|             1|\n",
      "|++1vxv97K1RN+xzZa...|tzYEkjYNCLMJepiGq...|               1.0| 0.04517183974575253|        6821.0|    3500567|19NA UNIDAD REGIO...|         149|    5834|             0|\n",
      "+--------------------+--------------------+------------------+--------------------+--------------+-----------+--------------------+------------+--------+--------------+\n",
      "only showing top 20 rows\n",
      "\n"
     ]
    },
    {
     "name": "stderr",
     "output_type": "stream",
     "text": [
      "                                                                                \r"
     ]
    }
   ],
   "source": [
    "aux=spark.sql('select SOCIO_NATURAL,SOCIEDAD_RELACIONADA,PORCENTAJE_CAPITAL,score,total_pago_f29,IVA_neto,unidad_regional,n_documentos,lifetime,alerta_inicial from aux order by SOCIO_NATURAL asc')\n",
    "aux.show()"
   ]
  },
  {
   "cell_type": "markdown",
   "id": "b969f54d-2bc1-46b1-8d9b-6b7b820f08e5",
   "metadata": {},
   "source": [
    "Guardamos el archivo final con "
   ]
  },
  {
   "cell_type": "code",
   "execution_count": 16,
   "id": "a89c15eb-f569-4e76-96d8-e67d19cfc7c6",
   "metadata": {
    "tags": []
   },
   "outputs": [
    {
     "name": "stderr",
     "output_type": "stream",
     "text": [
      "                                                                                ]\r"
     ]
    }
   ],
   "source": [
    "aux=aux.toPandas()\n",
    "aux.to_csv('/home/cdsw/data/processed/comunidades_persona_natural/comunidades_natural_sociedades.csv', index=False)"
   ]
  }
 ],
 "metadata": {
  "kernelspec": {
   "display_name": "Python 3 (ipykernel)",
   "language": "python",
   "name": "python3"
  },
  "language_info": {
   "codemirror_mode": {
    "name": "ipython",
    "version": 3
   },
   "file_extension": ".py",
   "mimetype": "text/x-python",
   "name": "python",
   "nbconvert_exporter": "python",
   "pygments_lexer": "ipython3",
   "version": "3.10.13"
  }
 },
 "nbformat": 4,
 "nbformat_minor": 5
}
