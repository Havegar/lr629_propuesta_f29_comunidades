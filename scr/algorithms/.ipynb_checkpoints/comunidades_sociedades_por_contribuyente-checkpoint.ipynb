{
 "cells": [
  {
   "cell_type": "markdown",
   "id": "15c62fbf-493f-4c18-8e55-d9e0fb29b8b6",
   "metadata": {},
   "source": [
    "## Apiux & SII: calculo de indice de familiariedad en  personas juridicas.\n",
    "## ATENCION: proyecto sujeto a mantenimiento continuo. \n",
    "\n",
    "## Henry Vega (henrry.vega@api-ux.com)\n",
    "## Data analyst"
   ]
  },
  {
   "cell_type": "code",
   "execution_count": 1,
   "id": "18bff1a6-1471-4b1a-98af-c1bcd085cf40",
   "metadata": {
    "tags": []
   },
   "outputs": [],
   "source": [
    "from pyspark.sql import SparkSession\n",
    "from pyspark.sql.functions import *\n",
    "from pyspark import SparkContext, SparkConf\n",
    "import pyspark\n",
    "import pandas as pd\n",
    "import warnings\n",
    "warnings.filterwarnings('ignore', category=DeprecationWarning)"
   ]
  },
  {
   "cell_type": "code",
   "execution_count": 2,
   "id": "0045495f-27ec-47ad-8474-dd42b9352a2c",
   "metadata": {
    "tags": []
   },
   "outputs": [
    {
     "name": "stderr",
     "output_type": "stream",
     "text": [
      "Setting spark.hadoop.yarn.resourcemanager.principal to hvega.externo\n"
     ]
    }
   ],
   "source": [
    "\n",
    "spark = SparkSession.builder \\\n",
    "  .appName(\"Test\")  \\\n",
    "  .config(\"spark.yarn.access.hadoopFileSystems\",\"abfs://data@datalakesii.dfs.core.windows.net/DatoOrigen/lr-629/UtilBajo/intermedia/familiaridad\") \\\n",
    "  .config(\"spark.executor.memory\", \"24g\") \\\n",
    "  .config(\"spark.driver.memory\", \"12g\")\\\n",
    "  .config(\"spark.executor.cores\", \"12\") \\\n",
    "  .config(\"spark.executor.instances\", \"24\") \\\n",
    "  .config(\"spark.driver.maxResultSize\", \"12g\") \\\n",
    "  .getOrCreate()"
   ]
  },
  {
   "cell_type": "code",
   "execution_count": 3,
   "id": "46bca2ee-8dca-4111-9dd2-4e2327346663",
   "metadata": {
    "tags": []
   },
   "outputs": [
    {
     "name": "stderr",
     "output_type": "stream",
     "text": [
      "Hive Session ID = c97ea637-a203-433c-b2a5-cb39fdf73627\n"
     ]
    },
    {
     "name": "stdout",
     "output_type": "stream",
     "text": [
      "+--------------------+\n",
      "|        databaseName|\n",
      "+--------------------+\n",
      "|            apa_temp|\n",
      "|             default|\n",
      "|                  dw|\n",
      "|            dwbgdata|\n",
      "|   fraude_receptores|\n",
      "|identificacion_ac...|\n",
      "|  information_schema|\n",
      "|iva_sobredeclaracion|\n",
      "|  iva_subdeclaracion|\n",
      "|              libaar|\n",
      "|              libsas|\n",
      "|              libsdf|\n",
      "|rentaempresa_simi...|\n",
      "|                 sdj|\n",
      "|                 sys|\n",
      "|                 tmp|\n",
      "|            utilbajo|\n",
      "+--------------------+\n",
      "\n"
     ]
    }
   ],
   "source": [
    "spark.sql(\"show databases\").show()"
   ]
  },
  {
   "cell_type": "code",
   "execution_count": 7,
   "id": "8c560fdb-65e5-452c-80c9-b503d6724349",
   "metadata": {
    "tags": []
   },
   "outputs": [
    {
     "data": {
      "text/plain": [
       "DataFrame[]"
      ]
     },
     "execution_count": 7,
     "metadata": {},
     "output_type": "execute_result"
    }
   ],
   "source": [
    "spark.sql(\"use utilbajo\")"
   ]
  },
  {
   "cell_type": "code",
   "execution_count": 8,
   "id": "b55f98f1-bebe-493b-8a5d-37fa5b5d0ee0",
   "metadata": {
    "tags": []
   },
   "outputs": [
    {
     "name": "stdout",
     "output_type": "stream",
     "text": [
      "+--------------------+\n",
      "|        databaseName|\n",
      "+--------------------+\n",
      "|            apa_temp|\n",
      "|             default|\n",
      "|                  dw|\n",
      "|            dwbgdata|\n",
      "|   fraude_receptores|\n",
      "|identificacion_ac...|\n",
      "|  information_schema|\n",
      "|iva_sobredeclaracion|\n",
      "|  iva_subdeclaracion|\n",
      "|              libaar|\n",
      "|              libsas|\n",
      "|              libsdf|\n",
      "|rentaempresa_simi...|\n",
      "|                 sdj|\n",
      "|                 sys|\n",
      "|                 tmp|\n",
      "|            utilbajo|\n",
      "+--------------------+\n",
      "\n"
     ]
    }
   ],
   "source": [
    "spark.sql(\"show databases\").show()"
   ]
  },
  {
   "cell_type": "code",
   "execution_count": 9,
   "id": "d9a6519c-e2fc-4717-9e9c-cca5f85d8fbc",
   "metadata": {
    "tags": []
   },
   "outputs": [
    {
     "name": "stderr",
     "output_type": "stream",
     "text": [
      "[Stage 1:>                                                          (0 + 1) / 1]"
     ]
    },
    {
     "name": "stdout",
     "output_type": "stream",
     "text": [
      "+--------------------+----------+-----+------------------+\n",
      "|        RUT_SOCIEDAD|FAMILIARES|TOTAL| TASA_FAMILIARIDAD|\n",
      "+--------------------+----------+-----+------------------+\n",
      "|++RSm+r5/NoMTCvE5...|         2|    2|             100.0|\n",
      "|+/rKC7OTYc9Y4xu71...|         6|   20|              30.0|\n",
      "|+01SsyIc+utXanM9Q...|         2|    2|             100.0|\n",
      "|+1SvjNFgdo5XQGKlO...|         4|    4|             100.0|\n",
      "|+3IT3w4PVN9UweDtL...|         6|   30|              20.0|\n",
      "|+6YNHB9DyHN4mBUIL...|         2|    3| 66.66666666666666|\n",
      "|+9WqHwbEJqnTB5Mjn...|         2|    2|             100.0|\n",
      "|+9xYb8rOoaMAFCURh...|         3|    7|42.857142857142854|\n",
      "|+DLW+pC7zumhgcNDw...|         3|    3|             100.0|\n",
      "|+F+AD7ZQHlpTExaeG...|         3|    8|              37.5|\n",
      "|+GVlOZ1n9Z5XB8Jcs...|         2|    2|             100.0|\n",
      "|+GbMGTxMc4maKb0G1...|         2|    2|             100.0|\n",
      "|+Gj2+tTDF7iqytIiM...|         4|    4|             100.0|\n",
      "|+I+Onbb4YtBY93UhJ...|         2|    2|             100.0|\n",
      "|+Lgf1KQwQAMGtbppx...|         4|    4|             100.0|\n",
      "|+RgKOWRrjN6dmAbOc...|         2|    2|             100.0|\n",
      "|+STeLBxkxuQYWYxHB...|         3|    3|             100.0|\n",
      "|+UR2VFFFaI+wvZf4F...|         2|    3| 66.66666666666666|\n",
      "|+VtHAD/aEZN759Kl8...|         9|    9|             100.0|\n",
      "|+YqEkJNwZUAs2+pl2...|         2|    2|             100.0|\n",
      "+--------------------+----------+-----+------------------+\n",
      "only showing top 20 rows\n",
      "\n"
     ]
    },
    {
     "name": "stderr",
     "output_type": "stream",
     "text": [
      "                                                                                \r"
     ]
    }
   ],
   "source": [
    "spark.read.parquet(\"abfs://data@datalakesii.dfs.core.windows.net/DatoOrigen/lr-629/UtilBajo/intermedia/familiaridad\").show()\n"
   ]
  },
  {
   "cell_type": "markdown",
   "id": "58a9214b-c852-41f7-8ea9-e7ced5442083",
   "metadata": {},
   "source": [
    "## Carga de relaciones societarias(depurada)"
   ]
  },
  {
   "cell_type": "code",
   "execution_count": null,
   "id": "e76d0bab-25b8-40cf-8c05-3a372108322a",
   "metadata": {
    "tags": []
   },
   "outputs": [],
   "source": [
    "df = spark.read.options(header=True, inferSchema=True, delimiter=\",\").csv(\"data/processed/sociedades_participacion_capital_nozero.csv\")\n",
    "df.createOrReplaceTempView(\"sociedad\")\n",
    "#spark.sql(\"select * from sociedad order by RUT_SOCIEDAD asc\").show()"
   ]
  },
  {
   "cell_type": "markdown",
   "id": "f8448ca6-06ac-4507-9cc8-77df2bc49765",
   "metadata": {},
   "source": [
    "Veamos un ejemplo de la composicion de socios para una sociedad sospechosa en composicion"
   ]
  },
  {
   "cell_type": "code",
   "execution_count": null,
   "id": "4aabb0d5-8657-432c-a6b4-322e439081d3",
   "metadata": {},
   "outputs": [],
   "source": [
    "#spark.sql(\"select count(*) from sociedad where RUT_SOCIEDAD LIKE 'Qbau/6SlJ/lEcKUD%'\").show()\n",
    "#spark.sql(\"select *  from libsdf.jab_soc_2023_inom where RUT_SOCIEDAD LIKE 'Qbau/6SlJ/lEcKUD%'\").show()"
   ]
  },
  {
   "cell_type": "markdown",
   "id": "914e915a-2281-4957-95c7-657f0dbf3a31",
   "metadata": {},
   "source": [
    "## Tablas temporales previo a la ejecucion"
   ]
  },
  {
   "cell_type": "code",
   "execution_count": null,
   "id": "2861de7d-f5ac-4d09-8959-4b06c08ad913",
   "metadata": {
    "tags": []
   },
   "outputs": [],
   "source": [
    "spark.sql(\"select RUT_SOCIEDAD, RUT_SOCIO from sociedad order by RUT_SOCIEDAD asc\").createOrReplaceTempView(\"sociedad\")\n",
    "spark.sql(\"select RUT_SOCIEDAD as RUT_SOCIEDAD_AUX ,RUT_SOCIO as RUT_SOCIO_AUX from sociedad order by RUT_SOCIEDAD asc\").createOrReplaceTempView(\"aux\")\n",
    "#spark.sql(\"select RUT_SOCIEDAD, COUNT(*) AS F from sociedad group by RUT_SOCIEDAD ORDER BY F DESC\").show()\n",
    "\n"
   ]
  },
  {
   "cell_type": "markdown",
   "id": "3b15b629-e6f8-480c-b993-b6f65d924ab6",
   "metadata": {},
   "source": [
    "## Calculo de arbol de socios naturales"
   ]
  },
  {
   "cell_type": "code",
   "execution_count": null,
   "id": "568187f1-5c2d-4f07-86e2-f44fd4773719",
   "metadata": {
    "tags": []
   },
   "outputs": [],
   "source": [
    "\n",
    "for a in range (1,10):\n",
    "    spark.sql(\"select * from sociedad left join aux on sociedad.RUT_SOCIO=aux.RUT_SOCIEDAD_AUX \").createOrReplaceTempView(\"sociedad\")\n",
    "    spark.sql(\"select * from sociedad order by RUT_SOCIEDAD_AUX desc\").createOrReplaceTempView(\"sociedad\")\n",
    "#    spark.sql(\"select * from sociedad\").show()\n",
    "    spark.sql(\"select RUT_SOCIEDAD, CASE WHEN RUT_SOCIEDAD_AUX is null then RUT_SOCIO else RUT_SOCIO_AUX END AS RUT_SOCIO from sociedad  order by RUT_SOCIEDAD_AUX desc\").createOrReplaceTempView(\"sociedad\")\n",
    "#    spark.sql(\"select * from sociedad\").show()\n",
    "#    spark.sql(\"select RUT_SOCIEDAD, COUNT(*) as d from sociedad GROUP BY RUT_SOCIEDAD order by d desc \").show()"
   ]
  },
  {
   "cell_type": "code",
   "execution_count": null,
   "id": "b98121cf-2942-4b9d-97bf-9957fcc42fdb",
   "metadata": {
    "tags": []
   },
   "outputs": [],
   "source": [
    "oscuridad=spark.sql(\"select * from libsdf.jab_materia_inom\")\n",
    "oscuridad.createOrReplaceTempView(\"oscuridad\")\n",
    "spark.sql(\"select RUT_SOCIEDAD, CONT_RUT from sociedad left join oscuridad on sociedad.RUT_SOCIO=oscuridad.CONT_RUT \").createOrReplaceTempView(\"socios_final\")"
   ]
  },
  {
   "cell_type": "markdown",
   "id": "70bf7cf4-dcc5-4ebe-90e7-37eab62d34cf",
   "metadata": {},
   "source": [
    "## Sociedades por persona natural"
   ]
  },
  {
   "cell_type": "markdown",
   "id": "8b448a69-a76f-4c30-a84b-79e4a2b32975",
   "metadata": {},
   "source": [
    "Tambien obtendremos un output que nos permita establecer cuanta sociedades esta relacionado con cada uno de las personas naturales relacionadas."
   ]
  },
  {
   "cell_type": "code",
   "execution_count": null,
   "id": "8606b5ad-c67b-48a4-837c-7dbf6a4666a8",
   "metadata": {
    "tags": []
   },
   "outputs": [],
   "source": [
    "sociedades_por_socio=spark.sql(\"select CONT_RUT, count(RUT_SOCIEDAD) as SOCIEDADES_RELACIONADAS from socios_final where CONT_RUT is not null group by CONT_RUT order by SOCIEDADES_RELACIONADAS DESC\").toPandas()\n",
    "sociedades_por_socio.to_csv('artefactos/Familiaridad/sociedades_por_socio.csv', index=False)"
   ]
  },
  {
   "cell_type": "code",
   "execution_count": null,
   "id": "5007e38f-8e60-4f29-a32b-13757f105fb6",
   "metadata": {},
   "outputs": [],
   "source": [
    "spark.sql(\"select RUT_SOCIEDAD, COUNT(*) AS NONULOS from socios_final where CONT_RUT is not null group by RUT_SOCIEDAD \").createOrReplaceTempView(\"nonulos\")\n",
    "spark.sql(\"select RUT_SOCIEDAD, COUNT(*) AS TOTAL from socios_final group by RUT_SOCIEDAD \").createOrReplaceTempView(\"total\")\n",
    "\n",
    "spark.sql(\"select  total.RUT_SOCIEDAD as RUT_SOCIEDAD, TOTAL, NONULOS from total left join nonulos on total.RUT_SOCIEDAD=nonulos.RUT_SOCIEDAD\").createOrReplaceTempView(\"final\")"
   ]
  },
  {
   "cell_type": "code",
   "execution_count": null,
   "id": "88b21759-949e-4e13-a93e-2de3982f5f52",
   "metadata": {},
   "outputs": [],
   "source": [
    "spark.sql(\"select count(distinct(RUT_SOCIEDAD)) from final\").show()"
   ]
  },
  {
   "cell_type": "markdown",
   "id": "6783c5cb-01f5-4af1-87a8-48cd583619da",
   "metadata": {},
   "source": [
    "Trabajaremos con las sociedades que en su arbol relacional contienen todas sus personas naturales completas y con un numero total de personas naturales conectadas menor que 100."
   ]
  },
  {
   "cell_type": "code",
   "execution_count": null,
   "id": "3a3a8c52-ac3f-4f08-bffa-51b07f08f6ff",
   "metadata": {
    "tags": []
   },
   "outputs": [],
   "source": [
    "spark.sql(\"select socios_final.RUT_SOCIEDAD, CONT_RUT as RUT_SOCIO from socios_final left join final on socios_final.RUT_SOCIEDAD=final.RUT_SOCIEDAD where TOTAL=NONULOS AND TOTAL<100 ORDER BY TOTAL desc\").createOrReplaceTempView(\"final\")"
   ]
  },
  {
   "cell_type": "markdown",
   "id": "35879208-8a08-4e30-9215-aabde656a08b",
   "metadata": {},
   "source": [
    "## Combinatoria de pool de socios"
   ]
  },
  {
   "cell_type": "markdown",
   "id": "b380734d-e9f6-4e30-8210-26a37f4abd00",
   "metadata": {},
   "source": [
    "A continuacion, se hace un auto join con el fin de obtener todas las combinaciones posibles entre socios diferentes para comparar con las relaciones familiares. Luego de ello se concatenan los socios para establecer un codigo especifico para cada combinacion de ello."
   ]
  },
  {
   "cell_type": "code",
   "execution_count": null,
   "id": "26342fed-703a-4ac9-90c4-e497c05ccbb3",
   "metadata": {},
   "outputs": [],
   "source": [
    "spark.sql(\"select t1.RUT_SOCIEDAD, t1.RUT_SOCIO AS RUT_SOCIO_1, t2.RUT_SOCIO AS RUT_SOCIO_2 FROM final AS t1 JOIN final AS t2 ON t1.RUT_SOCIEDAD = t2.RUT_SOCIEDAD  WHERE t1.RUT_SOCIO<>t2.RUT_SOCIO\").createOrReplaceTempView(\"final\")\n",
    "spark.sql(\"select RUT_SOCIEDAD, RUT_SOCIO_1,RUT_SOCIO_2,RUT_SOCIO_1||RUT_SOCIO_2 as key from final\").createOrReplaceTempView(\"final\")\n"
   ]
  },
  {
   "cell_type": "markdown",
   "id": "05025a00-5be3-4b14-a0fb-1f42f3c7d869",
   "metadata": {},
   "source": [
    "## Exploracion, limpieza y ampliacion de  data de relaciones familiares"
   ]
  },
  {
   "cell_type": "markdown",
   "id": "676cea1c-f884-4b71-a71a-6201e3c3ca34",
   "metadata": {},
   "source": [
    "A continuacion se obtiene el archivo de relaciones familiares que permitira obtener las relaciones entre socios y comparar con los datos de composicion de sociedades. En este archivo hay diferentes relaciones familiares. Veamos cuales hay:"
   ]
  },
  {
   "cell_type": "code",
   "execution_count": null,
   "id": "147e6908-3321-40a3-a5a6-3e0b0a790aea",
   "metadata": {
    "tags": []
   },
   "outputs": [],
   "source": [
    "spark.read.parquet(\"abfs://data@datalakesii.dfs.core.windows.net/DatosOrigen/LibSDF/REL_FAMILIARES_AARI_EH\").createOrReplaceTempView(\"familiar\")\n",
    "spark.sql(\"SELECT TIPO_RELACION, count(*) FROM familiar group by TIPO_RELACION\").show()\n",
    "spark.sql(\"SELECT count(*) from familiar\").show()"
   ]
  },
  {
   "cell_type": "code",
   "execution_count": null,
   "id": "d29a62ef-0486-497c-ac6f-ccb5024b466c",
   "metadata": {},
   "outputs": [],
   "source": [
    "spark.sql(\"SELECT CONT_RUT, count(*) as c FROM familiar group by CONT_RUT order by c desc\").show()"
   ]
  },
  {
   "cell_type": "markdown",
   "id": "0fb91a8b-ff7b-4cbc-a97a-235a28bb07e8",
   "metadata": {},
   "source": [
    "A continuacion se toman en cuenta solo una vez los datos repetidos y no consideramos las relaciones donde CONT_RUT sea igual a RUT_FAM."
   ]
  },
  {
   "cell_type": "code",
   "execution_count": null,
   "id": "b91481f9-0ed4-4801-9ee9-7731055c6d9b",
   "metadata": {
    "tags": []
   },
   "outputs": [],
   "source": [
    "spark.sql(\"select CONT_RUT,RUT_FAM,COUNT(*) as c from familiar where CONT_RUT!=RUT_FAM group by CONT_RUT,RUT_FAM order by c desc \").createOrReplaceTempView(\"familiar\")\n",
    "spark.sql(\"select CONT_RUT,RUT_FAM from familiar\").createOrReplaceTempView(\"familiar\")"
   ]
  },
  {
   "cell_type": "markdown",
   "id": "2749c6b8-803b-4f0d-a5ee-558f45a50a5b",
   "metadata": {},
   "source": [
    "Duplicamos la data e invertimos las relaciones porque la familiariedad es bidireccional."
   ]
  },
  {
   "cell_type": "code",
   "execution_count": null,
   "id": "4ac38ef7-5bc1-48b4-89cd-a40fde25624f",
   "metadata": {},
   "outputs": [],
   "source": [
    "#spark.sql(\"select CONT_RUT as RUT_FAM,RUT_FAM as CONT_RUT from familiar\").createOrReplaceTempView(\"familiar2\")\n",
    "#spark.sql(\"SELECT * FROM familiar UNION ALL SELECT * FROM familiar2\").createOrReplaceTempView(\"familiar\")"
   ]
  },
  {
   "cell_type": "code",
   "execution_count": null,
   "id": "fb8b5547-1fe1-4963-ac8e-21b799c0d328",
   "metadata": {
    "tags": []
   },
   "outputs": [],
   "source": [
    "spark.sql(\"select CONT_RUT, RUT_FAM,count(*) AS C from familiar GROUP BY CONT_RUT, RUT_FAM ORDER BY C DESC\").createOrReplaceTempView(\"familiar\")\n",
    "spark.sql(\"select  CONT_RUT || RUT_FAM  as key from familiar\").createOrReplaceTempView(\"familiar\")\n"
   ]
  },
  {
   "cell_type": "markdown",
   "id": "7b288b91-e1fa-438e-bf13-cb6602b4fed3",
   "metadata": {},
   "source": [
    "## Cruce de relaciones familiares calculadas con pool de socios por sociedad"
   ]
  },
  {
   "cell_type": "code",
   "execution_count": null,
   "id": "ed6e40ea-955b-4590-8f69-9028cf51a5dd",
   "metadata": {
    "tags": []
   },
   "outputs": [],
   "source": [
    "spark.sql(\"select RUT_SOCIEDAD,RUT_SOCIO_1, RUT_SOCIO_2, familiar.key as FAMILIAR_KEY from final left join familiar on final.key= familiar.key order by RUT_SOCIEDAD\").createOrReplaceTempView(\"relaciones\")"
   ]
  },
  {
   "cell_type": "markdown",
   "id": "f26bd418-40d6-4c78-80b8-eb7ff76c81c5",
   "metadata": {},
   "source": [
    "Lo que haremos a continuacion es obtener los valores unicos de socios que si tienen relaciones, que son los distintos valores de RUT_SOCIO que tienen FAMILIAR_KEY no nulo."
   ]
  },
  {
   "cell_type": "code",
   "execution_count": null,
   "id": "074c4466-00a2-4268-93b7-0bec9c766dd6",
   "metadata": {
    "tags": []
   },
   "outputs": [],
   "source": [
    "spark.sql(\"select RUT_SOCIEDAD,COUNT(DISTINCT(RUT_SOCIO_1)) AS FAMILIARES from relaciones WHERE FAMILIAR_KEY IS NOT NULL GROUP BY RUT_SOCIEDAD\").createOrReplaceTempView(\"socios_familia\")\n",
    "spark.sql(\"select socios_familia.RUT_SOCIEDAD, FAMILIARES, TOTAL  from socios_familia left join total on socios_familia.RUT_SOCIEDAD=total.RUT_SOCIEDAD\").createOrReplaceTempView(\"socios_familia\")\n"
   ]
  },
  {
   "cell_type": "code",
   "execution_count": null,
   "id": "b99f6f3e-b685-4473-93aa-849aec274742",
   "metadata": {},
   "outputs": [],
   "source": [
    "## Calculo final de metrica asociadaa familiaridad. Explicacion y "
   ]
  },
  {
   "cell_type": "code",
   "execution_count": null,
   "id": "f012f455-e7c0-496c-8e86-557de95ee302",
   "metadata": {},
   "outputs": [],
   "source": [
    "spark.sql(\"select  RUT_SOCIEDAD, FAMILIARES, TOTAL, FAMILIARES/TOTAL*100 as TASA_FAMILIARIDAD from socios_familia\").toPandas().to_csv('artefactos/Familiaridad/familiaridad.csv', index=False)"
   ]
  },
  {
   "cell_type": "code",
   "execution_count": null,
   "id": "b212f316-26b7-4fc7-a9cc-1b3d853ac9c5",
   "metadata": {
    "tags": []
   },
   "outputs": [],
   "source": [
    "#a.write.csv(\"familiar_output.csv\")"
   ]
  },
  {
   "cell_type": "code",
   "execution_count": null,
   "id": "54b16c04-ec37-4a1f-986d-7bb9d7a84693",
   "metadata": {},
   "outputs": [],
   "source": []
  }
 ],
 "metadata": {
  "kernelspec": {
   "display_name": "Python 3 (ipykernel)",
   "language": "python",
   "name": "python3"
  },
  "language_info": {
   "codemirror_mode": {
    "name": "ipython",
    "version": 3
   },
   "file_extension": ".py",
   "mimetype": "text/x-python",
   "name": "python",
   "nbconvert_exporter": "python",
   "pygments_lexer": "ipython3",
   "version": "3.7.16"
  }
 },
 "nbformat": 4,
 "nbformat_minor": 5
}
